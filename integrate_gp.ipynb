{
 "cells": [
  {
   "cell_type": "code",
   "execution_count": null,
   "metadata": {},
   "outputs": [],
   "source": [
    "from utils.molec_class_files import r14, r32, r50, r125, r134a, r143a, r170, r41, r23, r161, r152a, r152, r134, r143, r116\n",
    "from utils import atom_type, opt_atom_types\n",
    "import numpy as np\n",
    "import unyt as u\n",
    "import pandas as pd\n",
    "from fffit.fffit.utils import values_real_to_scaled, values_scaled_to_real, variances_scaled_to_real, generate_lhs\n",
    "from fffit.fffit.plot import plot_obj_contour\n",
    "import os"
   ]
  },
  {
   "cell_type": "code",
   "execution_count": null,
   "metadata": {},
   "outputs": [],
   "source": [
    "import scipy \n",
    "import os\n",
    "repeats = 1\n",
    "seed = 1\n",
    "#Get obj from a set of parameters\n",
    "at_class = 11\n",
    "save_data = False\n",
    "obj_choice = \"ExpVal\"\n",
    "obj_choice_p = \"ExpValPrior\"\n",
    "molec_names = [\"R14\", \"R32\", \"R50\", \"R125\", \"R134a\", \"R143a\", \"R170\"]\n",
    "at_optimizer =  opt_atom_types.Opt_ATs(molec_names, at_class, repeats, seed, obj_choice_p)\n",
    "# visual = opt_atom_types.Vis_Results(molec_data_dict, all_gp_dict, at_class, obj_choice)\n",
    "# visual.check_GPs()\n",
    "setup = opt_atom_types.Problem_Setup(molec_names, at_class, obj_choice)\n",
    "all_molec_dir = setup.use_dir_name\n",
    "all_df = pd.read_csv(all_molec_dir /\"best_per_run.csv\", header = 0)\n",
    "sorted_df = all_df.sort_values(by='Min Obj', ascending = True).reset_index(drop = True)\n",
    "first_param_name = setup.at_class.at_names[0] + \"_min\"\n",
    "last_param_name = setup.at_class.at_names[-1] + \"_min\"\n",
    "best_pref = all_df.loc[0, first_param_name:last_param_name].values\n",
    "best_real= at_optimizer.values_pref_to_real(best_pref)\n",
    "# best_real = generate_lhs(1, at_optimizer.at_class.at_bounds_nm_kjmol, at_optimizer.seed, labels = None)\n",
    "obj = at_optimizer.calc_obj(best_real)\n",
    "print(obj[0])\n",
    "\n",
    "# #Get Jac and Hess info from a set of parameters\n",
    "# dir_name = at_optimizer.make_results_dir(list(at_optimizer.molec_data_dict.keys()))\n",
    "# save_path = os.path.join(dir_name, \"best_set\" + \"_jac_approx.npy\")\n",
    "# hess = np.load(save_path)\n",
    "# print(hess)\n",
    "# jac = at_optimizer.approx_jac(best_real)\n",
    "# hess = at_optimizer.approx_hess(best_real)\n",
    "# print(scipy.linalg.norm(jac, ord = np.inf))\n",
    "# print(jac)\n",
    "# print(hess)\n",
    "# eigval, eigvec = scipy.linalg.eig(hess)\n",
    "# print(eigval)"
   ]
  },
  {
   "cell_type": "code",
   "execution_count": null,
   "metadata": {},
   "outputs": [],
   "source": []
  }
 ],
 "metadata": {
  "kernelspec": {
   "display_name": "Python 3 (ipykernel)",
   "language": "python",
   "name": "python3"
  },
  "language_info": {
   "codemirror_mode": {
    "name": "ipython",
    "version": 3
   },
   "file_extension": ".py",
   "mimetype": "text/x-python",
   "name": "python",
   "nbconvert_exporter": "python",
   "pygments_lexer": "ipython3",
   "version": "3.11.7"
  }
 },
 "nbformat": 4,
 "nbformat_minor": 4
}
