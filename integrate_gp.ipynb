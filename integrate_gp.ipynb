{
 "cells": [
  {
   "cell_type": "code",
   "execution_count": 1,
   "metadata": {},
   "outputs": [
    {
     "name": "stderr",
     "output_type": "stream",
     "text": [
      "2024-02-09 16:43:19.432923: I external/local_tsl/tsl/cuda/cudart_stub.cc:31] Could not find cuda drivers on your machine, GPU will not be used.\n",
      "2024-02-09 16:43:19.489299: E external/local_xla/xla/stream_executor/cuda/cuda_dnn.cc:9261] Unable to register cuDNN factory: Attempting to register factory for plugin cuDNN when one has already been registered\n",
      "2024-02-09 16:43:19.489345: E external/local_xla/xla/stream_executor/cuda/cuda_fft.cc:607] Unable to register cuFFT factory: Attempting to register factory for plugin cuFFT when one has already been registered\n",
      "2024-02-09 16:43:19.491181: E external/local_xla/xla/stream_executor/cuda/cuda_blas.cc:1515] Unable to register cuBLAS factory: Attempting to register factory for plugin cuBLAS when one has already been registered\n",
      "2024-02-09 16:43:19.501066: I external/local_tsl/tsl/cuda/cudart_stub.cc:31] Could not find cuda drivers on your machine, GPU will not be used.\n",
      "2024-02-09 16:43:19.502121: I tensorflow/core/platform/cpu_feature_guard.cc:182] This TensorFlow binary is optimized to use available CPU instructions in performance-critical operations.\n",
      "To enable the following instructions: AVX2 FMA, in other operations, rebuild TensorFlow with the appropriate compiler flags.\n",
      "2024-02-09 16:43:20.857706: W tensorflow/compiler/tf2tensorrt/utils/py_utils.cc:38] TF-TRT Warning: Could not find TensorRT\n"
     ]
    }
   ],
   "source": [
    "from utils import r14, r32, r50, r125, r134a, r143a, r170, atom_type, opt_atom_types\n",
    "import numpy as np\n",
    "import unyt as u"
   ]
  },
  {
   "cell_type": "code",
   "execution_count": 2,
   "metadata": {},
   "outputs": [],
   "source": [
    "#Load class properies for each molecule\n",
    "r14 = r14.R14Constants()\n",
    "r32 = r32.R32Constants()\n",
    "r50 = r50.R50Constants()\n",
    "r125 = r125.R125Constants()\n",
    "r134a = r134a.R134aConstants()\n",
    "r143a = r143a.R143aConstants()\n",
    "r170 = r170.R170Constants()"
   ]
  },
  {
   "cell_type": "code",
   "execution_count": 6,
   "metadata": {},
   "outputs": [
    {
     "name": "stdout",
     "output_type": "stream",
     "text": [
      "sim_liq_density\n",
      "[[3.72700000e-01 2.56900000e-01 5.96396370e-01 3.76645135e-02\n",
      "  1.30000000e+02]\n",
      " [3.72700000e-01 2.56900000e-01 5.96396370e-01 3.76645135e-02\n",
      "  1.50000000e+02]\n",
      " [3.72700000e-01 2.56900000e-01 5.96396370e-01 3.76645135e-02\n",
      "  1.70000000e+02]\n",
      " [3.72700000e-01 2.56900000e-01 5.96396370e-01 3.76645135e-02\n",
      "  1.90000000e+02]\n",
      " [3.72700000e-01 2.56900000e-01 5.96396370e-01 3.76645135e-02\n",
      "  2.10000000e+02]]\n",
      "[-352.72885319 -406.02297708 -459.31710097 -512.61122486 -565.90534876]\n",
      "[1681.5 1576.8 1461.2 1325.3 1142.5]\n",
      "sim_vap_density\n",
      "[[3.72700000e-01 2.56900000e-01 5.96396370e-01 3.76645135e-02\n",
      "  1.30000000e+02]\n",
      " [3.72700000e-01 2.56900000e-01 5.96396370e-01 3.76645135e-02\n",
      "  1.50000000e+02]\n",
      " [3.72700000e-01 2.56900000e-01 5.96396370e-01 3.76645135e-02\n",
      "  1.70000000e+02]\n",
      " [3.72700000e-01 2.56900000e-01 5.96396370e-01 3.76645135e-02\n",
      "  1.90000000e+02]\n",
      " [3.72700000e-01 2.56900000e-01 5.96396370e-01 3.76645135e-02\n",
      "  2.10000000e+02]]\n",
      "[ 713.97459624  820.31239639  926.65019654 1032.98799669 1139.32579684]\n",
      "[  2.5091  10.432   30.641   74.361  169.76  ]\n",
      "sim_Pvap\n",
      "[[3.72700000e-01 2.56900000e-01 5.96396370e-01 3.76645135e-02\n",
      "  1.30000000e+02]\n",
      " [3.72700000e-01 2.56900000e-01 5.96396370e-01 3.76645135e-02\n",
      "  1.50000000e+02]\n",
      " [3.72700000e-01 2.56900000e-01 5.96396370e-01 3.76645135e-02\n",
      "  1.70000000e+02]\n",
      " [3.72700000e-01 2.56900000e-01 5.96396370e-01 3.76645135e-02\n",
      "  1.90000000e+02]\n",
      " [3.72700000e-01 2.56900000e-01 5.96396370e-01 3.76645135e-02\n",
      "  2.10000000e+02]]\n",
      "[449.52920739 517.22682368 584.92443997 652.62205626 720.31967255]\n",
      "[ 0.30392  1.412    4.4054  10.663   21.864  ]\n",
      "sim_Hvap\n",
      "[[3.72700000e-01 2.56900000e-01 5.96396370e-01 3.76645135e-02\n",
      "  1.30000000e+02]\n",
      " [3.72700000e-01 2.56900000e-01 5.96396370e-01 3.76645135e-02\n",
      "  1.50000000e+02]\n",
      " [3.72700000e-01 2.56900000e-01 5.96396370e-01 3.76645135e-02\n",
      "  1.70000000e+02]\n",
      " [3.72700000e-01 2.56900000e-01 5.96396370e-01 3.76645135e-02\n",
      "  1.90000000e+02]\n",
      " [3.72700000e-01 2.56900000e-01 5.96396370e-01 3.76645135e-02\n",
      "  2.10000000e+02]]\n",
      "[-458.02686712 -526.86307894 -595.69929075 -664.53550257 -733.37171439]\n",
      "[142.   131.72 118.77 101.5   75.63]\n"
     ]
    }
   ],
   "source": [
    "#Get dict of refrigerant classes to consider\n",
    "repeats = 1\n",
    "molec_data_dict = {\"R50\":r14} #, \"R14\": r14, \"R32\":r32, \"R50\":r50, \"R170\":r170, \"R125\":r125, \"R134a\":r134a, \"R143a\":r143a\n",
    "all_gp_dict = opt_atom_types.get_gp_data_from_pkl(list(molec_data_dict.keys()))\n",
    "at_class = atom_type.AT_Scheme_7()\n",
    "\n",
    "#True for R14\n",
    "# test_param = np.array([3.490, 3.490, 2, 2.917, 2.917, 2.917, 36.24, 36.24, 3.0, 29.07, 29.07, 29.07])\n",
    "#R50\n",
    "test_param = np.array([float((3.727 * u.Angstrom).in_units(u.nm).value), \n",
    "                       float((3.727 * u.Angstrom).in_units(u.nm).value),\n",
    "                       float((2.569 * u.Angstrom).in_units(u.nm).value),\n",
    "                       float((3.0 * u.Angstrom).in_units(u.nm).value),\n",
    "                       float((3.0 * u.Angstrom).in_units(u.nm).value),\n",
    "                       float((3.0 * u.Angstrom).in_units(u.nm).value),\n",
    "                       float((71.73 * u.K * u.kb).in_units(\"kJ/mol\").value),\n",
    "                       float((71.73 * u.K * u.kb).in_units(\"kJ/mol\").value),\n",
    "                       float((4.53 * u.K * u.kb).in_units(\"kJ/mol\").value),\n",
    "                       float((25.0 * u.K * u.kb).in_units(\"kJ/mol\").value),\n",
    "                       float((25.0 * u.K * u.kb).in_units(\"kJ/mol\").value),\n",
    "                       float((25.0 * u.K * u.kb).in_units(\"kJ/mol\").value)])\n",
    "\n",
    "#Need to know (Units of input for gps, units of outputs for GPs)\n",
    "param_matrix = at_class.get_transformation_matrix(\"R50\")\n",
    "#Get GPs associated with each molecule\n",
    "molec_gps_dict = all_gp_dict[\"R50\"]\n",
    "#Loop over gps (1 per property)\n",
    "for key in list(molec_gps_dict.keys()):\n",
    "    print(key)\n",
    "    exp_data = opt_atom_types.get_exp_data(molec_data_dict, key, \"R50\")\n",
    "    x_exp = np.array(list(exp_data.keys())).reshape(-1,1)\n",
    "    y_exp = np.array(list(exp_data.values()))\n",
    "    #Get GP associated with property\n",
    "    gp_model = molec_gps_dict[key]\n",
    "    gp_mean, gp_std = opt_atom_types.eval_gp_new_theta(test_param, param_matrix, gp_model, x_exp)\n",
    "    print(gp_mean)\n",
    "    print(y_exp)\n",
    "# ls_results = opt_atom_types.optimize_ats(repeats, at_class, molec_data_dict, all_gp_dict, False, 1)\n",
    "# ls_results"
   ]
  },
  {
   "cell_type": "code",
   "execution_count": null,
   "metadata": {},
   "outputs": [],
   "source": []
  }
 ],
 "metadata": {
  "kernelspec": {
   "display_name": "atom_type",
   "language": "python",
   "name": "python3"
  },
  "language_info": {
   "codemirror_mode": {
    "name": "ipython",
    "version": 3
   },
   "file_extension": ".py",
   "mimetype": "text/x-python",
   "name": "python",
   "nbconvert_exporter": "python",
   "pygments_lexer": "ipython3",
   "version": "3.11.7"
  }
 },
 "nbformat": 4,
 "nbformat_minor": 2
}
