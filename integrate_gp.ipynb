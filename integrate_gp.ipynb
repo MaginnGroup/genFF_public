{
 "cells": [
  {
   "cell_type": "code",
   "execution_count": 1,
   "metadata": {},
   "outputs": [
    {
     "name": "stderr",
     "output_type": "stream",
     "text": [
      "2024-04-16 11:03:16.231232: I external/local_tsl/tsl/cuda/cudart_stub.cc:31] Could not find cuda drivers on your machine, GPU will not be used.\n",
      "2024-04-16 11:03:17.159214: E external/local_xla/xla/stream_executor/cuda/cuda_dnn.cc:9261] Unable to register cuDNN factory: Attempting to register factory for plugin cuDNN when one has already been registered\n",
      "2024-04-16 11:03:17.159357: E external/local_xla/xla/stream_executor/cuda/cuda_fft.cc:607] Unable to register cuFFT factory: Attempting to register factory for plugin cuFFT when one has already been registered\n",
      "2024-04-16 11:03:17.261323: E external/local_xla/xla/stream_executor/cuda/cuda_blas.cc:1515] Unable to register cuBLAS factory: Attempting to register factory for plugin cuBLAS when one has already been registered\n",
      "2024-04-16 11:03:17.491844: I external/local_tsl/tsl/cuda/cudart_stub.cc:31] Could not find cuda drivers on your machine, GPU will not be used.\n",
      "2024-04-16 11:03:17.495696: I tensorflow/core/platform/cpu_feature_guard.cc:182] This TensorFlow binary is optimized to use available CPU instructions in performance-critical operations.\n",
      "To enable the following instructions: AVX2 FMA, in other operations, rebuild TensorFlow with the appropriate compiler flags.\n",
      "2024-04-16 11:03:28.452428: W tensorflow/compiler/tf2tensorrt/utils/py_utils.cc:38] TF-TRT Warning: Could not find TensorRT\n"
     ]
    }
   ],
   "source": [
    "from utils import r14, r32, r50, r125, r134a, r143a, r170, atom_type, opt_atom_types\n",
    "import numpy as np\n",
    "import unyt as u\n",
    "import pandas as pd\n",
    "from fffit.fffit.utils import values_real_to_scaled, values_scaled_to_real, variances_scaled_to_real\n",
    "from fffit.fffit.plot import plot_obj_contour"
   ]
  },
  {
   "cell_type": "code",
   "execution_count": 2,
   "metadata": {},
   "outputs": [],
   "source": [
    "#Load class properies for each molecule\n",
    "r14_class = r14.R14Constants()\n",
    "r32_class = r32.R32Constants()\n",
    "r50_class = r50.R50Constants()\n",
    "r125_class = r125.R125Constants()\n",
    "r134a_class = r134a.R134aConstants()\n",
    "r143a_class = r143a.R143aConstants()\n",
    "r170_class = r170.R170Constants()"
   ]
  },
  {
   "cell_type": "code",
   "execution_count": null,
   "metadata": {},
   "outputs": [],
   "source": [
    "molec_data_dict = {\"R14\":r14_class, \"R32\":r32_class, \"R50\":r50_class, \"R170\":r170_class, \"R125\":r125_class, \"R134a\":r134a_class, \"R143a\":r143a_class}\n",
    "df = pd.DataFrame(columns = [\"Molecule\", \"Property\", \"Value\", \"Uncertainty\", \"Weight\"])\n",
    "for key in list(molec_data_dict.keys()):\n",
    "    molec_object = molec_data_dict[key]\n",
    "    for prop_key in list(molec_object.uncertainties.keys()):\n",
    "        if \"vap_density\" in prop_key:\n",
    "            exp_data = molec_object.expt_vap_density\n",
    "            property_bounds = molec_object.vap_density_bounds\n",
    "            property_name = \"Vapor Density [kg/m^3]\"\n",
    "        elif \"liq_density\" in prop_key:\n",
    "            exp_data = molec_object.expt_liq_density\n",
    "            property_bounds = molec_object.liq_density_bounds\n",
    "            property_name = \"Liquid Density [kg/m^3]\"\n",
    "        elif \"Pvap\" in prop_key: \n",
    "            exp_data = molec_object.expt_Pvap\n",
    "            property_bounds = molec_object.Pvap_bounds\n",
    "            property_name = \"Vapor pressure [bar]\"\n",
    "        elif \"Hvap\" in prop_key:\n",
    "            exp_data = molec_object.expt_Hvap\n",
    "            property_bounds = molec_object.Hvap_bounds\n",
    "            property_name = \"Enthalpy of Vaporization [kJ/kg]\"\n",
    "\n",
    "        values = np.array(list(exp_data.values()))\n",
    "        y_unc = molec_object.uncertainties[prop_key]\n",
    "        weight_unc = 1/(y_unc*values)**2\n",
    "        weight_2pct = 1/(0.02*values)**2\n",
    "        weight = np.maximum(weight_unc, weight_2pct)\n",
    "        df_vals = [key, prop_key, values, y_unc, weight]\n",
    "        iter_df = pd.DataFrame([df_vals], columns = df.columns)\n",
    "        iter_df = iter_df.apply(lambda col: col.explode(), axis=0).reset_index(drop=True).copy(deep =True)\n",
    "        df = pd.concat([df, iter_df], ignore_index=True)\n",
    "# df.to_csv(\"molecule_exp_unc_data.csv\", index = False, header = True)"
   ]
  },
  {
   "cell_type": "code",
   "execution_count": null,
   "metadata": {},
   "outputs": [],
   "source": [
    "repeats = 1\n",
    "seed = 1\n",
    "save_data = False\n",
    "w_calc = 2\n",
    "obj_choice = \"ExpVal\"\n",
    "at_class = atom_type.AT_Scheme_9()\n",
    "# molec_data_dict = {\"R125\":r125_class}\n",
    "# pm = at_class.get_transformation_matrix(molec_data_dict)\n",
    "# print(pm)\n",
    "# theta_paper = np.array([3.599044551, 3.861,\t4.00,\t1.816694298,\t2.957368125,\t2.878,\t2.997,\t\n",
    "#                         56.52939454,\t47.523,\t75.000,\t5.134160772,\t37.41538957,\t50.0, 50.0])\n",
    "# t_paper = theta_paper.reshape(-1,1).T@pm\n",
    "# print(t_paper)"
   ]
  },
  {
   "cell_type": "code",
   "execution_count": null,
   "metadata": {},
   "outputs": [],
   "source": [
    "# molec_data_dict = {\"R14\":r14_class, \"R32\":r32_class, \"R50\":r50_class, \"R170\":r170_class, \"R125\":r125_class, \"R134a\":r134a_class, \"R143a\":r143a_class}\n",
    "molec_data_dict = {\"R125\":r125_class}\n",
    "all_gp_dict = opt_atom_types.get_gp_data_from_pkl(list(molec_data_dict.keys()))\n",
    "visual = opt_atom_types.Vis_Results(molec_data_dict, all_gp_dict, at_class, w_calc, obj_choice, save_data)\n",
    "molec_names = list([\"R14\", \"R32\", \"R50\", \"R170\", \"R143a\"])\n",
    "visual.comp_paper_full_ind(molec_names)"
   ]
  },
  {
   "cell_type": "code",
   "execution_count": null,
   "metadata": {},
   "outputs": [],
   "source": [
    "molec_data_dict = {\"R32\":r32_class}\n",
    "all_gp_dict = opt_atom_types.get_gp_data_from_pkl(list(molec_data_dict.keys()))\n",
    "at_optimizer =  opt_atom_types.Opt_ATs(molec_data_dict, all_gp_dict, at_class, repeats, seed, w_calc, obj_choice, save_data)\n",
    "best_pref = np.array([3.599044551, 3.861,\t4.00,\t1.816694298,\t2.957368125,\t2.878,\t2.997,\t\n",
    "                        56.52939454,\t47.523,\t75.000,\t5.134160772,\t37.41538957,\t50.0, 50.0])\n",
    "best_real= at_optimizer.values_pref_to_real(best_pref)\n",
    "obj = at_optimizer.calc_obj(best_real)\n",
    "print(obj[0])\n",
    "# jac, hess = at_optimizer.approx_jac_hess(best_real)\n",
    "# print(scipy.linalg.norm(jac, ord = np.inf))"
   ]
  },
  {
   "cell_type": "code",
   "execution_count": null,
   "metadata": {},
   "outputs": [],
   "source": [
    "molec = \"R32\"\n",
    "molec_data_dict = {molec:r32_class} #, \"R32\":r32_class, \"R50\":r50_class, \"R170\":r170_class, \"R125\":r125_class, \"R134a\":r134a_class, \"R143a\":r143a_class}\n",
    "all_gp_dict = opt_atom_types.get_gp_data_from_pkl(list(molec_data_dict.keys()))\n",
    "# all_gp_dict = {\"R14\" : {list(all_gp_dict[\"R14\"].keys())[0]: list(all_gp_dict[\"R14\"].values())[0]}}\n",
    "# all_gp_dict = {molec : all_gp_dict[molec]}\n",
    "at_optimizer =  opt_atom_types.Opt_ATs(molec_data_dict, all_gp_dict, at_class, repeats, seed, w_calc, obj_choice, save_data)\n",
    "ls_results = at_optimizer.optimize_ats()\n",
    "ls_results"
   ]
  },
  {
   "cell_type": "code",
   "execution_count": null,
   "metadata": {},
   "outputs": [],
   "source": [
    "first_param_name = at_optimizer.at_class.at_names[0] + \"_min\"\n",
    "last_param_name = at_optimizer.at_class.at_names[-1] + \"_min\"\n",
    "molec_best = ls_results.loc[21, first_param_name:last_param_name].values\n",
    "print(molec_best)"
   ]
  },
  {
   "cell_type": "code",
   "execution_count": null,
   "metadata": {},
   "outputs": [],
   "source": [
    "# Determine the index of the row where column 'B' has the minimum value\n",
    "min_index = ls_results['Min Obj Cum.'].idxmin()\n",
    "\n",
    "# Retrieve the row corresponding to the minimum value in column 'B'\n",
    "min_row = ls_results.iloc[min_index]\n",
    "print(min_row)"
   ]
  },
  {
   "cell_type": "code",
   "execution_count": null,
   "metadata": {},
   "outputs": [],
   "source": [
    "#Get best values from csvs\n",
    "def get_best_results(visual, molec_names):\n",
    "    best_vals = {}\n",
    "    #Get best_per_run.csv for all molecules\n",
    "    all_molec_dir = visual.make_results_dir(molec_names)\n",
    "    all_df = pd.read_csv(all_molec_dir+\"/best_per_run.csv\", header = 0)\n",
    "    # print(all_df)\n",
    "    first_param_name = visual.at_class.at_names[0] + \"_min\"\n",
    "    last_param_name = visual.at_class.at_names[-1] + \"_min\"\n",
    "    full_opt_best = all_df.loc[0, first_param_name:last_param_name].values\n",
    "    best_vals[\"All\"] = full_opt_best\n",
    "    for i in range(len(molec_names)):\n",
    "        molec_dir = visual.make_results_dir([molec_names[i]])\n",
    "        molec_df = pd.read_csv(molec_dir+\"/best_per_run.csv\", header = 0)\n",
    "        molec_best = molec_df.loc[0, first_param_name:last_param_name].values\n",
    "        best_vals[molec_names[i]] = molec_best\n",
    "    return best_vals"
   ]
  },
  {
   "cell_type": "code",
   "execution_count": null,
   "metadata": {},
   "outputs": [],
   "source": [
    "molec_data_dict = {\"R14\":r14_class, \"R32\":r32_class, \"R50\":r50_class, \"R170\":r170_class, \"R125\":r125_class, \"R134a\":r134a_class, \"R143a\":r143a_class}\n",
    "all_gp_dict = opt_atom_types.get_gp_data_from_pkl(list(molec_data_dict.keys()))\n",
    "at_optimizer =  opt_atom_types.Opt_ATs(molec_data_dict, all_gp_dict, at_class, repeats, seed, False, save_data)\n",
    "best_pref = np.array([3.002,\t4.000,\t1.500,\t3.231,\t3.394,\t2.927,\t38.333,\t75.000,\t10.000,\t50.000,\t50.000,\t36.598])\n",
    "# best_pref = ls_results.loc[121, \"sigma_C1_min\":\"epsilon_F_Hx_min\"].to_numpy()\n",
    "# best_real = at_optimizer.values_pref_to_real(best_pref)\n",
    "best_real= at_optimizer.values_pref_to_real(best_pref)\n",
    "obj = at_optimizer.calc_obj(best_real)\n",
    "print(obj[0])\n",
    "jac, hess = at_optimizer.approx_jac_hess(best_real)\n",
    "print(scipy.linalg.norm(jac, ord = np.inf))"
   ]
  },
  {
   "cell_type": "code",
   "execution_count": null,
   "metadata": {},
   "outputs": [],
   "source": [
    "molec_data_dict = {\"R32\":r32_class}#, \"R32\":r32_class, \"R50\":r50_class, \"R170\":r170_class, \"R125\":r125_class, \"R134a\":r134a_class, \"R143a\":r143a_class}\n",
    "all_gp_dict = opt_atom_types.get_gp_data_from_pkl(list(molec_data_dict.keys()))\n",
    "\n",
    "visual = opt_atom_types.Vis_Results(molec_data_dict, all_gp_dict, at_class, scl_w, save_data)\n",
    "best_set = best_pref\n",
    "visual.plot_obj_hms(best_set)"
   ]
  },
  {
   "cell_type": "raw",
   "metadata": {},
   "source": [
    "#Get best set from optimization\n",
    "best_set = np.array([2.89631543,\t4,\t1.5,\t3.1945792,\t2.23150945,\t3.07915865,\t75,\t75,\t9.9999988,\t29.9003147,\t50,\t50])\n",
    "midpoint = len(best_set) //2\n",
    "sigmas = [float((x * u.Angstrom).in_units(u.nm).value) for x in best_set[:midpoint]]\n",
    "epsilons = [float(x * (u.K * u.kb).in_units(\"kJ/mol\")) for x in best_set[midpoint:]]\n",
    "best_set = np.array(sigmas + epsilons)\n",
    "\n",
    "l2norm_min = np.inf\n",
    "#Get training data\n",
    "for key in list(molec_data_dict.keys()):\n",
    "    #Get param that is comparable with GP\n",
    "    param_matrix = at_class.get_transformation_matrix(key)\n",
    "    gp_theta = best_set.reshape(1,-1)@param_matrix\n",
    "    gp_theta_best = values_real_to_scaled(gp_theta, molec_data_dict[key].param_bounds)\n",
    "    train_data, test_data = opt_atom_types.get_train_test_data(key, list(all_gp_dict[key].keys()))\n",
    "    #Get the training set closest to the parameter set\n",
    "    #Calc L2 Norm\n",
    "    distances = np.linalg.norm(train_data['x'][:,:-1] - gp_theta_best, ord = 2, axis=1)\n",
    "    if np.min(distances) < l2norm_min:\n",
    "        l2norm_min = np.min(distances)\n",
    "        # Find the index of the row with the smallest distance\n",
    "        closest_index = np.argmin(distances)\n",
    "        # Get the row that is closest to best attay\n",
    "        closest_row_parms = train_data['x'][closest_index, :-1].reshape(-1,1)\n",
    "        closest_row = values_scaled_to_real(closest_row_parms.T, molec_data_dict[key].param_bounds)\n",
    "        key_best = key\n",
    "        gp_theta_match = gp_theta\n",
    "        gp_theta_org = gp_theta\n",
    "\n",
    "print(key_best)        \n",
    "print(\"closest training param set \\n\", closest_row)\n",
    "print(\"best param set \\n\",gp_theta_match)\n",
    "print(\"l2 norm \\n\", l2norm_min)"
   ]
  }
 ],
 "metadata": {
  "kernelspec": {
   "display_name": "Python 3 (ipykernel)",
   "language": "python",
   "name": "python3"
  },
  "language_info": {
   "codemirror_mode": {
    "name": "ipython",
    "version": 3
   },
   "file_extension": ".py",
   "mimetype": "text/x-python",
   "name": "python",
   "nbconvert_exporter": "python",
   "pygments_lexer": "ipython3",
   "version": "3.11.7"
  }
 },
 "nbformat": 4,
 "nbformat_minor": 4
}
