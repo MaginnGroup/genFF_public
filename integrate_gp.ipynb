{
 "cells": [
  {
   "cell_type": "code",
   "execution_count": 1,
   "metadata": {},
   "outputs": [
    {
     "name": "stderr",
     "output_type": "stream",
     "text": [
      "2024-04-16 18:29:24.782283: I external/local_tsl/tsl/cuda/cudart_stub.cc:31] Could not find cuda drivers on your machine, GPU will not be used.\n",
      "2024-04-16 18:29:24.826619: E external/local_xla/xla/stream_executor/cuda/cuda_dnn.cc:9261] Unable to register cuDNN factory: Attempting to register factory for plugin cuDNN when one has already been registered\n",
      "2024-04-16 18:29:24.826665: E external/local_xla/xla/stream_executor/cuda/cuda_fft.cc:607] Unable to register cuFFT factory: Attempting to register factory for plugin cuFFT when one has already been registered\n",
      "2024-04-16 18:29:24.828093: E external/local_xla/xla/stream_executor/cuda/cuda_blas.cc:1515] Unable to register cuBLAS factory: Attempting to register factory for plugin cuBLAS when one has already been registered\n",
      "2024-04-16 18:29:24.835408: I external/local_tsl/tsl/cuda/cudart_stub.cc:31] Could not find cuda drivers on your machine, GPU will not be used.\n",
      "2024-04-16 18:29:24.836011: I tensorflow/core/platform/cpu_feature_guard.cc:182] This TensorFlow binary is optimized to use available CPU instructions in performance-critical operations.\n",
      "To enable the following instructions: AVX2 FMA, in other operations, rebuild TensorFlow with the appropriate compiler flags.\n",
      "2024-04-16 18:29:26.429936: W tensorflow/compiler/tf2tensorrt/utils/py_utils.cc:38] TF-TRT Warning: Could not find TensorRT\n"
     ]
    }
   ],
   "source": [
    "from utils import r14, r32, r50, r125, r134a, r143a, r170, atom_type, opt_atom_types\n",
    "import numpy as np\n",
    "import unyt as u\n",
    "import pandas as pd\n",
    "from fffit.fffit.utils import values_real_to_scaled, values_scaled_to_real, variances_scaled_to_real\n",
    "from fffit.fffit.plot import plot_obj_contour"
   ]
  },
  {
   "cell_type": "code",
   "execution_count": 2,
   "metadata": {},
   "outputs": [],
   "source": [
    "#Load class properies for each molecule\n",
    "r14_class = r14.R14Constants()\n",
    "r32_class = r32.R32Constants()\n",
    "r50_class = r50.R50Constants()\n",
    "r125_class = r125.R125Constants()\n",
    "r134a_class = r134a.R134aConstants()\n",
    "r143a_class = r143a.R143aConstants()\n",
    "r170_class = r170.R170Constants()"
   ]
  },
  {
   "cell_type": "code",
   "execution_count": 5,
   "metadata": {},
   "outputs": [],
   "source": [
    "at_class = atom_type.AT_Scheme_9()\n",
    "w_calc = 2\n",
    "repeats = 1\n",
    "seed = 1\n",
    "save_data = False\n",
    "w_calc = 2\n",
    "obj_choice = \"ExpVal\"\n",
    "molec_data_dict = {\"R134a\":r134a_class}\n",
    "pm = at_class.get_transformation_matrix(molec_data_dict)\n",
    "# print(pm)\n",
    "theta_paper = np.array([3.727, 3.578558657, 3.754, 2.237, 2.607, 3.255, 2.982, 71.73, 11.25885226, 72.61, 23.13, 39.98, 20.164, 23.13])\n",
    "t_paper = theta_paper.reshape(-1,1).T@pm\n",
    "# print(t_paper)"
   ]
  },
  {
   "cell_type": "code",
   "execution_count": 22,
   "metadata": {},
   "outputs": [
    {
     "name": "stdout",
     "output_type": "stream",
     "text": [
      "152401.03174074026\n"
     ]
    }
   ],
   "source": [
    "import scipy \n",
    "repeats = 1\n",
    "seed = 1\n",
    "save_data = False\n",
    "w_calc = 2\n",
    "obj_choice = \"ExpVal\"\n",
    "at_class = atom_type.AT_Scheme_10()\n",
    "# molec_data_dict = {\"R14\":r14_class, \"R32\":r32_class, \"R50\":r50_class, \"R170\":r170_class, \"R143a\":r143a_class}\n",
    "molec_data_dict = {\"R134a\":r134a_class}\n",
    "all_gp_dict = opt_atom_types.get_gp_data_from_pkl(list(molec_data_dict.keys()))\n",
    "at_optimizer =  opt_atom_types.Opt_ATs(molec_data_dict, all_gp_dict, at_class, repeats, seed, w_calc, obj_choice, save_data)\n",
    "# best_pref = np.array([3.727, 3.578558657, 3.754, 2.237, 2.607, 3.255, 2.982, 71.73, 11.25885226, 72.61, 2.55, 39.98, 20.164, 23.13])\n",
    "best_pref = np.array([3.727,3.810,3.754, 3.028,3.809,\n",
    "                      2.316,\n",
    "                      2.607,3.255,3.424,2.917,\n",
    "                      71.730,52.200, 72.610,53.690,69.970,\n",
    "                      6.160,\n",
    "                      39.980,20.164, 17.050, 29.070])\n",
    "best_real= at_optimizer.values_pref_to_real(best_pref)\n",
    "obj = at_optimizer.calc_obj(best_real)\n",
    "print(obj[0])\n",
    "\n",
    "# jac, hess = at_optimizer.approx_jac_hess(best_real)\n",
    "# print(hess.shape)\n",
    "# print(scipy.linalg.norm(jac, ord = np.inf))\n",
    "# eigval, eigvec = scipy.linalg.eig(hess)\n",
    "# print(eigval, eigvec)"
   ]
  },
  {
   "cell_type": "code",
   "execution_count": null,
   "metadata": {},
   "outputs": [],
   "source": [
    "# best_pref = np.array([3.727, 3.037, 3.809, 1.711, 2.607, 3.255, 3.424, 71.73, 55.4, 69.97, 3.55, 39.98, 20.164, 17.05])\n",
    "print(best_pref)\n",
    "#Get transformation matrix\n",
    "param_matrix = at_class.get_transformation_matrix(molec_data_dict)\n",
    "#Transform the guess, and scale to bounds\n",
    "best_real= at_optimizer.values_pref_to_real(best_pref)\n",
    "print(best_real)\n",
    "gp_theta = best_real.reshape(-1,1).T@param_matrix\n",
    "print(gp_theta)\n",
    "gp_theta_guess = values_real_to_scaled(gp_theta, molec_object.param_bounds)\n",
    "print(gp_theta_guess)\n",
    "\n",
    "molec_gps_dict = all_gp_dict[molec_key]\n",
    "key = list(molec_gps_dict.keys())[0]\n",
    "#Get GP associated with property\n",
    "gp_model = molec_gps_dict[key]\n",
    "#Get X and Y data and bounds associated with the GP\n",
    "exp_data, y_bounds, y_names = at_optimizer.get_exp_data(molec_object, key)\n",
    "#Get x and y data\n",
    "x_exp = np.array(list(exp_data.keys())).reshape(-1,1)\n",
    "y_exp = np.array(list(exp_data.values()))\n",
    "\n",
    "gp_mean_scl, gp_covar_scl, gp_var_scl, gp_grad_mean = at_optimizer.eval_gp_new_theta(gp_theta_guess, molec_object, gp_model, x_exp)\n",
    "#Scale gp output to real value\n",
    "gp_mean = values_scaled_to_real(gp_mean_scl, y_bounds)\n",
    "print(gp_mean.flatten() - y_exp.flatten())\n",
    "\n",
    "# jac, hess = at_optimizer.approx_jac_hess(best_real)\n",
    "# print(scipy.linalg.norm(jac, ord = np.inf))"
   ]
  },
  {
   "cell_type": "code",
   "execution_count": 19,
   "metadata": {},
   "outputs": [
    {
     "name": "stdout",
     "output_type": "stream",
     "text": [
      "Results/at_10/R14/ExpVal/wt_y_var\n",
      "661.8078906881692\n",
      "[3.436460946865524 3.716627672858084 3.51016437693536 3.3961144968946053\n",
      " 3.7289588601092 1.98402149525512 3.3415775815751743 2.9017478728266983\n",
      " 2.7642055040630344 2.9198839801773446 30.47567970449768\n",
      " 30.629956487288005 50.424758914819606 37.96607260338219 73.2971350652714\n",
      " 7.42240713147449 21.94994609494888 29.93453532718115 27.017118392104805\n",
      " 32.3689403554371]\n",
      "[[3.436460946865524 2.9198839801773446 30.47567970449768 32.3689403554371]]\n",
      "Results/at_10/R32/ExpVal/wt_y_var\n",
      "8.084276704417292\n",
      "[3.810436510734817 3.054116204515218 3.771884198621549 2.7145395200049998\n",
      " 3.817070301839598 1.9857937949104725 2.031642485693112 2.706935603559554\n",
      " 3.3817938350338475 3.994645700902961 48.7342408397191 18.91382372587706\n",
      " 70.61870509741566 55.29318049684352 14.290011226934064 7.627433223174589\n",
      " 41.38566659614363 38.73236949180481 39.90336655199651 19.34948366902577]\n",
      "[[3.810436510734817 2.706935603559554 1.9857937949104725 48.7342408397191\n",
      "  38.73236949180481 7.627433223174589]]\n",
      "Results/at_10/R50/ExpVal/wt_y_var\n",
      "29.2527167410208\n",
      "[3.754916521363612 3.749923289911796 3.376826504771886 3.138988825490751\n",
      " 2.321942873631217 2.4473695301133542 2.690344102310429 2.450079915628169\n",
      " 3.1850237375315933 2.6245396754038337 70.35591021850136 69.12630912185124\n",
      " 26.712689095842755 17.2079345483619 22.54257758124234 4.877205929303495\n",
      " 40.50049837911087 22.286805344307705 23.68117454320308 44.808515622772845]\n",
      "[[3.754916521363612 2.4473695301133542 70.35591021850136\n",
      "  4.877205929303495]]\n",
      "Results/at_10/R170/ExpVal/wt_y_var\n",
      "49.59173029091245\n",
      "[3.977722177812989 3.652451940922206 2.56088798412881 3.578558656902977\n",
      " 2.206452013155284 2.520566862772855 3.817191006186191 2.5872282967473588\n",
      " 2.5755506771726973 2.260057144236556 11.258852261569311 61.41986342767798\n",
      " 23.755827540003843 27.260532859194708 41.952255353222 4.786980274428375\n",
      " 35.09411619222046 20.135500121703355 35.62569379161495 39.4915426007326]\n",
      "[[3.652451940922206 2.520566862772855 61.41986342767798 4.786980274428375]]\n",
      "Results/at_10/R125/ExpVal/wt_y_var\n",
      "53.03773607130724\n",
      "[3.759996577126863 3.807683911652744 3.325439624750524 3.1936466976596773\n",
      " 3.3712259042896653 1.959841628168257 3.055429292617493 3.333307557641892\n",
      " 2.715287597473772 3.466285050575022 43.73575578516363 60.10745418262273\n",
      " 46.97576939580652 46.06740781710364 53.560187708986426 8.951755873027887\n",
      " 28.227346276483495 25.63223124636319 34.91154000559619 21.356449796576733]\n",
      "[[3.1936466976596773 3.3712259042896653 3.333307557641892\n",
      "  2.715287597473772 1.959841628168257 46.06740781710364\n",
      "  53.560187708986426 25.63223124636319 34.91154000559619\n",
      "  8.951755873027887]]\n",
      "Results/at_10/R134a/ExpVal/wt_y_var\n",
      "141.0064242733116\n",
      "[3.6014891373510727 3.936523151438794 3.347526680104692 3.384645231338628\n",
      " 3.7554839999742713 2.843920840957352 3.0706709285516647\n",
      " 2.0781095664657645 2.727262621228817 3.756285006858826 16.392544199148258\n",
      " 37.3719956253284 47.67869429813515 44.65574352324612 58.80057121858621\n",
      " 5.295527702864464 25.8399318883508 44.211898516408056 24.65376718869863\n",
      " 41.25505102307387]\n",
      "[[3.7554839999742713 3.347526680104692 2.727262621228817\n",
      "  3.0706709285516647 2.843920840957352 58.80057121858621\n",
      "  47.67869429813515 24.65376718869863 25.8399318883508 5.295527702864464]]\n"
     ]
    }
   ],
   "source": [
    "import os\n",
    "import tensorflow as tf\n",
    "molec_data_dict = {\"R14\":r14_class, \"R32\":r32_class, \"R50\":r50_class, \"R170\":r170_class, \"R125\":r125_class, \"R134a\":r134a_class, \"R143a\":r143a_class}\n",
    "all_gp_dict = opt_atom_types.get_gp_data_from_pkl(list(molec_data_dict.keys()))\n",
    "visual = opt_atom_types.Vis_Results(molec_data_dict, all_gp_dict, at_class, w_calc, obj_choice, save_data)\n",
    "for molec_names in list(molec_data_dict.keys()):\n",
    "    param_matrix = visual.at_class.get_transformation_matrix({molec_names: molec_data_dict[molec_names]})\n",
    "    #Get best_per_run.csv for all molecules\n",
    "    molec_dir = visual.make_results_dir([molec_names])\n",
    "    if os.path.exists(molec_dir+\"/best_per_run.csv\"):\n",
    "        print(molec_dir)\n",
    "        molec_df = pd.read_csv(molec_dir+\"/best_per_run.csv\", header = 0)\n",
    "        # print(molec_df.head())\n",
    "        first_param_name = at_class.at_names[0] + \"_min\"\n",
    "        last_param_name = at_class.at_names[-1] + \"_min\"\n",
    "        print(molec_df.loc[0, \"Min Obj\"])\n",
    "        molec_best = molec_df.loc[0, first_param_name:last_param_name].values\n",
    "        print(molec_best)\n",
    "        # ind_best_real = visual.values_pref_to_real(molec_best)\n",
    "        # ind_best_scl = values_real_to_scaled(ind_best_real.reshape(1,-1), at_class.at_bounds_nm_kjmol)\n",
    "        ind_best_gp = molec_best.reshape(-1,1).T@param_matrix\n",
    "        # ind_best_gp = tf.convert_to_tensor(ind_best_gp, dtype=tf.float64)\n",
    "        print(ind_best_gp)"
   ]
  },
  {
   "cell_type": "code",
   "execution_count": null,
   "metadata": {},
   "outputs": [],
   "source": [
    "molec_data_dict = {\"R14\":r14_class, \"R32\":r32_class, \"R50\":r50_class, \"R170\":r170_class, \"R125\":r125_class, \"R134a\":r134a_class, \"R143a\":r143a_class}\n",
    "df = pd.DataFrame(columns = [\"Molecule\", \"Property\", \"Value\", \"Uncertainty\", \"Weight\"])\n",
    "for key in list(molec_data_dict.keys()):\n",
    "    molec_object = molec_data_dict[key]\n",
    "    for prop_key in list(molec_object.uncertainties.keys()):\n",
    "        if \"vap_density\" in prop_key:\n",
    "            exp_data = molec_object.expt_vap_density\n",
    "            property_bounds = molec_object.vap_density_bounds\n",
    "            property_name = \"Vapor Density [kg/m^3]\"\n",
    "        elif \"liq_density\" in prop_key:\n",
    "            exp_data = molec_object.expt_liq_density\n",
    "            property_bounds = molec_object.liq_density_bounds\n",
    "            property_name = \"Liquid Density [kg/m^3]\"\n",
    "        elif \"Pvap\" in prop_key: \n",
    "            exp_data = molec_object.expt_Pvap\n",
    "            property_bounds = molec_object.Pvap_bounds\n",
    "            property_name = \"Vapor pressure [bar]\"\n",
    "        elif \"Hvap\" in prop_key:\n",
    "            exp_data = molec_object.expt_Hvap\n",
    "            property_bounds = molec_object.Hvap_bounds\n",
    "            property_name = \"Enthalpy of Vaporization [kJ/kg]\"\n",
    "\n",
    "        values = np.array(list(exp_data.values()))\n",
    "        y_unc = molec_object.uncertainties[prop_key]\n",
    "        weight_unc = 1/(y_unc*values)**2\n",
    "        weight_2pct = 1/(0.02*values)**2\n",
    "        weight = np.maximum(weight_unc, weight_2pct)\n",
    "        df_vals = [key, prop_key, values, y_unc, weight]\n",
    "        iter_df = pd.DataFrame([df_vals], columns = df.columns)\n",
    "        iter_df = iter_df.apply(lambda col: col.explode(), axis=0).reset_index(drop=True).copy(deep =True)\n",
    "        df = pd.concat([df, iter_df], ignore_index=True)\n",
    "# df.to_csv(\"molecule_exp_unc_data.csv\", index = False, header = True)"
   ]
  },
  {
   "cell_type": "code",
   "execution_count": null,
   "metadata": {},
   "outputs": [],
   "source": [
    "molec_data_dict = {\"R14\":r14_class, \"R32\":r32_class, \"R50\":r50_class, \"R170\":r170_class, \"R125\":r125_class, \"R134a\":r134a_class, \"R143a\":r143a_class}\n",
    "molec_data_dict = {\"R125\":r125_class}\n",
    "all_gp_dict = opt_atom_types.get_gp_data_from_pkl(list(molec_data_dict.keys()))\n",
    "visual = opt_atom_types.Vis_Results(molec_data_dict, all_gp_dict, at_class, w_calc, obj_choice, save_data)\n",
    "molec_names = list([\"R14\", \"R32\", \"R50\", \"R170\", \"R125\", \"R134a\", \"R143a\"])\n",
    "visual.comp_paper_full_ind(molec_names)"
   ]
  },
  {
   "cell_type": "code",
   "execution_count": null,
   "metadata": {},
   "outputs": [],
   "source": [
    "molec = \"R32\"\n",
    "molec_data_dict = {molec:r32_class} #, \"R32\":r32_class, \"R50\":r50_class, \"R170\":r170_class, \"R125\":r125_class, \"R134a\":r134a_class, \"R143a\":r143a_class}\n",
    "all_gp_dict = opt_atom_types.get_gp_data_from_pkl(list(molec_data_dict.keys()))\n",
    "# all_gp_dict = {\"R14\" : {list(all_gp_dict[\"R14\"].keys())[0]: list(all_gp_dict[\"R14\"].values())[0]}}\n",
    "# all_gp_dict = {molec : all_gp_dict[molec]}\n",
    "at_optimizer =  opt_atom_types.Opt_ATs(molec_data_dict, all_gp_dict, at_class, repeats, seed, w_calc, obj_choice, save_data)\n",
    "ls_results = at_optimizer.optimize_ats()\n",
    "ls_results"
   ]
  },
  {
   "cell_type": "code",
   "execution_count": null,
   "metadata": {},
   "outputs": [],
   "source": [
    "# Determine the index of the row where column 'B' has the minimum value\n",
    "min_index = ls_results['Min Obj Cum.'].idxmin()\n",
    "\n",
    "# Retrieve the row corresponding to the minimum value in column 'B'\n",
    "min_row = ls_results.iloc[min_index]\n",
    "print(min_row)"
   ]
  },
  {
   "cell_type": "code",
   "execution_count": null,
   "metadata": {},
   "outputs": [],
   "source": [
    "first_param_name = at_optimizer.at_class.at_names[0] + \"_min\"\n",
    "last_param_name = at_optimizer.at_class.at_names[-1] + \"_min\"\n",
    "molec_best = ls_results.loc[21, first_param_name:last_param_name].values\n",
    "print(molec_best)"
   ]
  },
  {
   "cell_type": "code",
   "execution_count": null,
   "metadata": {},
   "outputs": [],
   "source": [
    "#Get best values from csvs\n",
    "def get_best_results(visual, molec_names):\n",
    "    best_vals = {}\n",
    "    #Get best_per_run.csv for all molecules\n",
    "    all_molec_dir = visual.make_results_dir(molec_names)\n",
    "    all_df = pd.read_csv(all_molec_dir+\"/best_per_run.csv\", header = 0)\n",
    "    # print(all_df)\n",
    "    first_param_name = visual.at_class.at_names[0] + \"_min\"\n",
    "    last_param_name = visual.at_class.at_names[-1] + \"_min\"\n",
    "    full_opt_best = all_df.loc[0, first_param_name:last_param_name].values\n",
    "    best_vals[\"All\"] = full_opt_best\n",
    "    for i in range(len(molec_names)):\n",
    "        molec_dir = visual.make_results_dir([molec_names[i]])\n",
    "        molec_df = pd.read_csv(molec_dir+\"/best_per_run.csv\", header = 0)\n",
    "        molec_best = molec_df.loc[0, first_param_name:last_param_name].values\n",
    "        best_vals[molec_names[i]] = molec_best\n",
    "    return best_vals"
   ]
  }
 ],
 "metadata": {
  "kernelspec": {
   "display_name": "Python 3 (ipykernel)",
   "language": "python",
   "name": "python3"
  },
  "language_info": {
   "codemirror_mode": {
    "name": "ipython",
    "version": 3
   },
   "file_extension": ".py",
   "mimetype": "text/x-python",
   "name": "python",
   "nbconvert_exporter": "python",
   "pygments_lexer": "ipython3",
   "version": "3.11.7"
  }
 },
 "nbformat": 4,
 "nbformat_minor": 4
}
