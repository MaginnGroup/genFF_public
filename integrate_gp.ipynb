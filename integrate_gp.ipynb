{
 "cells": [
  {
   "cell_type": "code",
   "execution_count": 1,
   "metadata": {},
   "outputs": [
    {
     "ename": "ModuleNotFoundError",
     "evalue": "No module named 'gpflow'",
     "output_type": "error",
     "traceback": [
      "\u001b[1;31m---------------------------------------------------------------------------\u001b[0m",
      "\u001b[1;31mModuleNotFoundError\u001b[0m                       Traceback (most recent call last)",
      "Cell \u001b[1;32mIn[1], line 20\u001b[0m\n\u001b[0;32m     18\u001b[0m \u001b[38;5;28;01mimport\u001b[39;00m \u001b[38;5;21;01mmatplotlib\u001b[39;00m\u001b[38;5;21;01m.\u001b[39;00m\u001b[38;5;21;01mpyplot\u001b[39;00m \u001b[38;5;28;01mas\u001b[39;00m \u001b[38;5;21;01mplt\u001b[39;00m\n\u001b[0;32m     19\u001b[0m \u001b[38;5;28;01mimport\u001b[39;00m \u001b[38;5;21;01mpickle\u001b[39;00m\n\u001b[1;32m---> 20\u001b[0m \u001b[38;5;28;01mimport\u001b[39;00m \u001b[38;5;21;01mgpflow\u001b[39;00m\n\u001b[0;32m     22\u001b[0m \u001b[38;5;28;01mimport\u001b[39;00m \u001b[38;5;21;01mitertools\u001b[39;00m\n\u001b[0;32m     23\u001b[0m \u001b[38;5;28;01mfrom\u001b[39;00m \u001b[38;5;21;01mitertools\u001b[39;00m \u001b[38;5;28;01mimport\u001b[39;00m combinations_with_replacement\n",
      "\u001b[1;31mModuleNotFoundError\u001b[0m: No module named 'gpflow'"
     ]
    }
   ],
   "source": [
    "import numpy as np\n",
    "import random\n",
    "from numpy.random import default_rng\n",
    "import warnings\n",
    "import math\n",
    "from scipy.stats import norm, multivariate_normal\n",
    "from scipy import integrate\n",
    "import scipy.optimize as optimize\n",
    "import os\n",
    "import time\n",
    "from sklearn.gaussian_process import GaussianProcessRegressor\n",
    "from sklearn.gaussian_process.kernels import RBF, Matern, WhiteKernel, ConstantKernel, DotProduct\n",
    "from sklearn.preprocessing import StandardScaler, PowerTransformer\n",
    "from scipy.stats import qmc\n",
    "import pandas as pd\n",
    "from enum import Enum\n",
    "import scipy\n",
    "import matplotlib.pyplot as plt\n",
    "import pickle\n",
    "import gpflow\n",
    "\n",
    "import itertools\n",
    "from itertools import combinations_with_replacement\n",
    "from itertools import combinations\n",
    "from itertools import permutations"
   ]
  },
  {
   "cell_type": "code",
   "execution_count": null,
   "metadata": {},
   "outputs": [],
   "source": [
    "#To scale objective function to multiple GPs...\n",
    "#Create fxn for analyzing a single gp\n",
    "def eval_gp_new_theta(theta_guess, t_matrix, gp_object, Xexp):\n",
    "    #Get theta into correct form using t_matrix\n",
    "    theta_guess = theta_guess.reshape(1,-1)\n",
    "    gp_theta = theta_guess@t_matrix.T\n",
    "    #Append x data for consideration\n",
    "    gp_theta = np.repeat(gp_theta, len(Xexp) , axis = 0)\n",
    "    gp_input = np.concatenate((gp_theta, Xexp), axis=1)\n",
    "    #Get mean and std from gp\n",
    "    gp_mean, gp_covar = gp_object.predict(gp_input, return_cov=True)\n",
    "    gp_std = np.sqrt(np.diag(gp_covar))\n",
    "    \n",
    "    return gp_mean, gp_std\n",
    "\n",
    "#define the scipy function for minimizing\n",
    "def scipy_min_fxn(theta_guess, t_matricies, gps, Xexp_list, Yexp_list):\n",
    "    #Assert you have data and a transformation matrix for each gp\n",
    "    assert len(t_matricies) == len(Xexp_list) == len(Yexp_list), \"lists must be the same length\"\n",
    "    #Initialize weight and squared error arrays\n",
    "    sqerr_array  = []\n",
    "    weight_array = []\n",
    "    #loop over number of gps (since there is one gp for every molecule and property)\n",
    "    for i in range(len(gps)):\n",
    "        #Evaluate GP\n",
    "        gp_mean, gp_std = eval_gp_new_theta(theta_guess, t_matricies[i], gps[i], Xexp_list[i])\n",
    "        #Calculate weight from uncertainty\n",
    "        weight_mpi = (1/(gp_std**2)).tolist()\n",
    "        weight_array += weight_mpi\n",
    "        #Calculate sse\n",
    "        sq_err = ((Yexp_list[i].flatten() - gp_mean)**2).tolist()\n",
    "        sqerr_array += sq_err\n",
    "    #List to array\n",
    "    sqerr_array = np.array(sqerr_array)\n",
    "    weight_array = np.array(weight_array)\n",
    "    #Normalize weights to add up to 1\n",
    "    scaled_weights = weight_array / np.sum(weight_array)\n",
    "    #Define objective function\n",
    "    obj = np.sum(scaled_weights*sqerr_array)\n",
    "    return obj"
   ]
  },
  {
   "cell_type": "code",
   "execution_count": null,
   "metadata": {},
   "outputs": [
    {
     "ename": "ModuleNotFoundError",
     "evalue": "No module named 'gpflow'",
     "output_type": "error",
     "traceback": [
      "\u001b[1;31m---------------------------------------------------------------------------\u001b[0m",
      "\u001b[1;31mModuleNotFoundError\u001b[0m                       Traceback (most recent call last)",
      "Cell \u001b[1;32mIn[7], line 2\u001b[0m\n\u001b[0;32m      1\u001b[0m \u001b[38;5;28;01mwith\u001b[39;00m \u001b[38;5;28mopen\u001b[39m(\u001b[38;5;124m\"\u001b[39m\u001b[38;5;124mR14-vlegp/vle-gps.pkl\u001b[39m\u001b[38;5;124m\"\u001b[39m, \u001b[38;5;124m'\u001b[39m\u001b[38;5;124mrb\u001b[39m\u001b[38;5;124m'\u001b[39m) \u001b[38;5;28;01mas\u001b[39;00m pickle_file:\n\u001b[1;32m----> 2\u001b[0m     data \u001b[38;5;241m=\u001b[39m \u001b[43mpickle\u001b[49m\u001b[38;5;241;43m.\u001b[39;49m\u001b[43mload\u001b[49m\u001b[43m(\u001b[49m\u001b[43mpickle_file\u001b[49m\u001b[43m)\u001b[49m\n",
      "\u001b[1;31mModuleNotFoundError\u001b[0m: No module named 'gpflow'"
     ]
    }
   ],
   "source": [
    "with open(\"R14-vlegp/vle-gps.pkl\", 'rb') as pickle_file:\n",
    "    data = pickle.load(pickle_file)"
   ]
  },
  {
   "cell_type": "code",
   "execution_count": null,
   "metadata": {},
   "outputs": [],
   "source": [
    "## specify initial guesses bounds for new_theta\n",
    "repeats = 50\n",
    "bounds_theta_new_l = [-5, -5, -5, -5, -5]\n",
    "bounds_theta_new_u = [ 2,  2,  2,  2,  2]\n",
    "bounds_theta_new = np.array([bounds_theta_new_l, bounds_theta_new_u]).T\n",
    "theta_guesses = np.random.uniform(low=bounds_theta_new_l, high=bounds_theta_new_u, size=(repeats, len(bounds_theta_new_l)) )\n",
    "\n",
    "#Define matricies, gps, and data to look at\n",
    "t_matricies = [t_matrix, t_matrix2]\n",
    "gps = [fit_gp_model, fit_gp_model2]\n",
    "Xexp_list = [Xexp, Xexp2]\n",
    "Yexp_list = [Yexp, Yexp2]\n",
    "\n",
    "#Intialize data storage matricies\n",
    "theta_vals = np.zeros((repeats, len(bounds_theta_new_l)))\n",
    "l2_norms = np.zeros(repeats)\n",
    "costs = np.zeros(repeats)\n",
    "fxn_evals = np.zeros(repeats)\n",
    "\n",
    "#Optimize w/ retstarts\n",
    "for i in range(repeats):\n",
    "    #Get guess and find scipy.optimize solution\n",
    "    t_guess = theta_guesses[i]\n",
    "    Solution = optimize.minimize(scipy_min_fxn, t_guess , bounds=bounds_theta_new, method='L-BFGS-B', args=(t_matricies, gps, Xexp_list, Yexp_list), \n",
    "                                 options = {\"disp\":True})\n",
    "    #Back out results\n",
    "    theta_min_obj = Solution.x\n",
    "    costs[i] = Solution.fun\n",
    "    theta_vals[i] = theta_min_obj\n",
    "    #Note counting Jacobian and function evalauations as function evaluations\n",
    "    fxn_evals[i] = Solution.nfev + Solution.njev\n",
    "    \n",
    "#Print Results\n",
    "nlr_theta = theta_vals[np.argmin(costs)]\n",
    "nlr_l2_norm = l2_norms[np.argmin(costs)]\n",
    "nlr_evals = fxn_evals[np.argmin(costs)]\n",
    "print(\"GP New Theta\", nlr_theta)\n",
    "print(\"GP Theta 1 = \", nlr_theta@t_matrix.T)\n",
    "print(\"GP Theta 2 = \", nlr_theta@t_matrix2.T)\n",
    "print(\"Evaluations = \", nlr_evals)\n",
    "print(\"Func Val\", costs[np.argmin(costs)])"
   ]
  }
 ],
 "metadata": {
  "kernelspec": {
   "display_name": "atom_type",
   "language": "python",
   "name": "python3"
  },
  "language_info": {
   "codemirror_mode": {
    "name": "ipython",
    "version": 3
   },
   "file_extension": ".py",
   "mimetype": "text/x-python",
   "name": "python",
   "nbconvert_exporter": "python",
   "pygments_lexer": "ipython3",
   "version": "3.12.1"
  }
 },
 "nbformat": 4,
 "nbformat_minor": 2
}
