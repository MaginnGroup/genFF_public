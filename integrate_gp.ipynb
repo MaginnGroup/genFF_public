{
 "cells": [
  {
   "cell_type": "code",
   "execution_count": null,
   "metadata": {},
   "outputs": [],
   "source": [
    "from utils import r14, r32, r50, r125, r134a, r143a, r170, atom_type, opt_atom_types\n",
    "import numpy as np\n",
    "import unyt as u\n",
    "import pandas as pd\n",
    "from fffit.fffit.utils import values_real_to_scaled, values_scaled_to_real, variances_scaled_to_real\n",
    "from fffit.fffit.plot import plot_obj_contour"
   ]
  },
  {
   "cell_type": "code",
   "execution_count": null,
   "metadata": {},
   "outputs": [],
   "source": [
    "#Load class properies for each molecule\n",
    "r14_class = r14.R14Constants()\n",
    "r32_class = r32.R32Constants()\n",
    "r50_class = r50.R50Constants()\n",
    "r125_class = r125.R125Constants()\n",
    "r134a_class = r134a.R134aConstants()\n",
    "r143a_class = r143a.R143aConstants()\n",
    "r170_class = r170.R170Constants()"
   ]
  },
  {
   "cell_type": "code",
   "execution_count": null,
   "metadata": {},
   "outputs": [],
   "source": [
    "at_class = atom_type.AT_Scheme_9()\n",
    "w_calc = 2\n",
    "repeats = 1\n",
    "seed = 1\n",
    "save_data = False\n",
    "w_calc = 2\n",
    "obj_choice = \"ExpVal\"\n",
    "molec_data_dict = {\"R134a\":r134a_class}\n",
    "pm = at_class.get_transformation_matrix(molec_data_dict)\n",
    "# print(pm)\n",
    "theta_paper = np.array([3.727, 3.578558657, 3.754, 2.237, 2.607, 3.255, 2.982, 71.73, 11.25885226, 72.61, 23.13, 39.98, 20.164, 23.13])\n",
    "t_paper = theta_paper.reshape(-1,1).T@pm\n",
    "# print(t_paper)"
   ]
  },
  {
   "cell_type": "code",
   "execution_count": null,
   "metadata": {},
   "outputs": [],
   "source": [
    "import scipy \n",
    "repeats = 1\n",
    "seed = 1\n",
    "save_data = False\n",
    "w_calc = 2\n",
    "obj_choice = \"ExpVal\"\n",
    "at_class = atom_type.AT_Scheme_10()\n",
    "# molec_data_dict = {\"R14\":r14_class, \"R32\":r32_class, \"R50\":r50_class, \"R170\":r170_class, \"R143a\":r143a_class}\n",
    "molec_data_dict = {\"R134a\":r134a_class}\n",
    "all_gp_dict = opt_atom_types.get_gp_data_from_pkl(list(molec_data_dict.keys()))\n",
    "at_optimizer =  opt_atom_types.Opt_ATs(molec_data_dict, all_gp_dict, at_class, repeats, seed, w_calc, obj_choice, save_data)\n",
    "# best_pref = np.array([3.727, 3.578558657, 3.754, 2.237, 2.607, 3.255, 2.982, 71.73, 11.25885226, 72.61, 2.55, 39.98, 20.164, 23.13])\n",
    "best_pref = np.array([3.727,3.810,3.754, 3.028,3.809,\n",
    "                      2.316,\n",
    "                      2.607,3.255,3.424,2.917,\n",
    "                      71.730,52.200, 72.610,53.690,69.970,\n",
    "                      6.160,\n",
    "                      39.980,20.164, 17.050, 29.070])\n",
    "best_real= at_optimizer.values_pref_to_real(best_pref)\n",
    "obj = at_optimizer.calc_obj(best_real)\n",
    "print(obj[0])\n",
    "\n",
    "# jac, hess = at_optimizer.approx_jac_hess(best_real)\n",
    "# print(hess.shape)\n",
    "# print(scipy.linalg.norm(jac, ord = np.inf))\n",
    "# eigval, eigvec = scipy.linalg.eig(hess)\n",
    "# print(eigval, eigvec)"
   ]
  },
  {
   "cell_type": "code",
   "execution_count": null,
   "metadata": {},
   "outputs": [],
   "source": [
    "# best_pref = np.array([3.727, 3.037, 3.809, 1.711, 2.607, 3.255, 3.424, 71.73, 55.4, 69.97, 3.55, 39.98, 20.164, 17.05])\n",
    "print(best_pref)\n",
    "#Get transformation matrix\n",
    "param_matrix = at_class.get_transformation_matrix(molec_data_dict)\n",
    "#Transform the guess, and scale to bounds\n",
    "best_real= at_optimizer.values_pref_to_real(best_pref)\n",
    "print(best_real)\n",
    "gp_theta = best_real.reshape(-1,1).T@param_matrix\n",
    "print(gp_theta)\n",
    "gp_theta_guess = values_real_to_scaled(gp_theta, molec_object.param_bounds)\n",
    "print(gp_theta_guess)\n",
    "\n",
    "molec_gps_dict = all_gp_dict[molec_key]\n",
    "key = list(molec_gps_dict.keys())[0]\n",
    "#Get GP associated with property\n",
    "gp_model = molec_gps_dict[key]\n",
    "#Get X and Y data and bounds associated with the GP\n",
    "exp_data, y_bounds, y_names = at_optimizer.get_exp_data(molec_object, key)\n",
    "#Get x and y data\n",
    "x_exp = np.array(list(exp_data.keys())).reshape(-1,1)\n",
    "y_exp = np.array(list(exp_data.values()))\n",
    "\n",
    "gp_mean_scl, gp_covar_scl, gp_var_scl, gp_grad_mean = at_optimizer.eval_gp_new_theta(gp_theta_guess, molec_object, gp_model, x_exp)\n",
    "#Scale gp output to real value\n",
    "gp_mean = values_scaled_to_real(gp_mean_scl, y_bounds)\n",
    "print(gp_mean.flatten() - y_exp.flatten())\n",
    "\n",
    "# jac, hess = at_optimizer.approx_jac_hess(best_real)\n",
    "# print(scipy.linalg.norm(jac, ord = np.inf))"
   ]
  },
  {
   "cell_type": "code",
   "execution_count": null,
   "metadata": {},
   "outputs": [],
   "source": [
    "import os\n",
    "import tensorflow as tf\n",
    "molec_data_dict = {\"R14\":r14_class, \"R32\":r32_class, \"R50\":r50_class, \"R170\":r170_class, \"R125\":r125_class, \"R134a\":r134a_class, \"R143a\":r143a_class}\n",
    "all_gp_dict = opt_atom_types.get_gp_data_from_pkl(list(molec_data_dict.keys()))\n",
    "visual = opt_atom_types.Vis_Results(molec_data_dict, all_gp_dict, at_class, w_calc, obj_choice, save_data)\n",
    "for molec_names in list(molec_data_dict.keys()):\n",
    "    param_matrix = visual.at_class.get_transformation_matrix({molec_names: molec_data_dict[molec_names]})\n",
    "    #Get best_per_run.csv for all molecules\n",
    "    molec_dir = visual.make_results_dir([molec_names])\n",
    "    if os.path.exists(molec_dir+\"/best_per_run.csv\"):\n",
    "        print(molec_dir)\n",
    "        molec_df = pd.read_csv(molec_dir+\"/best_per_run.csv\", header = 0)\n",
    "        # print(molec_df.head())\n",
    "        first_param_name = at_class.at_names[0] + \"_min\"\n",
    "        last_param_name = at_class.at_names[-1] + \"_min\"\n",
    "        print(molec_df.loc[0, \"Min Obj\"])\n",
    "        molec_best = molec_df.loc[0, first_param_name:last_param_name].values\n",
    "        print(molec_best)\n",
    "        # ind_best_real = visual.values_pref_to_real(molec_best)\n",
    "        # ind_best_scl = values_real_to_scaled(ind_best_real.reshape(1,-1), at_class.at_bounds_nm_kjmol)\n",
    "        ind_best_gp = molec_best.reshape(-1,1).T@param_matrix\n",
    "        # ind_best_gp = tf.convert_to_tensor(ind_best_gp, dtype=tf.float64)\n",
    "        print(ind_best_gp)"
   ]
  },
  {
   "cell_type": "code",
   "execution_count": null,
   "metadata": {},
   "outputs": [],
   "source": [
    "molec_data_dict = {\"R14\":r14_class, \"R32\":r32_class, \"R50\":r50_class, \"R170\":r170_class, \"R125\":r125_class, \"R134a\":r134a_class, \"R143a\":r143a_class}\n",
    "df = pd.DataFrame(columns = [\"Molecule\", \"Property\", \"Value\", \"Uncertainty\", \"Weight\"])\n",
    "for key in list(molec_data_dict.keys()):\n",
    "    molec_object = molec_data_dict[key]\n",
    "    for prop_key in list(molec_object.uncertainties.keys()):\n",
    "        if \"vap_density\" in prop_key:\n",
    "            exp_data = molec_object.expt_vap_density\n",
    "            property_bounds = molec_object.vap_density_bounds\n",
    "            property_name = \"Vapor Density [kg/m^3]\"\n",
    "        elif \"liq_density\" in prop_key:\n",
    "            exp_data = molec_object.expt_liq_density\n",
    "            property_bounds = molec_object.liq_density_bounds\n",
    "            property_name = \"Liquid Density [kg/m^3]\"\n",
    "        elif \"Pvap\" in prop_key: \n",
    "            exp_data = molec_object.expt_Pvap\n",
    "            property_bounds = molec_object.Pvap_bounds\n",
    "            property_name = \"Vapor pressure [bar]\"\n",
    "        elif \"Hvap\" in prop_key:\n",
    "            exp_data = molec_object.expt_Hvap\n",
    "            property_bounds = molec_object.Hvap_bounds\n",
    "            property_name = \"Enthalpy of Vaporization [kJ/kg]\"\n",
    "\n",
    "        values = np.array(list(exp_data.values()))\n",
    "        y_unc = molec_object.uncertainties[prop_key]\n",
    "        weight_unc = 1/(y_unc*values)**2\n",
    "        weight_2pct = 1/(0.02*values)**2\n",
    "        weight = np.maximum(weight_unc, weight_2pct)\n",
    "        df_vals = [key, prop_key, values, y_unc, weight]\n",
    "        iter_df = pd.DataFrame([df_vals], columns = df.columns)\n",
    "        iter_df = iter_df.apply(lambda col: col.explode(), axis=0).reset_index(drop=True).copy(deep =True)\n",
    "        df = pd.concat([df, iter_df], ignore_index=True)\n",
    "# df.to_csv(\"molecule_exp_unc_data.csv\", index = False, header = True)"
   ]
  },
  {
   "cell_type": "code",
   "execution_count": null,
   "metadata": {},
   "outputs": [],
   "source": [
    "molec_data_dict = {\"R14\":r14_class, \"R32\":r32_class, \"R50\":r50_class, \"R170\":r170_class, \"R125\":r125_class, \"R134a\":r134a_class, \"R143a\":r143a_class}\n",
    "molec_data_dict = {\"R125\":r125_class}\n",
    "all_gp_dict = opt_atom_types.get_gp_data_from_pkl(list(molec_data_dict.keys()))\n",
    "visual = opt_atom_types.Vis_Results(molec_data_dict, all_gp_dict, at_class, w_calc, obj_choice, save_data)\n",
    "molec_names = list([\"R14\", \"R32\", \"R50\", \"R170\", \"R125\", \"R134a\", \"R143a\"])\n",
    "visual.comp_paper_full_ind(molec_names)"
   ]
  },
  {
   "cell_type": "code",
   "execution_count": null,
   "metadata": {},
   "outputs": [],
   "source": [
    "molec = \"R32\"\n",
    "molec_data_dict = {molec:r32_class} #, \"R32\":r32_class, \"R50\":r50_class, \"R170\":r170_class, \"R125\":r125_class, \"R134a\":r134a_class, \"R143a\":r143a_class}\n",
    "all_gp_dict = opt_atom_types.get_gp_data_from_pkl(list(molec_data_dict.keys()))\n",
    "# all_gp_dict = {\"R14\" : {list(all_gp_dict[\"R14\"].keys())[0]: list(all_gp_dict[\"R14\"].values())[0]}}\n",
    "# all_gp_dict = {molec : all_gp_dict[molec]}\n",
    "at_optimizer =  opt_atom_types.Opt_ATs(molec_data_dict, all_gp_dict, at_class, repeats, seed, w_calc, obj_choice, save_data)\n",
    "ls_results = at_optimizer.optimize_ats()\n",
    "ls_results"
   ]
  },
  {
   "cell_type": "code",
   "execution_count": null,
   "metadata": {},
   "outputs": [],
   "source": [
    "# Determine the index of the row where column 'B' has the minimum value\n",
    "min_index = ls_results['Min Obj Cum.'].idxmin()\n",
    "\n",
    "# Retrieve the row corresponding to the minimum value in column 'B'\n",
    "min_row = ls_results.iloc[min_index]\n",
    "print(min_row)"
   ]
  },
  {
   "cell_type": "code",
   "execution_count": null,
   "metadata": {},
   "outputs": [],
   "source": [
    "first_param_name = at_optimizer.at_class.at_names[0] + \"_min\"\n",
    "last_param_name = at_optimizer.at_class.at_names[-1] + \"_min\"\n",
    "molec_best = ls_results.loc[21, first_param_name:last_param_name].values\n",
    "print(molec_best)"
   ]
  },
  {
   "cell_type": "code",
   "execution_count": null,
   "metadata": {},
   "outputs": [],
   "source": [
    "#Get best values from csvs\n",
    "def get_best_results(visual, molec_names):\n",
    "    best_vals = {}\n",
    "    #Get best_per_run.csv for all molecules\n",
    "    all_molec_dir = visual.make_results_dir(molec_names)\n",
    "    all_df = pd.read_csv(all_molec_dir+\"/best_per_run.csv\", header = 0)\n",
    "    # print(all_df)\n",
    "    first_param_name = visual.at_class.at_names[0] + \"_min\"\n",
    "    last_param_name = visual.at_class.at_names[-1] + \"_min\"\n",
    "    full_opt_best = all_df.loc[0, first_param_name:last_param_name].values\n",
    "    best_vals[\"All\"] = full_opt_best\n",
    "    for i in range(len(molec_names)):\n",
    "        molec_dir = visual.make_results_dir([molec_names[i]])\n",
    "        molec_df = pd.read_csv(molec_dir+\"/best_per_run.csv\", header = 0)\n",
    "        molec_best = molec_df.loc[0, first_param_name:last_param_name].values\n",
    "        best_vals[molec_names[i]] = molec_best\n",
    "    return best_vals"
   ]
  }
 ],
 "metadata": {
  "kernelspec": {
   "display_name": "Python 3 (ipykernel)",
   "language": "python",
   "name": "python3"
  },
  "language_info": {
   "codemirror_mode": {
    "name": "ipython",
    "version": 3
   },
   "file_extension": ".py",
   "mimetype": "text/x-python",
   "name": "python",
   "nbconvert_exporter": "python",
   "pygments_lexer": "ipython3",
   "version": "3.11.7"
  }
 },
 "nbformat": 4,
 "nbformat_minor": 4
}
