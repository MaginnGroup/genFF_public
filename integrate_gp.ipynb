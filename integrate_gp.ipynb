{
 "cells": [
  {
   "cell_type": "code",
   "execution_count": 1,
   "metadata": {},
   "outputs": [
    {
     "name": "stderr",
     "output_type": "stream",
     "text": [
      "2024-02-12 14:19:11.028113: I external/local_tsl/tsl/cuda/cudart_stub.cc:31] Could not find cuda drivers on your machine, GPU will not be used.\n",
      "2024-02-12 14:19:11.086790: E external/local_xla/xla/stream_executor/cuda/cuda_dnn.cc:9261] Unable to register cuDNN factory: Attempting to register factory for plugin cuDNN when one has already been registered\n",
      "2024-02-12 14:19:11.086845: E external/local_xla/xla/stream_executor/cuda/cuda_fft.cc:607] Unable to register cuFFT factory: Attempting to register factory for plugin cuFFT when one has already been registered\n",
      "2024-02-12 14:19:11.088929: E external/local_xla/xla/stream_executor/cuda/cuda_blas.cc:1515] Unable to register cuBLAS factory: Attempting to register factory for plugin cuBLAS when one has already been registered\n",
      "2024-02-12 14:19:11.098528: I external/local_tsl/tsl/cuda/cudart_stub.cc:31] Could not find cuda drivers on your machine, GPU will not be used.\n",
      "2024-02-12 14:19:11.099554: I tensorflow/core/platform/cpu_feature_guard.cc:182] This TensorFlow binary is optimized to use available CPU instructions in performance-critical operations.\n",
      "To enable the following instructions: AVX2 FMA, in other operations, rebuild TensorFlow with the appropriate compiler flags.\n",
      "2024-02-12 14:19:12.495229: W tensorflow/compiler/tf2tensorrt/utils/py_utils.cc:38] TF-TRT Warning: Could not find TensorRT\n"
     ]
    }
   ],
   "source": [
    "from utils import r14, r32, r50, r125, r134a, r143a, r170, atom_type, opt_atom_types\n",
    "import numpy as np\n",
    "import unyt as u"
   ]
  },
  {
   "cell_type": "code",
   "execution_count": 3,
   "metadata": {},
   "outputs": [],
   "source": [
    "#Load class properies for each molecule\n",
    "r14_class = r14.R14Constants()\n",
    "r32_class = r32.R32Constants()\n",
    "r50_class = r50.R50Constants()\n",
    "r125_class = r125.R125Constants()\n",
    "r134a_class = r134a.R134aConstants()\n",
    "r143a_class = r143a.R143aConstants()\n",
    "r170_class = r170.R170Constants()"
   ]
  },
  {
   "cell_type": "code",
   "execution_count": 6,
   "metadata": {},
   "outputs": [
    {
     "data": {
      "text/html": [
       "<div>\n",
       "<style scoped>\n",
       "    .dataframe tbody tr th:only-of-type {\n",
       "        vertical-align: middle;\n",
       "    }\n",
       "\n",
       "    .dataframe tbody tr th {\n",
       "        vertical-align: top;\n",
       "    }\n",
       "\n",
       "    .dataframe thead th {\n",
       "        text-align: right;\n",
       "    }\n",
       "</style>\n",
       "<table border=\"1\" class=\"dataframe\">\n",
       "  <thead>\n",
       "    <tr style=\"text-align: right;\">\n",
       "      <th></th>\n",
       "      <th>Param Init</th>\n",
       "      <th>Min Obj</th>\n",
       "      <th>Param at Min Obj</th>\n",
       "      <th>Min Obj Cum.</th>\n",
       "      <th>Param at Min Obj Cum.</th>\n",
       "      <th>func evals</th>\n",
       "      <th>jac evals</th>\n",
       "      <th>Termination</th>\n",
       "      <th>Total Run Time</th>\n",
       "    </tr>\n",
       "  </thead>\n",
       "  <tbody>\n",
       "    <tr>\n",
       "      <th>0</th>\n",
       "      <td>[0.2834044009405148, 0.3440648986884316, 0.150...</td>\n",
       "      <td>44.814526</td>\n",
       "      <td>[0.37034821636808674, 0.3440648986884316, 0.24...</td>\n",
       "      <td>44.814526</td>\n",
       "      <td>[3.7034821636808672, 3.440648986884316, 2.4034...</td>\n",
       "      <td>1131</td>\n",
       "      <td>87</td>\n",
       "      <td>0</td>\n",
       "      <td>193.297466</td>\n",
       "    </tr>\n",
       "  </tbody>\n",
       "</table>\n",
       "</div>"
      ],
      "text/plain": [
       "                                          Param Init    Min Obj  \\\n",
       "0  [0.2834044009405148, 0.3440648986884316, 0.150...  44.814526   \n",
       "\n",
       "                                    Param at Min Obj  Min Obj Cum.  \\\n",
       "0  [0.37034821636808674, 0.3440648986884316, 0.24...     44.814526   \n",
       "\n",
       "                               Param at Min Obj Cum.  func evals  jac evals  \\\n",
       "0  [3.7034821636808672, 3.440648986884316, 2.4034...        1131         87   \n",
       "\n",
       "   Termination  Total Run Time  \n",
       "0            0      193.297466  "
      ]
     },
     "execution_count": 6,
     "metadata": {},
     "output_type": "execute_result"
    }
   ],
   "source": [
    "#Get dict of refrigerant classes to consider\n",
    "repeats = 1\n",
    "molec_data_dict = {\"R170\":r170_class, \"R50\":r50_class} #, \"R14\": r14_class, \"R32\":r32_class, \"R50\":r50_class, \"R170\":r170_class, \"R125\":r125_class, \"R134a\":r134a_class, \"R143a\":r143a_class\n",
    "all_gp_dict = opt_atom_types.get_gp_data_from_pkl(list(molec_data_dict.keys()))\n",
    "at_class = atom_type.AT_Scheme_7()\n",
    "ls_results = opt_atom_types.optimize_ats(repeats, at_class, molec_data_dict, all_gp_dict, False, 1)\n",
    "ls_results"
   ]
  },
  {
   "cell_type": "code",
   "execution_count": 7,
   "metadata": {},
   "outputs": [
    {
     "name": "stdout",
     "output_type": "stream",
     "text": [
      "[ 3.70348216  3.44064899  2.40345502  2.60466515  2.29351178  2.18467719\n",
      " 60.87104185 32.46144726  4.27138022 33.85858569 29.671808   38.98268251]\n"
     ]
    }
   ],
   "source": [
    "print(ls_results[\"Param at Min Obj Cum.\"].iloc[0])"
   ]
  },
  {
   "cell_type": "code",
   "execution_count": null,
   "metadata": {},
   "outputs": [],
   "source": []
  }
 ],
 "metadata": {
  "kernelspec": {
   "display_name": "atom_type",
   "language": "python",
   "name": "python3"
  },
  "language_info": {
   "codemirror_mode": {
    "name": "ipython",
    "version": 3
   },
   "file_extension": ".py",
   "mimetype": "text/x-python",
   "name": "python",
   "nbconvert_exporter": "python",
   "pygments_lexer": "ipython3",
   "version": "3.11.7"
  }
 },
 "nbformat": 4,
 "nbformat_minor": 2
}
