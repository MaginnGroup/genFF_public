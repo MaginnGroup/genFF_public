{
 "cells": [
  {
   "cell_type": "code",
   "execution_count": 1,
   "metadata": {},
   "outputs": [
    {
     "name": "stderr",
     "output_type": "stream",
     "text": [
      "2024-04-17 12:56:30.166023: I external/local_tsl/tsl/cuda/cudart_stub.cc:31] Could not find cuda drivers on your machine, GPU will not be used.\n",
      "2024-04-17 12:56:30.212854: E external/local_xla/xla/stream_executor/cuda/cuda_dnn.cc:9261] Unable to register cuDNN factory: Attempting to register factory for plugin cuDNN when one has already been registered\n",
      "2024-04-17 12:56:30.212908: E external/local_xla/xla/stream_executor/cuda/cuda_fft.cc:607] Unable to register cuFFT factory: Attempting to register factory for plugin cuFFT when one has already been registered\n",
      "2024-04-17 12:56:30.214201: E external/local_xla/xla/stream_executor/cuda/cuda_blas.cc:1515] Unable to register cuBLAS factory: Attempting to register factory for plugin cuBLAS when one has already been registered\n",
      "2024-04-17 12:56:30.221319: I external/local_tsl/tsl/cuda/cudart_stub.cc:31] Could not find cuda drivers on your machine, GPU will not be used.\n",
      "2024-04-17 12:56:30.223462: I tensorflow/core/platform/cpu_feature_guard.cc:182] This TensorFlow binary is optimized to use available CPU instructions in performance-critical operations.\n",
      "To enable the following instructions: AVX2 FMA, in other operations, rebuild TensorFlow with the appropriate compiler flags.\n",
      "2024-04-17 12:56:31.307793: W tensorflow/compiler/tf2tensorrt/utils/py_utils.cc:38] TF-TRT Warning: Could not find TensorRT\n"
     ]
    }
   ],
   "source": [
    "from utils import r14, r32, r50, r125, r134a, r143a, r170, atom_type, opt_atom_types\n",
    "import numpy as np\n",
    "import unyt as u\n",
    "import pandas as pd\n",
    "from fffit.fffit.utils import values_real_to_scaled, values_scaled_to_real, variances_scaled_to_real\n",
    "from fffit.fffit.plot import plot_obj_contour"
   ]
  },
  {
   "cell_type": "code",
   "execution_count": 2,
   "metadata": {},
   "outputs": [],
   "source": [
    "#Load class properies for each molecule\n",
    "r14_class = r14.R14Constants()\n",
    "r32_class = r32.R32Constants()\n",
    "r50_class = r50.R50Constants()\n",
    "r125_class = r125.R125Constants()\n",
    "r134a_class = r134a.R134aConstants()\n",
    "r143a_class = r143a.R143aConstants()\n",
    "r170_class = r170.R170Constants()"
   ]
  },
  {
   "cell_type": "code",
   "execution_count": 3,
   "metadata": {},
   "outputs": [],
   "source": [
    "at_class = atom_type.AT_Scheme_9()\n",
    "w_calc = 2\n",
    "repeats = 1\n",
    "seed = 1\n",
    "save_data = False\n",
    "w_calc = 2\n",
    "obj_choice = \"ExpVal\"\n",
    "molec_data_dict = {\"R134a\":r134a_class}\n",
    "pm = at_class.get_transformation_matrix(molec_data_dict)\n",
    "# print(pm)\n",
    "theta_paper = np.array([3.727, 3.578558657, 3.754, 2.237, 2.607, 3.255, 2.982, 71.73, 11.25885226, 72.61, 23.13, 39.98, 20.164, 23.13])\n",
    "t_paper = theta_paper.reshape(-1,1).T@pm\n",
    "# print(t_paper)"
   ]
  },
  {
   "cell_type": "code",
   "execution_count": 11,
   "metadata": {},
   "outputs": [
    {
     "name": "stdout",
     "output_type": "stream",
     "text": [
      "44968.56878627168\n"
     ]
    }
   ],
   "source": [
    "import scipy \n",
    "repeats = 1\n",
    "seed = 1\n",
    "save_data = False\n",
    "w_calc = 2\n",
    "obj_choice = \"ExpVal\"\n",
    "at_class = atom_type.AT_Scheme_9()\n",
    "molec_data_dict = {\"R14\":r14_class, \"R32\":r32_class, \"R50\":r50_class, \"R125\":r125_class, \"R170\":r170_class, \"R134a\":r134a_class, \"R143a\":r143a_class}\n",
    "# molec_data_dict = {\"R134a\":r134a_class}\n",
    "all_gp_dict = opt_atom_types.get_gp_data_from_pkl(list(molec_data_dict.keys()))\n",
    "at_optimizer =  opt_atom_types.Opt_ATs(molec_data_dict, all_gp_dict, at_class, repeats, seed, w_calc, obj_choice, save_data)\n",
    "# best_pref = np.array([3.727, 3.578558657, 3.754, 2.237, 2.607, 3.255, 2.982, 71.73, 11.25885226, 72.61, 2.55, 39.98, 20.164, 23.13])\n",
    "best_pref = np.array([3.563847649565008, 3.7023297804578013, 3.383454561616988, 2.501869323173524, 2.8016532687774456, 2.9570560025914276, 2.938081818350493, 47.955100549476825, 42.9383601572982, 51.7928754827407, 9.956251656605064, 39.956127381108494, 28.664773473001603, 24.34860285294489]\n",
    ")\n",
    "# best_pref = np.array([3.727,3.810,3.754, 3.028,3.809,\n",
    "#                       2.316,\n",
    "#                       2.607,3.255,3.424,2.917,\n",
    "#                       71.730,52.200, 72.610,53.690,69.970,\n",
    "#                       6.160,\n",
    "#                       39.980,20.164, 17.050, 29.070])\n",
    "best_real= at_optimizer.values_pref_to_real(best_pref)\n",
    "obj = at_optimizer.calc_obj(best_real)\n",
    "print(obj[0])\n",
    "\n",
    "# jac = at_optimizer.approx_jac(best_real)\n",
    "# hess = at_optimizer.approx_hess(best_real)\n",
    "# print(scipy.linalg.norm(jac, ord = np.inf))\n",
    "# eigval, eigvec = scipy.linalg.eig(hess)\n",
    "# print(eigval, eigvec)"
   ]
  },
  {
   "cell_type": "code",
   "execution_count": 6,
   "metadata": {},
   "outputs": [
    {
     "name": "stdout",
     "output_type": "stream",
     "text": [
      "[[ 2.58653887e+06  2.19245765e+04  9.68735930e+03 -1.06736586e+04\n",
      "  -5.03616477e+03  0.00000000e+00  3.47746543e+06  7.21841387e+05\n",
      "   1.06368235e+04  2.52553519e+03  8.41247009e+03  1.76512898e+04\n",
      "   0.00000000e+00  2.52236632e+05]]\n",
      "[[ 7.23104078e+08  2.42492508e-08  2.97220364e-08  8.53623316e+06\n",
      "   9.76699219e+05  0.00000000e+00 -2.25341330e+08  1.83913338e+08\n",
      "  -6.89906157e-09  8.48994504e-08  5.04663702e+07  3.70901643e+06\n",
      "   0.00000000e+00  4.45923917e+08]\n",
      " [ 2.42492508e-08  8.35538498e+07  2.20216762e+07 -2.49464705e+06\n",
      "   0.00000000e+00  0.00000000e+00 -5.38041833e+06 -3.60050360e-08\n",
      "   3.17230413e+07  5.40208817e+06  8.23470935e+07 -1.02847640e-08\n",
      "   0.00000000e+00  1.12231816e+07]\n",
      " [ 2.97220364e-08  2.20216762e+07  3.62277484e+07 -3.61578920e+06\n",
      "   5.74593541e-09  0.00000000e+00 -9.78976774e+06  2.60114596e-09\n",
      "   8.18347789e+06  8.88279669e+06  1.77010945e+07  3.81658675e-09\n",
      "   0.00000000e+00  1.84157382e+07]\n",
      " [ 8.53623316e+06 -2.49464705e+06 -3.61578920e+06  1.44768549e+07\n",
      "   1.88506198e+06  0.00000000e+00  2.19722159e+06  3.18661464e+06\n",
      "  -1.92368047e+06 -9.51053814e+05  1.23599269e+07 -1.56538884e+06\n",
      "   0.00000000e+00 -1.87385931e+06]\n",
      " [ 9.76699219e+05  0.00000000e+00  5.74593541e-09  1.88506198e+06\n",
      "   4.71337835e+06  0.00000000e+00  1.17223486e-07 -4.24184339e+05\n",
      "  -1.16338174e-09 -1.71361524e-10 -8.43284269e+05 -9.22484988e+05\n",
      "   0.00000000e+00 -2.15204448e-08]\n",
      " [ 0.00000000e+00  0.00000000e+00  0.00000000e+00  0.00000000e+00\n",
      "   0.00000000e+00  0.00000000e+00  0.00000000e+00  0.00000000e+00\n",
      "   0.00000000e+00  0.00000000e+00  0.00000000e+00  0.00000000e+00\n",
      "   0.00000000e+00  0.00000000e+00]\n",
      " [-2.25341330e+08 -5.38041833e+06 -9.78976774e+06  2.19722159e+06\n",
      "   1.17223486e-07  0.00000000e+00  8.78695709e+09 -1.38150065e+08\n",
      "  -2.32289755e+06 -2.57790758e+06 -4.35844619e+06  8.93013062e-08\n",
      "   0.00000000e+00 -4.09531720e+08]\n",
      " [ 1.83913338e+08 -3.60050360e-08  2.60114596e-09  3.18661464e+06\n",
      "  -4.24184339e+05  0.00000000e+00 -1.38150065e+08  5.23488127e+07\n",
      "  -3.79985553e-10  2.29058516e-09  2.43804998e+07  2.32883748e+06\n",
      "   0.00000000e+00  1.09795615e+08]\n",
      " [-6.89906157e-09  3.17230413e+07  8.18347789e+06 -1.92368047e+06\n",
      "  -1.16338174e-09  0.00000000e+00 -2.32289755e+06 -3.79985553e-10\n",
      "   1.21202474e+07  2.01212799e+06  3.16185362e+07 -7.32118914e-12\n",
      "   0.00000000e+00  4.16120332e+06]\n",
      " [ 8.48994504e-08  5.40208817e+06  8.88279669e+06 -9.51053814e+05\n",
      "  -1.71361524e-10  0.00000000e+00 -2.57790758e+06  2.29058516e-09\n",
      "   2.01212799e+06  2.18395794e+06  4.30445566e+06  1.23298377e-09\n",
      "   0.00000000e+00  4.51823944e+06]\n",
      " [ 5.04663702e+07  8.23470935e+07  1.77010945e+07  1.23599269e+07\n",
      "  -8.43284269e+05  0.00000000e+00 -4.35844619e+06  2.43804998e+07\n",
      "   3.16185362e+07  4.30445566e+06  1.71801936e+08  3.99835968e+06\n",
      "   0.00000000e+00  8.98418990e+06]\n",
      " [ 3.70901643e+06 -1.02847640e-08  3.81658675e-09 -1.56538884e+06\n",
      "  -9.22484988e+05  0.00000000e+00  8.93013062e-08  2.32883748e+06\n",
      "  -7.32118914e-12  1.23298377e-09  3.99835968e+06  3.94178595e+06\n",
      "   0.00000000e+00 -9.54805830e-11]\n",
      " [ 0.00000000e+00  0.00000000e+00  0.00000000e+00  0.00000000e+00\n",
      "   0.00000000e+00  0.00000000e+00  0.00000000e+00  0.00000000e+00\n",
      "   0.00000000e+00  0.00000000e+00  0.00000000e+00  0.00000000e+00\n",
      "   0.00000000e+00  0.00000000e+00]\n",
      " [ 4.45923917e+08  1.12231816e+07  1.84157382e+07 -1.87385931e+06\n",
      "  -2.15204448e-08  0.00000000e+00 -4.09531720e+08  1.09795615e+08\n",
      "   4.16120332e+06  4.51823944e+06  8.98418990e+06 -9.54805830e-11\n",
      "   0.00000000e+00  3.68708510e+08]]\n"
     ]
    }
   ],
   "source": [
    "print(jac)\n",
    "print(hess)"
   ]
  },
  {
   "cell_type": "code",
   "execution_count": 8,
   "metadata": {},
   "outputs": [],
   "source": [
    "import os\n",
    "x_label = \"best_set\"\n",
    "dir_name = at_optimizer.make_results_dir(list(at_optimizer.molec_data_dict.keys()))\n",
    "save_path = os.path.join(dir_name, x_label + \"_hess_approx.npy\")\n",
    "np.save(save_path, hess)"
   ]
  },
  {
   "cell_type": "code",
   "execution_count": null,
   "metadata": {},
   "outputs": [],
   "source": [
    "eigval, eigvec = scipy.linalg.eig(hess)\n",
    "print(eigvec)"
   ]
  },
  {
   "cell_type": "code",
   "execution_count": null,
   "metadata": {},
   "outputs": [],
   "source": [
    "# best_pref = np.array([3.727, 3.037, 3.809, 1.711, 2.607, 3.255, 3.424, 71.73, 55.4, 69.97, 3.55, 39.98, 20.164, 17.05])\n",
    "print(best_pref)\n",
    "#Get transformation matrix\n",
    "param_matrix = at_class.get_transformation_matrix(molec_data_dict)\n",
    "#Transform the guess, and scale to bounds\n",
    "best_real= at_optimizer.values_pref_to_real(best_pref)\n",
    "print(best_real)\n",
    "gp_theta = best_real.reshape(-1,1).T@param_matrix\n",
    "print(gp_theta)\n",
    "gp_theta_guess = values_real_to_scaled(gp_theta, molec_object.param_bounds)\n",
    "print(gp_theta_guess)\n",
    "\n",
    "molec_gps_dict = all_gp_dict[molec_key]\n",
    "key = list(molec_gps_dict.keys())[0]\n",
    "#Get GP associated with property\n",
    "gp_model = molec_gps_dict[key]\n",
    "#Get X and Y data and bounds associated with the GP\n",
    "exp_data, y_bounds, y_names = at_optimizer.get_exp_data(molec_object, key)\n",
    "#Get x and y data\n",
    "x_exp = np.array(list(exp_data.keys())).reshape(-1,1)\n",
    "y_exp = np.array(list(exp_data.values()))\n",
    "\n",
    "gp_mean_scl, gp_covar_scl, gp_var_scl, gp_grad_mean = at_optimizer.eval_gp_new_theta(gp_theta_guess, molec_object, gp_model, x_exp)\n",
    "#Scale gp output to real value\n",
    "gp_mean = values_scaled_to_real(gp_mean_scl, y_bounds)\n",
    "print(gp_mean.flatten() - y_exp.flatten())\n",
    "\n",
    "# jac, hess = at_optimizer.approx_jac_hess(best_real)\n",
    "# print(scipy.linalg.norm(jac, ord = np.inf))"
   ]
  },
  {
   "cell_type": "code",
   "execution_count": null,
   "metadata": {},
   "outputs": [],
   "source": [
    "import os\n",
    "import tensorflow as tf\n",
    "molec_data_dict = {\"R14\":r14_class, \"R32\":r32_class, \"R50\":r50_class, \"R170\":r170_class, \"R125\":r125_class, \"R134a\":r134a_class, \"R143a\":r143a_class}\n",
    "all_gp_dict = opt_atom_types.get_gp_data_from_pkl(list(molec_data_dict.keys()))\n",
    "visual = opt_atom_types.Vis_Results(molec_data_dict, all_gp_dict, at_class, w_calc, obj_choice, save_data)\n",
    "for molec_names in list(molec_data_dict.keys()):\n",
    "    param_matrix = visual.at_class.get_transformation_matrix({molec_names: molec_data_dict[molec_names]})\n",
    "    #Get best_per_run.csv for all molecules\n",
    "    molec_dir = visual.make_results_dir([molec_names])\n",
    "    if os.path.exists(molec_dir+\"/best_per_run.csv\"):\n",
    "        print(molec_dir)\n",
    "        molec_df = pd.read_csv(molec_dir+\"/best_per_run.csv\", header = 0)\n",
    "        # print(molec_df.head())\n",
    "        first_param_name = at_class.at_names[0] + \"_min\"\n",
    "        last_param_name = at_class.at_names[-1] + \"_min\"\n",
    "        print(molec_df.loc[0, \"Min Obj\"])\n",
    "        molec_best = molec_df.loc[0, first_param_name:last_param_name].values\n",
    "        print(molec_best)\n",
    "        # ind_best_real = visual.values_pref_to_real(molec_best)\n",
    "        # ind_best_scl = values_real_to_scaled(ind_best_real.reshape(1,-1), at_class.at_bounds_nm_kjmol)\n",
    "        ind_best_gp = molec_best.reshape(-1,1).T@param_matrix\n",
    "        # ind_best_gp = tf.convert_to_tensor(ind_best_gp, dtype=tf.float64)\n",
    "        print(ind_best_gp)"
   ]
  },
  {
   "cell_type": "code",
   "execution_count": null,
   "metadata": {},
   "outputs": [],
   "source": [
    "molec_data_dict = {\"R14\":r14_class, \"R32\":r32_class, \"R50\":r50_class, \"R170\":r170_class, \"R125\":r125_class, \"R134a\":r134a_class, \"R143a\":r143a_class}\n",
    "df = pd.DataFrame(columns = [\"Molecule\", \"Property\", \"Value\", \"Uncertainty\", \"Weight\"])\n",
    "for key in list(molec_data_dict.keys()):\n",
    "    molec_object = molec_data_dict[key]\n",
    "    for prop_key in list(molec_object.uncertainties.keys()):\n",
    "        if \"vap_density\" in prop_key:\n",
    "            exp_data = molec_object.expt_vap_density\n",
    "            property_bounds = molec_object.vap_density_bounds\n",
    "            property_name = \"Vapor Density [kg/m^3]\"\n",
    "        elif \"liq_density\" in prop_key:\n",
    "            exp_data = molec_object.expt_liq_density\n",
    "            property_bounds = molec_object.liq_density_bounds\n",
    "            property_name = \"Liquid Density [kg/m^3]\"\n",
    "        elif \"Pvap\" in prop_key: \n",
    "            exp_data = molec_object.expt_Pvap\n",
    "            property_bounds = molec_object.Pvap_bounds\n",
    "            property_name = \"Vapor pressure [bar]\"\n",
    "        elif \"Hvap\" in prop_key:\n",
    "            exp_data = molec_object.expt_Hvap\n",
    "            property_bounds = molec_object.Hvap_bounds\n",
    "            property_name = \"Enthalpy of Vaporization [kJ/kg]\"\n",
    "\n",
    "        values = np.array(list(exp_data.values()))\n",
    "        y_unc = molec_object.uncertainties[prop_key]\n",
    "        weight_unc = 1/(y_unc*values)**2\n",
    "        weight_2pct = 1/(0.02*values)**2\n",
    "        weight = np.maximum(weight_unc, weight_2pct)\n",
    "        df_vals = [key, prop_key, values, y_unc, weight]\n",
    "        iter_df = pd.DataFrame([df_vals], columns = df.columns)\n",
    "        iter_df = iter_df.apply(lambda col: col.explode(), axis=0).reset_index(drop=True).copy(deep =True)\n",
    "        df = pd.concat([df, iter_df], ignore_index=True)\n",
    "# df.to_csv(\"molecule_exp_unc_data.csv\", index = False, header = True)"
   ]
  },
  {
   "cell_type": "code",
   "execution_count": null,
   "metadata": {},
   "outputs": [],
   "source": [
    "molec_data_dict = {\"R14\":r14_class, \"R32\":r32_class, \"R50\":r50_class, \"R170\":r170_class, \"R125\":r125_class, \"R134a\":r134a_class, \"R143a\":r143a_class}\n",
    "# molec_data_dict = {\"R125\":r125_class}\n",
    "all_gp_dict = opt_atom_types.get_gp_data_from_pkl(list(molec_data_dict.keys()))\n",
    "visual = opt_atom_types.Vis_Results(molec_data_dict, all_gp_dict, at_class, w_calc, obj_choice, save_data)\n",
    "molec_names = list([\"R14\", \"R32\", \"R50\", \"R170\", \"R125\", \"R134a\", \"R143a\"])\n",
    "visual.comp_paper_full_ind(molec_names)"
   ]
  },
  {
   "cell_type": "code",
   "execution_count": null,
   "metadata": {},
   "outputs": [],
   "source": [
    "molec = \"R32\"\n",
    "molec_data_dict = {molec:r32_class} #, \"R32\":r32_class, \"R50\":r50_class, \"R170\":r170_class, \"R125\":r125_class, \"R134a\":r134a_class, \"R143a\":r143a_class}\n",
    "all_gp_dict = opt_atom_types.get_gp_data_from_pkl(list(molec_data_dict.keys()))\n",
    "# all_gp_dict = {\"R14\" : {list(all_gp_dict[\"R14\"].keys())[0]: list(all_gp_dict[\"R14\"].values())[0]}}\n",
    "# all_gp_dict = {molec : all_gp_dict[molec]}\n",
    "at_optimizer =  opt_atom_types.Opt_ATs(molec_data_dict, all_gp_dict, at_class, repeats, seed, w_calc, obj_choice, save_data)\n",
    "ls_results = at_optimizer.optimize_ats()\n",
    "ls_results"
   ]
  },
  {
   "cell_type": "code",
   "execution_count": null,
   "metadata": {},
   "outputs": [],
   "source": [
    "# Determine the index of the row where column 'B' has the minimum value\n",
    "min_index = ls_results['Min Obj Cum.'].idxmin()\n",
    "\n",
    "# Retrieve the row corresponding to the minimum value in column 'B'\n",
    "min_row = ls_results.iloc[min_index]\n",
    "print(min_row)"
   ]
  },
  {
   "cell_type": "code",
   "execution_count": null,
   "metadata": {},
   "outputs": [],
   "source": [
    "first_param_name = at_optimizer.at_class.at_names[0] + \"_min\"\n",
    "last_param_name = at_optimizer.at_class.at_names[-1] + \"_min\"\n",
    "molec_best = ls_results.loc[21, first_param_name:last_param_name].values\n",
    "print(molec_best)"
   ]
  },
  {
   "cell_type": "code",
   "execution_count": null,
   "metadata": {},
   "outputs": [],
   "source": [
    "#Get best values from csvs\n",
    "def get_best_results(visual, molec_names):\n",
    "    best_vals = {}\n",
    "    #Get best_per_run.csv for all molecules\n",
    "    all_molec_dir = visual.make_results_dir(molec_names)\n",
    "    all_df = pd.read_csv(all_molec_dir+\"/best_per_run.csv\", header = 0)\n",
    "    # print(all_df)\n",
    "    first_param_name = visual.at_class.at_names[0] + \"_min\"\n",
    "    last_param_name = visual.at_class.at_names[-1] + \"_min\"\n",
    "    full_opt_best = all_df.loc[0, first_param_name:last_param_name].values\n",
    "    best_vals[\"All\"] = full_opt_best\n",
    "    for i in range(len(molec_names)):\n",
    "        molec_dir = visual.make_results_dir([molec_names[i]])\n",
    "        molec_df = pd.read_csv(molec_dir+\"/best_per_run.csv\", header = 0)\n",
    "        molec_best = molec_df.loc[0, first_param_name:last_param_name].values\n",
    "        best_vals[molec_names[i]] = molec_best\n",
    "    return best_vals"
   ]
  }
 ],
 "metadata": {
  "kernelspec": {
   "display_name": "Python 3 (ipykernel)",
   "language": "python",
   "name": "python3"
  },
  "language_info": {
   "codemirror_mode": {
    "name": "ipython",
    "version": 3
   },
   "file_extension": ".py",
   "mimetype": "text/x-python",
   "name": "python",
   "nbconvert_exporter": "python",
   "pygments_lexer": "ipython3",
   "version": "3.11.7"
  }
 },
 "nbformat": 4,
 "nbformat_minor": 4
}
