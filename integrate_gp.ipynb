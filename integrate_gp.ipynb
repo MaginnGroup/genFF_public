{
 "cells": [
  {
   "cell_type": "code",
   "execution_count": null,
   "metadata": {},
   "outputs": [],
   "source": [
    "from utils import r14, r32, r50, r125, r134a, r143a, r170, atom_type, opt_atom_types\n",
    "import numpy as np\n",
    "import unyt as u\n",
    "from fffit.fffit.utils import values_real_to_scaled, values_scaled_to_real, variances_scaled_to_real"
   ]
  },
  {
   "cell_type": "code",
   "execution_count": null,
   "metadata": {},
   "outputs": [],
   "source": [
    "#Load class properies for each molecule\n",
    "r14_class = r14.R14Constants()\n",
    "r32_class = r32.R32Constants()\n",
    "r50_class = r50.R50Constants()\n",
    "r125_class = r125.R125Constants()\n",
    "r134a_class = r134a.R134aConstants()\n",
    "r143a_class = r143a.R143aConstants()\n",
    "r170_class = r170.R170Constants()"
   ]
  },
  {
   "cell_type": "code",
   "execution_count": null,
   "metadata": {},
   "outputs": [],
   "source": [
    "repeats = 1\n",
    "seed = 1\n",
    "save_data = False\n",
    "at_class = atom_type.AT_Scheme_7()"
   ]
  },
  {
   "cell_type": "code",
   "execution_count": null,
   "metadata": {},
   "outputs": [],
   "source": [
    "molec = \"R143a\"\n",
    "molec_data_dict = {molec:r143a_class} #, \"R32\":r32_class, \"R50\":r50_class, \"R170\":r170_class, \"R125\":r125_class, \"R134a\":r134a_class, \"R143a\":r143a_class}\n",
    "all_gp_dict = opt_atom_types.get_gp_data_from_pkl(list(molec_data_dict.keys()))\n",
    "# all_gp_dict = {\"R14\" : {list(all_gp_dict[\"R14\"].keys())[0]: list(all_gp_dict[\"R14\"].values())[0]}}\n",
    "all_gp_dict = {molec : all_gp_dict[molec]}\n",
    "setup = opt_atom_types.Problem_Setup(molec_data_dict, all_gp_dict, at_class, save_data)\n",
    "at_optimizer =  opt_atom_types.Opt_ATs(molec_data_dict, all_gp_dict, at_class, repeats, seed, save_data)\n",
    "# ls_results = at_optimizer.optimize_ats()\n",
    "# ls_results"
   ]
  },
  {
   "cell_type": "code",
   "execution_count": null,
   "metadata": {},
   "outputs": [],
   "source": [
    "# Determine the index of the row where column 'B' has the minimum value\n",
    "min_index = ls_results['Min Obj Cum.'].idxmin()\n",
    "\n",
    "# Retrieve the row corresponding to the minimum value in column 'B'\n",
    "min_row = ls_results.iloc[min_index]\n",
    "print(min_row)"
   ]
  },
  {
   "cell_type": "code",
   "execution_count": null,
   "metadata": {},
   "outputs": [],
   "source": [
    "# ls_results.to_csv(\"test1.csv\")"
   ]
  },
  {
   "cell_type": "code",
   "execution_count": null,
   "metadata": {},
   "outputs": [],
   "source": [
    "molec_data_dict = {\"R14\":r14_class, \"R32\":r32_class, \"R50\":r50_class, \"R170\":r170_class, \"R125\":r125_class, \"R134a\":r134a_class, \"R143a\":r143a_class}\n",
    "all_gp_dict = opt_atom_types.get_gp_data_from_pkl(list(molec_data_dict.keys()))\n",
    "driver = opt_atom_types.Opt_ATs(molec_data_dict, all_gp_dict, at_class, repeats, seed, save_data)"
   ]
  },
  {
   "cell_type": "raw",
   "metadata": {},
   "source": [
    "#Get best set from optimization\n",
    "best_set = np.array([2.89631543,\t4,\t1.5,\t3.1945792,\t2.23150945,\t3.07915865,\t75,\t75,\t9.9999988,\t29.9003147,\t50,\t50])\n",
    "midpoint = len(best_set) //2\n",
    "sigmas = [float((x * u.Angstrom).in_units(u.nm).value) for x in best_set[:midpoint]]\n",
    "epsilons = [float(x * (u.K * u.kb).in_units(\"kJ/mol\")) for x in best_set[midpoint:]]\n",
    "best_set = np.array(sigmas + epsilons)\n",
    "\n",
    "l2norm_min = np.inf\n",
    "#Get training data\n",
    "for key in list(molec_data_dict.keys()):\n",
    "    #Get param that is comparable with GP\n",
    "    param_matrix = at_class.get_transformation_matrix(key)\n",
    "    gp_theta = best_set.reshape(1,-1)@param_matrix\n",
    "    gp_theta_best = values_real_to_scaled(gp_theta, molec_data_dict[key].param_bounds)\n",
    "    train_data, test_data = opt_atom_types.get_train_test_data(key, list(all_gp_dict[key].keys()))\n",
    "    #Get the training set closest to the parameter set\n",
    "    #Calc L2 Norm\n",
    "    distances = np.linalg.norm(train_data['x'][:,:-1] - gp_theta_best, ord = 2, axis=1)\n",
    "    if np.min(distances) < l2norm_min:\n",
    "        l2norm_min = np.min(distances)\n",
    "        # Find the index of the row with the smallest distance\n",
    "        closest_index = np.argmin(distances)\n",
    "        # Get the row that is closest to best attay\n",
    "        closest_row_parms = train_data['x'][closest_index, :-1].reshape(-1,1)\n",
    "        closest_row = values_scaled_to_real(closest_row_parms.T, molec_data_dict[key].param_bounds)\n",
    "        key_best = key\n",
    "        gp_theta_match = gp_theta\n",
    "        gp_theta_org = gp_theta\n",
    "\n",
    "print(key_best)        \n",
    "print(\"closest training param set \\n\", closest_row)\n",
    "print(\"best param set \\n\",gp_theta_match)\n",
    "print(\"l2 norm \\n\", l2norm_min)"
   ]
  },
  {
   "cell_type": "raw",
   "metadata": {},
   "source": [
    "#View Jac and Hess of solution matrix\n",
    "jac, hess = driver.approx_jac_hess(best_set)"
   ]
  },
  {
   "cell_type": "raw",
   "metadata": {},
   "source": [
    "eig_vals, eig_vecs = np.linalg.eig(hess)\n",
    "print(\"Hessian: \\n\", hess)\n",
    "print(\"Eigen Values (Hess): \\n\", eig_vals)\n",
    "print(\"Eigen Vectors (Hess): \\n\", eig_vecs)"
   ]
  }
 ],
 "metadata": {
  "kernelspec": {
   "display_name": "Python 3 (ipykernel)",
   "language": "python",
   "name": "python3"
  },
  "language_info": {
   "codemirror_mode": {
    "name": "ipython",
    "version": 3
   },
   "file_extension": ".py",
   "mimetype": "text/x-python",
   "name": "python",
   "nbconvert_exporter": "python",
   "pygments_lexer": "ipython3",
   "version": "3.11.7"
  }
 },
 "nbformat": 4,
 "nbformat_minor": 4
}
