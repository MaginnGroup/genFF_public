{
 "cells": [
  {
   "cell_type": "code",
   "execution_count": 6,
   "metadata": {},
   "outputs": [],
   "source": [
    "from utils import r14, r32, r50, r125, r134a, r143a, r170, atom_type, opt_atom_types\n",
    "import numpy as np\n",
    "import unyt as u\n",
    "import pandas as pd\n",
    "from fffit.fffit.utils import values_real_to_scaled, values_scaled_to_real, variances_scaled_to_real\n",
    "from fffit.fffit.plot import plot_obj_contour"
   ]
  },
  {
   "cell_type": "code",
   "execution_count": 7,
   "metadata": {},
   "outputs": [],
   "source": [
    "#Load class properies for each molecule\n",
    "r14_class = r14.R14Constants()\n",
    "r32_class = r32.R32Constants()\n",
    "r50_class = r50.R50Constants()\n",
    "r125_class = r125.R125Constants()\n",
    "r134a_class = r134a.R134aConstants()\n",
    "r143a_class = r143a.R143aConstants()\n",
    "r170_class = r170.R170Constants()"
   ]
  },
  {
   "cell_type": "code",
   "execution_count": null,
   "metadata": {},
   "outputs": [],
   "source": [
    "molec_data_dict = {\"R14\":r14_class, \"R32\":r32_class, \"R50\":r50_class, \"R170\":r170_class, \"R125\":r125_class, \"R134a\":r134a_class, \"R143a\":r143a_class}\n",
    "df = pd.DataFrame(columns = [\"Molecule\", \"Property\", \"Value\", \"Uncertainty\", \"Weight\"])\n",
    "for key in list(molec_data_dict.keys()):\n",
    "    molec_object = molec_data_dict[key]\n",
    "    for prop_key in list(molec_object.uncertainties.keys()):\n",
    "        if \"vap_density\" in prop_key:\n",
    "            exp_data = molec_object.expt_vap_density\n",
    "            property_bounds = molec_object.vap_density_bounds\n",
    "            property_name = \"Vapor Density [kg/m^3]\"\n",
    "        elif \"liq_density\" in prop_key:\n",
    "            exp_data = molec_object.expt_liq_density\n",
    "            property_bounds = molec_object.liq_density_bounds\n",
    "            property_name = \"Liquid Density [kg/m^3]\"\n",
    "        elif \"Pvap\" in prop_key: \n",
    "            exp_data = molec_object.expt_Pvap\n",
    "            property_bounds = molec_object.Pvap_bounds\n",
    "            property_name = \"Vapor pressure [bar]\"\n",
    "        elif \"Hvap\" in prop_key:\n",
    "            exp_data = molec_object.expt_Hvap\n",
    "            property_bounds = molec_object.Hvap_bounds\n",
    "            property_name = \"Enthalpy of Vaporization [kJ/kg]\"\n",
    "\n",
    "        values = np.array(list(exp_data.values()))\n",
    "        y_unc = molec_object.uncertainties[prop_key]\n",
    "        weight_unc = 1/(y_unc*values)**2\n",
    "        weight_2pct = 1/(0.02*values)**2\n",
    "        weight = np.maximum(weight_unc, weight_2pct)\n",
    "        df_vals = [key, prop_key, values, y_unc, weight]\n",
    "        iter_df = pd.DataFrame([df_vals], columns = df.columns)\n",
    "        iter_df = iter_df.apply(lambda col: col.explode(), axis=0).reset_index(drop=True).copy(deep =True)\n",
    "        df = pd.concat([df, iter_df], ignore_index=True)\n",
    "# df.to_csv(\"molecule_exp_unc_data.csv\", index = False, header = True)"
   ]
  },
  {
   "cell_type": "code",
   "execution_count": 9,
   "metadata": {},
   "outputs": [
    {
     "name": "stdout",
     "output_type": "stream",
     "text": [
      "[[0. 0. 0. 0. 0. 0. 0. 0. 0. 0.]\n",
      " [0. 0. 0. 0. 0. 0. 0. 0. 0. 0.]\n",
      " [1. 1. 0. 0. 0. 0. 0. 0. 0. 0.]\n",
      " [0. 0. 1. 0. 0. 0. 0. 0. 0. 0.]\n",
      " [0. 0. 0. 1. 0. 0. 0. 0. 0. 0.]\n",
      " [0. 0. 0. 0. 0. 0. 0. 0. 0. 0.]\n",
      " [0. 0. 0. 0. 1. 0. 0. 0. 0. 0.]\n",
      " [0. 0. 0. 0. 0. 0. 0. 0. 0. 0.]\n",
      " [0. 0. 0. 0. 0. 0. 0. 0. 0. 0.]\n",
      " [0. 0. 0. 0. 0. 1. 1. 0. 0. 0.]\n",
      " [0. 0. 0. 0. 0. 0. 0. 1. 0. 0.]\n",
      " [0. 0. 0. 0. 0. 0. 0. 0. 1. 0.]\n",
      " [0. 0. 0. 0. 0. 0. 0. 0. 0. 0.]\n",
      " [0. 0. 0. 0. 0. 0. 0. 0. 0. 1.]]\n",
      "[[ 3.754  3.754  2.237  2.607  2.982 72.61  72.61  23.13  39.98  23.13 ]]\n"
     ]
    }
   ],
   "source": [
    "repeats = 1\n",
    "seed = 1\n",
    "save_data = False\n",
    "w_calc = 2\n",
    "obj_choice = \"ExpVal\"\n",
    "at_class = atom_type.AT_Scheme_9()\n",
    "molec_data_dict = {\"R134a\":r134a_class}\n",
    "pm = at_class.get_transformation_matrix(molec_data_dict)\n",
    "print(pm)\n",
    "theta_paper = np.array([3.727, 3.578558657, 3.754, 2.237, 2.607, 3.255, 2.982, 71.73, 11.25885226, 72.61, 23.13, 39.98, 20.164, 23.13])\n",
    "t_paper = theta_paper.reshape(-1,1).T@pm\n",
    "print(t_paper)"
   ]
  },
  {
   "cell_type": "code",
   "execution_count": 25,
   "metadata": {},
   "outputs": [
    {
     "name": "stdout",
     "output_type": "stream",
     "text": [
      "Results/at_9/R14/ExpVal/wt_y_var\n",
      "661.5452228409085\n",
      "[[3.433271424285917 2.9202925438856786 30.567616530912 32.38449650118564]]\n",
      "Results/at_9/R32/ExpVal/wt_y_var\n",
      "8.08375707959312\n",
      "[[3.8104463955181833 2.7068130354462 1.9855711710588373 48.7303136495141\n",
      "  38.73076700200722 7.630628225268625]]\n",
      "Results/at_9/R50/ExpVal/wt_y_var\n",
      "30247.725059469245\n",
      "[[3.75488555694032 2.4250966096926727 64.11703477015094 5.961044396934933]]\n",
      "Results/at_9/R170/ExpVal/wt_y_var\n",
      "141653.4403052184\n",
      "[[3.6618972287220983 2.510684598364721 59.69006878343313\n",
      "  5.139035267717284]]\n",
      "Results/at_9/R125/ExpVal/wt_y_var\n",
      "56454.88261823863\n",
      "[[3.711020994853049 3.711020994853049 3.097250513695898 2.631982982251228\n",
      "  1.966121438935412 36.150967527111526 36.150967527111526\n",
      "  26.883926661781317 27.055062062674725 2.6542515622905576]]\n",
      "Results/at_9/R134a/ExpVal/wt_y_var\n",
      "891028.1282425477\n",
      "[[3.247168942468984 3.247168942468984 2.9804977729861983\n",
      "  2.899850039909928 2.608011778698622 60.80087284201044 60.80087284201044\n",
      "  34.353261251818004 23.20364020700465 7.573760461903337]]\n",
      "Results/at_9/R143a/ExpVal/wt_y_var\n",
      "34348.477850448486\n",
      "[[3.66693924784332 3.287799321967829 3.3008262297582256\n",
      "  1.6997281431652789 47.71131295258329 58.66906945163556\n",
      "  21.50347668253195 7.825168548154802]]\n"
     ]
    }
   ],
   "source": [
    "import os\n",
    "import tensorflow as tf\n",
    "molec_data_dict = {\"R14\":r14_class, \"R32\":r32_class, \"R50\":r50_class, \"R170\":r170_class, \"R125\":r125_class, \"R134a\":r134a_class, \"R143a\":r143a_class}\n",
    "all_gp_dict = opt_atom_types.get_gp_data_from_pkl(list(molec_data_dict.keys()))\n",
    "visual = opt_atom_types.Vis_Results(molec_data_dict, all_gp_dict, at_class, w_calc, obj_choice, save_data)\n",
    "for molec_names in list(molec_data_dict.keys()):\n",
    "    param_matrix = visual.at_class.get_transformation_matrix({molec_names: molec_data_dict[molec_names]})\n",
    "    #Get best_per_run.csv for all molecules\n",
    "    molec_dir = visual.make_results_dir([molec_names])\n",
    "    if os.path.exists(molec_dir+\"/best_per_run.csv\"):\n",
    "        print(molec_dir)\n",
    "        molec_df = pd.read_csv(molec_dir+\"/best_per_run.csv\", header = 0)\n",
    "        # print(molec_df.head())\n",
    "        first_param_name = at_class.at_names[0] + \"_min\"\n",
    "        last_param_name = at_class.at_names[-1] + \"_min\"\n",
    "        print(molec_df.loc[0, \"Min Obj\"])\n",
    "        molec_best = molec_df.loc[0, first_param_name:last_param_name].values\n",
    "        # ind_best_real = visual.values_pref_to_real(molec_best)\n",
    "        # ind_best_scl = values_real_to_scaled(ind_best_real.reshape(1,-1), at_class.at_bounds_nm_kjmol)\n",
    "        ind_best_gp = molec_best.reshape(-1,1).T@param_matrix\n",
    "        # ind_best_gp = tf.convert_to_tensor(ind_best_gp, dtype=tf.float64)\n",
    "        print(ind_best_gp)"
   ]
  },
  {
   "cell_type": "code",
   "execution_count": 10,
   "metadata": {},
   "outputs": [
    {
     "name": "stdout",
     "output_type": "stream",
     "text": [
      "[[0.877      0.877      0.1185     0.3035     0.988      0.96323077\n",
      "  0.96323077 0.23228571 0.71371429 2.64125    0.        ]\n",
      " [0.877      0.877      0.1185     0.3035     0.988      0.96323077\n",
      "  0.96323077 0.23228571 0.71371429 2.64125    0.25      ]\n",
      " [0.877      0.877      0.1185     0.3035     0.988      0.96323077\n",
      "  0.96323077 0.23228571 0.71371429 2.64125    0.5       ]\n",
      " [0.877      0.877      0.1185     0.3035     0.988      0.96323077\n",
      "  0.96323077 0.23228571 0.71371429 2.64125    0.75      ]\n",
      " [0.877      0.877      0.1185     0.3035     0.988      0.96323077\n",
      "  0.96323077 0.23228571 0.71371429 2.64125    1.        ]]\n",
      "[[0.877      0.877      0.1185     0.3035     0.988      0.96323077\n",
      "  0.96323077 0.23228571 0.71371429 2.64125    0.        ]\n",
      " [0.877      0.877      0.1185     0.3035     0.988      0.96323077\n",
      "  0.96323077 0.23228571 0.71371429 2.64125    0.25      ]\n",
      " [0.877      0.877      0.1185     0.3035     0.988      0.96323077\n",
      "  0.96323077 0.23228571 0.71371429 2.64125    0.5       ]\n",
      " [0.877      0.877      0.1185     0.3035     0.988      0.96323077\n",
      "  0.96323077 0.23228571 0.71371429 2.64125    0.75      ]\n",
      " [0.877      0.877      0.1185     0.3035     0.988      0.96323077\n",
      "  0.96323077 0.23228571 0.71371429 2.64125    1.        ]]\n",
      "[[0.877      0.877      0.1185     0.3035     0.988      0.96323077\n",
      "  0.96323077 0.23228571 0.71371429 2.64125    0.        ]\n",
      " [0.877      0.877      0.1185     0.3035     0.988      0.96323077\n",
      "  0.96323077 0.23228571 0.71371429 2.64125    0.25      ]\n",
      " [0.877      0.877      0.1185     0.3035     0.988      0.96323077\n",
      "  0.96323077 0.23228571 0.71371429 2.64125    0.5       ]\n",
      " [0.877      0.877      0.1185     0.3035     0.988      0.96323077\n",
      "  0.96323077 0.23228571 0.71371429 2.64125    0.75      ]\n",
      " [0.877      0.877      0.1185     0.3035     0.988      0.96323077\n",
      "  0.96323077 0.23228571 0.71371429 2.64125    1.        ]]\n",
      "[[0.877      0.877      0.1185     0.3035     0.988      0.96323077\n",
      "  0.96323077 0.23228571 0.71371429 2.64125    0.        ]\n",
      " [0.877      0.877      0.1185     0.3035     0.988      0.96323077\n",
      "  0.96323077 0.23228571 0.71371429 2.64125    0.25      ]\n",
      " [0.877      0.877      0.1185     0.3035     0.988      0.96323077\n",
      "  0.96323077 0.23228571 0.71371429 2.64125    0.5       ]\n",
      " [0.877      0.877      0.1185     0.3035     0.988      0.96323077\n",
      "  0.96323077 0.23228571 0.71371429 2.64125    0.75      ]\n",
      " [0.877      0.877      0.1185     0.3035     0.988      0.96323077\n",
      "  0.96323077 0.23228571 0.71371429 2.64125    1.        ]]\n",
      "687900.0345811622\n"
     ]
    }
   ],
   "source": [
    "molec_data_dict = {\"R134a\":r134a_class}\n",
    "all_gp_dict = opt_atom_types.get_gp_data_from_pkl(list(molec_data_dict.keys()))\n",
    "at_optimizer =  opt_atom_types.Opt_ATs(molec_data_dict, all_gp_dict, at_class, repeats, seed, w_calc, obj_choice, save_data)\n",
    "best_pref = np.array([3.727, 3.578558657, 3.754, 2.237, 2.607, 3.255, 2.982, 71.73, 11.25885226, 72.61, 23.13, 39.98, 20.164, 23.13])\n",
    "best_real= at_optimizer.values_pref_to_real(best_pref)\n",
    "obj = at_optimizer.calc_obj(best_real)\n",
    "print(obj[0])\n",
    "# jac, hess = at_optimizer.approx_jac_hess(best_real)\n",
    "# print(scipy.linalg.norm(jac, ord = np.inf))"
   ]
  },
  {
   "cell_type": "code",
   "execution_count": 4,
   "metadata": {},
   "outputs": [
    {
     "name": "stdout",
     "output_type": "stream",
     "text": [
      "[3.563847649565008 3.702329780457801 3.383454561616988 2.501869323173524\n",
      " 2.8016532687774456 2.957056002591428 2.938081818350493 47.955100549476825\n",
      " 42.9383601572982 51.7928754827407 9.956251656605064 39.956127381108494\n",
      " 28.664773473001603 24.34860285294489]\n",
      "[3.563847649565008 3.702329780457801 3.383454561616988 2.501869323173524\n",
      " 2.8016532687774456 2.957056002591428 2.938081818350493 47.955100549476825\n",
      " 42.9383601572982 51.7928754827407 9.956251656605064 39.956127381108494\n",
      " 28.664773473001603 24.34860285294489]\n",
      "[3.563847649565008 3.702329780457801 3.383454561616988 2.501869323173524\n",
      " 2.8016532687774456 2.957056002591428 2.938081818350493 47.955100549476825\n",
      " 42.9383601572982 51.7928754827407 9.956251656605064 39.956127381108494\n",
      " 28.664773473001603 24.34860285294489]\n",
      "[3.563847649565008 3.702329780457801 3.383454561616988 2.501869323173524\n",
      " 2.8016532687774456 2.957056002591428 2.938081818350493 47.955100549476825\n",
      " 42.9383601572982 51.7928754827407 9.956251656605064 39.956127381108494\n",
      " 28.664773473001603 24.34860285294489]\n",
      "[3.563847649565008 3.702329780457801 3.383454561616988 2.501869323173524\n",
      " 2.8016532687774456 2.957056002591428 2.938081818350493 47.955100549476825\n",
      " 42.9383601572982 51.7928754827407 9.956251656605064 39.956127381108494\n",
      " 28.664773473001603 24.34860285294489]\n",
      "[3.563847649565008 3.702329780457801 3.383454561616988 2.501869323173524\n",
      " 2.8016532687774456 2.957056002591428 2.938081818350493 47.955100549476825\n",
      " 42.9383601572982 51.7928754827407 9.956251656605064 39.956127381108494\n",
      " 28.664773473001603 24.34860285294489]\n",
      "[3.563847649565008 3.702329780457801 3.383454561616988 2.501869323173524\n",
      " 2.8016532687774456 2.957056002591428 2.938081818350493 47.955100549476825\n",
      " 42.9383601572982 51.7928754827407 9.956251656605064 39.956127381108494\n",
      " 28.664773473001603 24.34860285294489]\n"
     ]
    }
   ],
   "source": [
    "molec_data_dict = {\"R14\":r14_class, \"R32\":r32_class, \"R50\":r50_class, \"R170\":r170_class, \"R125\":r125_class, \"R134a\":r134a_class, \"R143a\":r143a_class}\n",
    "# molec_data_dict = {\"R125\":r125_class}\n",
    "all_gp_dict = opt_atom_types.get_gp_data_from_pkl(list(molec_data_dict.keys()))\n",
    "visual = opt_atom_types.Vis_Results(molec_data_dict, all_gp_dict, at_class, w_calc, obj_choice, save_data)\n",
    "molec_names = list([\"R14\", \"R32\", \"R50\", \"R170\", \"R125\", \"R134a\", \"R143a\"])\n",
    "visual.comp_paper_full_ind(molec_names)"
   ]
  },
  {
   "cell_type": "code",
   "execution_count": 19,
   "metadata": {},
   "outputs": [
    {
     "ename": "KeyboardInterrupt",
     "evalue": "",
     "output_type": "error",
     "traceback": [
      "\u001b[0;31m---------------------------------------------------------------------------\u001b[0m",
      "\u001b[0;31mKeyboardInterrupt\u001b[0m                         Traceback (most recent call last)",
      "Cell \u001b[0;32mIn[19], line 7\u001b[0m\n\u001b[1;32m      4\u001b[0m \u001b[38;5;66;03m# all_gp_dict = {\"R14\" : {list(all_gp_dict[\"R14\"].keys())[0]: list(all_gp_dict[\"R14\"].values())[0]}}\u001b[39;00m\n\u001b[1;32m      5\u001b[0m \u001b[38;5;66;03m# all_gp_dict = {molec : all_gp_dict[molec]}\u001b[39;00m\n\u001b[1;32m      6\u001b[0m at_optimizer \u001b[38;5;241m=\u001b[39m  opt_atom_types\u001b[38;5;241m.\u001b[39mOpt_ATs(molec_data_dict, all_gp_dict, at_class, repeats, seed, w_calc, obj_choice, save_data)\n\u001b[0;32m----> 7\u001b[0m ls_results \u001b[38;5;241m=\u001b[39m \u001b[43mat_optimizer\u001b[49m\u001b[38;5;241;43m.\u001b[39;49m\u001b[43moptimize_ats\u001b[49m\u001b[43m(\u001b[49m\u001b[43m)\u001b[49m\n\u001b[1;32m      8\u001b[0m ls_results\n",
      "File \u001b[0;32m/scratch365/mcarlozo/generalizedFF/utils/opt_atom_types.py:531\u001b[0m, in \u001b[0;36mOpt_ATs.optimize_ats\u001b[0;34m(self)\u001b[0m\n\u001b[1;32m    528\u001b[0m \u001b[38;5;66;03m#Optimize w/ retstarts\u001b[39;00m\n\u001b[1;32m    529\u001b[0m \u001b[38;5;28;01mfor\u001b[39;00m i \u001b[38;5;129;01min\u001b[39;00m \u001b[38;5;28mrange\u001b[39m(\u001b[38;5;28mself\u001b[39m\u001b[38;5;241m.\u001b[39mrepeats):\n\u001b[1;32m    530\u001b[0m     \u001b[38;5;66;03m#Get Iteration results\u001b[39;00m\n\u001b[0;32m--> 531\u001b[0m     solution, time_per_run \u001b[38;5;241m=\u001b[39m \u001b[38;5;28;43mself\u001b[39;49m\u001b[38;5;241;43m.\u001b[39;49m\u001b[43m__get_scipy_soln\u001b[49m\u001b[43m(\u001b[49m\u001b[43mi\u001b[49m\u001b[43m,\u001b[49m\u001b[43m \u001b[49m\u001b[43mparam_inits\u001b[49m\u001b[43m)\u001b[49m\n\u001b[1;32m    532\u001b[0m     iter_df \u001b[38;5;241m=\u001b[39m \u001b[38;5;28mself\u001b[39m\u001b[38;5;241m.\u001b[39m__get_opt_iter_info(i, solution, time_per_run)\n\u001b[1;32m    534\u001b[0m     \u001b[38;5;66;03m#Append to results_df\u001b[39;00m\n",
      "File \u001b[0;32m/scratch365/mcarlozo/generalizedFF/utils/opt_atom_types.py:447\u001b[0m, in \u001b[0;36mOpt_ATs.__get_scipy_soln\u001b[0;34m(self, run, param_inits)\u001b[0m\n\u001b[1;32m    442\u001b[0m time_start \u001b[38;5;241m=\u001b[39m time\u001b[38;5;241m.\u001b[39mtime()\n\u001b[1;32m    443\u001b[0m \u001b[38;5;66;03m#Get guess and find scipy.optimize solution\u001b[39;00m\n\u001b[1;32m    444\u001b[0m \u001b[38;5;66;03m# bounds = (self.at_class.at_bounds_nm_kjmol[:,0], self.at_class.at_bounds_nm_kjmol[:,1])\u001b[39;00m\n\u001b[1;32m    445\u001b[0m \u001b[38;5;66;03m# solution = optimize.least_squares(self.__scipy_min_fxn, param_inits[run], bounds=bounds,\u001b[39;00m\n\u001b[1;32m    446\u001b[0m \u001b[38;5;66;03m#                                  method='trf', verbose = 0)\u001b[39;00m\n\u001b[0;32m--> 447\u001b[0m solution \u001b[38;5;241m=\u001b[39m \u001b[43moptimize\u001b[49m\u001b[38;5;241;43m.\u001b[39;49m\u001b[43mminimize\u001b[49m\u001b[43m(\u001b[49m\u001b[38;5;28;43mself\u001b[39;49m\u001b[38;5;241;43m.\u001b[39;49m\u001b[43m__scipy_min_fxn\u001b[49m\u001b[43m,\u001b[49m\u001b[43m \u001b[49m\u001b[43mparam_inits\u001b[49m\u001b[43m[\u001b[49m\u001b[43mrun\u001b[49m\u001b[43m]\u001b[49m\u001b[43m,\u001b[49m\u001b[43m \u001b[49m\u001b[43mbounds\u001b[49m\u001b[38;5;241;43m=\u001b[39;49m\u001b[38;5;28;43mself\u001b[39;49m\u001b[38;5;241;43m.\u001b[39;49m\u001b[43mat_class\u001b[49m\u001b[38;5;241;43m.\u001b[39;49m\u001b[43mat_bounds_nm_kjmol\u001b[49m\u001b[43m,\u001b[49m\n\u001b[1;32m    448\u001b[0m \u001b[43m                                 \u001b[49m\u001b[43mmethod\u001b[49m\u001b[38;5;241;43m=\u001b[39;49m\u001b[38;5;124;43m'\u001b[39;49m\u001b[38;5;124;43mL-BFGS-B\u001b[39;49m\u001b[38;5;124;43m'\u001b[39;49m\u001b[43m,\u001b[49m\u001b[43m \u001b[49m\u001b[43moptions\u001b[49m\u001b[43m \u001b[49m\u001b[38;5;241;43m=\u001b[39;49m\u001b[43m \u001b[49m\u001b[43m{\u001b[49m\u001b[38;5;124;43m'\u001b[39;49m\u001b[38;5;124;43mdisp\u001b[39;49m\u001b[38;5;124;43m'\u001b[39;49m\u001b[43m:\u001b[49m\u001b[38;5;28;43;01mFalse\u001b[39;49;00m\u001b[43m,\u001b[49m\u001b[43m \u001b[49m\u001b[38;5;124;43m'\u001b[39;49m\u001b[38;5;124;43meps\u001b[39;49m\u001b[38;5;124;43m'\u001b[39;49m\u001b[43m \u001b[49m\u001b[43m:\u001b[49m\u001b[43m \u001b[49m\u001b[38;5;241;43m1e-10\u001b[39;49m\u001b[43m,\u001b[49m\u001b[43m \u001b[49m\u001b[38;5;124;43m'\u001b[39;49m\u001b[38;5;124;43mftol\u001b[39;49m\u001b[38;5;124;43m'\u001b[39;49m\u001b[43m:\u001b[49m\u001b[38;5;241;43m1e-10\u001b[39;49m\u001b[43m}\u001b[49m\u001b[43m)\u001b[49m\n\u001b[1;32m    449\u001b[0m \u001b[38;5;66;03m#End timer and calculate total run time\u001b[39;00m\n\u001b[1;32m    450\u001b[0m time_end \u001b[38;5;241m=\u001b[39m time\u001b[38;5;241m.\u001b[39mtime()\n",
      "File \u001b[0;32m~/.conda/envs/hfcs-fffit/lib/python3.11/site-packages/scipy/optimize/_minimize.py:713\u001b[0m, in \u001b[0;36mminimize\u001b[0;34m(fun, x0, args, method, jac, hess, hessp, bounds, constraints, tol, callback, options)\u001b[0m\n\u001b[1;32m    710\u001b[0m     res \u001b[38;5;241m=\u001b[39m _minimize_newtoncg(fun, x0, args, jac, hess, hessp, callback,\n\u001b[1;32m    711\u001b[0m                              \u001b[38;5;241m*\u001b[39m\u001b[38;5;241m*\u001b[39moptions)\n\u001b[1;32m    712\u001b[0m \u001b[38;5;28;01melif\u001b[39;00m meth \u001b[38;5;241m==\u001b[39m \u001b[38;5;124m'\u001b[39m\u001b[38;5;124ml-bfgs-b\u001b[39m\u001b[38;5;124m'\u001b[39m:\n\u001b[0;32m--> 713\u001b[0m     res \u001b[38;5;241m=\u001b[39m \u001b[43m_minimize_lbfgsb\u001b[49m\u001b[43m(\u001b[49m\u001b[43mfun\u001b[49m\u001b[43m,\u001b[49m\u001b[43m \u001b[49m\u001b[43mx0\u001b[49m\u001b[43m,\u001b[49m\u001b[43m \u001b[49m\u001b[43margs\u001b[49m\u001b[43m,\u001b[49m\u001b[43m \u001b[49m\u001b[43mjac\u001b[49m\u001b[43m,\u001b[49m\u001b[43m \u001b[49m\u001b[43mbounds\u001b[49m\u001b[43m,\u001b[49m\n\u001b[1;32m    714\u001b[0m \u001b[43m                           \u001b[49m\u001b[43mcallback\u001b[49m\u001b[38;5;241;43m=\u001b[39;49m\u001b[43mcallback\u001b[49m\u001b[43m,\u001b[49m\u001b[43m \u001b[49m\u001b[38;5;241;43m*\u001b[39;49m\u001b[38;5;241;43m*\u001b[39;49m\u001b[43moptions\u001b[49m\u001b[43m)\u001b[49m\n\u001b[1;32m    715\u001b[0m \u001b[38;5;28;01melif\u001b[39;00m meth \u001b[38;5;241m==\u001b[39m \u001b[38;5;124m'\u001b[39m\u001b[38;5;124mtnc\u001b[39m\u001b[38;5;124m'\u001b[39m:\n\u001b[1;32m    716\u001b[0m     res \u001b[38;5;241m=\u001b[39m _minimize_tnc(fun, x0, args, jac, bounds, callback\u001b[38;5;241m=\u001b[39mcallback,\n\u001b[1;32m    717\u001b[0m                         \u001b[38;5;241m*\u001b[39m\u001b[38;5;241m*\u001b[39moptions)\n",
      "File \u001b[0;32m~/.conda/envs/hfcs-fffit/lib/python3.11/site-packages/scipy/optimize/_lbfgsb_py.py:369\u001b[0m, in \u001b[0;36m_minimize_lbfgsb\u001b[0;34m(fun, x0, args, jac, bounds, disp, maxcor, ftol, gtol, eps, maxfun, maxiter, iprint, callback, maxls, finite_diff_rel_step, **unknown_options)\u001b[0m\n\u001b[1;32m    363\u001b[0m task_str \u001b[38;5;241m=\u001b[39m task\u001b[38;5;241m.\u001b[39mtobytes()\n\u001b[1;32m    364\u001b[0m \u001b[38;5;28;01mif\u001b[39;00m task_str\u001b[38;5;241m.\u001b[39mstartswith(\u001b[38;5;124mb\u001b[39m\u001b[38;5;124m'\u001b[39m\u001b[38;5;124mFG\u001b[39m\u001b[38;5;124m'\u001b[39m):\n\u001b[1;32m    365\u001b[0m     \u001b[38;5;66;03m# The minimization routine wants f and g at the current x.\u001b[39;00m\n\u001b[1;32m    366\u001b[0m     \u001b[38;5;66;03m# Note that interruptions due to maxfun are postponed\u001b[39;00m\n\u001b[1;32m    367\u001b[0m     \u001b[38;5;66;03m# until the completion of the current minimization iteration.\u001b[39;00m\n\u001b[1;32m    368\u001b[0m     \u001b[38;5;66;03m# Overwrite f and g:\u001b[39;00m\n\u001b[0;32m--> 369\u001b[0m     f, g \u001b[38;5;241m=\u001b[39m \u001b[43mfunc_and_grad\u001b[49m\u001b[43m(\u001b[49m\u001b[43mx\u001b[49m\u001b[43m)\u001b[49m\n\u001b[1;32m    370\u001b[0m \u001b[38;5;28;01melif\u001b[39;00m task_str\u001b[38;5;241m.\u001b[39mstartswith(\u001b[38;5;124mb\u001b[39m\u001b[38;5;124m'\u001b[39m\u001b[38;5;124mNEW_X\u001b[39m\u001b[38;5;124m'\u001b[39m):\n\u001b[1;32m    371\u001b[0m     \u001b[38;5;66;03m# new iteration\u001b[39;00m\n\u001b[1;32m    372\u001b[0m     n_iterations \u001b[38;5;241m+\u001b[39m\u001b[38;5;241m=\u001b[39m \u001b[38;5;241m1\u001b[39m\n",
      "File \u001b[0;32m~/.conda/envs/hfcs-fffit/lib/python3.11/site-packages/scipy/optimize/_differentiable_functions.py:297\u001b[0m, in \u001b[0;36mScalarFunction.fun_and_grad\u001b[0;34m(self, x)\u001b[0m\n\u001b[1;32m    295\u001b[0m     \u001b[38;5;28mself\u001b[39m\u001b[38;5;241m.\u001b[39m_update_x_impl(x)\n\u001b[1;32m    296\u001b[0m \u001b[38;5;28mself\u001b[39m\u001b[38;5;241m.\u001b[39m_update_fun()\n\u001b[0;32m--> 297\u001b[0m \u001b[38;5;28;43mself\u001b[39;49m\u001b[38;5;241;43m.\u001b[39;49m\u001b[43m_update_grad\u001b[49m\u001b[43m(\u001b[49m\u001b[43m)\u001b[49m\n\u001b[1;32m    298\u001b[0m \u001b[38;5;28;01mreturn\u001b[39;00m \u001b[38;5;28mself\u001b[39m\u001b[38;5;241m.\u001b[39mf, \u001b[38;5;28mself\u001b[39m\u001b[38;5;241m.\u001b[39mg\n",
      "File \u001b[0;32m~/.conda/envs/hfcs-fffit/lib/python3.11/site-packages/scipy/optimize/_differentiable_functions.py:267\u001b[0m, in \u001b[0;36mScalarFunction._update_grad\u001b[0;34m(self)\u001b[0m\n\u001b[1;32m    265\u001b[0m \u001b[38;5;28;01mdef\u001b[39;00m \u001b[38;5;21m_update_grad\u001b[39m(\u001b[38;5;28mself\u001b[39m):\n\u001b[1;32m    266\u001b[0m     \u001b[38;5;28;01mif\u001b[39;00m \u001b[38;5;129;01mnot\u001b[39;00m \u001b[38;5;28mself\u001b[39m\u001b[38;5;241m.\u001b[39mg_updated:\n\u001b[0;32m--> 267\u001b[0m         \u001b[38;5;28;43mself\u001b[39;49m\u001b[38;5;241;43m.\u001b[39;49m\u001b[43m_update_grad_impl\u001b[49m\u001b[43m(\u001b[49m\u001b[43m)\u001b[49m\n\u001b[1;32m    268\u001b[0m         \u001b[38;5;28mself\u001b[39m\u001b[38;5;241m.\u001b[39mg_updated \u001b[38;5;241m=\u001b[39m \u001b[38;5;28;01mTrue\u001b[39;00m\n",
      "File \u001b[0;32m~/.conda/envs/hfcs-fffit/lib/python3.11/site-packages/scipy/optimize/_differentiable_functions.py:181\u001b[0m, in \u001b[0;36mScalarFunction.__init__.<locals>.update_grad\u001b[0;34m()\u001b[0m\n\u001b[1;32m    179\u001b[0m \u001b[38;5;28mself\u001b[39m\u001b[38;5;241m.\u001b[39m_update_fun()\n\u001b[1;32m    180\u001b[0m \u001b[38;5;28mself\u001b[39m\u001b[38;5;241m.\u001b[39mngev \u001b[38;5;241m+\u001b[39m\u001b[38;5;241m=\u001b[39m \u001b[38;5;241m1\u001b[39m\n\u001b[0;32m--> 181\u001b[0m \u001b[38;5;28mself\u001b[39m\u001b[38;5;241m.\u001b[39mg \u001b[38;5;241m=\u001b[39m \u001b[43mapprox_derivative\u001b[49m\u001b[43m(\u001b[49m\u001b[43mfun_wrapped\u001b[49m\u001b[43m,\u001b[49m\u001b[43m \u001b[49m\u001b[38;5;28;43mself\u001b[39;49m\u001b[38;5;241;43m.\u001b[39;49m\u001b[43mx\u001b[49m\u001b[43m,\u001b[49m\u001b[43m \u001b[49m\u001b[43mf0\u001b[49m\u001b[38;5;241;43m=\u001b[39;49m\u001b[38;5;28;43mself\u001b[39;49m\u001b[38;5;241;43m.\u001b[39;49m\u001b[43mf\u001b[49m\u001b[43m,\u001b[49m\n\u001b[1;32m    182\u001b[0m \u001b[43m                           \u001b[49m\u001b[38;5;241;43m*\u001b[39;49m\u001b[38;5;241;43m*\u001b[39;49m\u001b[43mfinite_diff_options\u001b[49m\u001b[43m)\u001b[49m\n",
      "File \u001b[0;32m~/.conda/envs/hfcs-fffit/lib/python3.11/site-packages/scipy/optimize/_numdiff.py:519\u001b[0m, in \u001b[0;36mapprox_derivative\u001b[0;34m(fun, x0, method, rel_step, abs_step, f0, bounds, sparsity, as_linear_operator, args, kwargs)\u001b[0m\n\u001b[1;32m    516\u001b[0m     use_one_sided \u001b[38;5;241m=\u001b[39m \u001b[38;5;28;01mFalse\u001b[39;00m\n\u001b[1;32m    518\u001b[0m \u001b[38;5;28;01mif\u001b[39;00m sparsity \u001b[38;5;129;01mis\u001b[39;00m \u001b[38;5;28;01mNone\u001b[39;00m:\n\u001b[0;32m--> 519\u001b[0m     \u001b[38;5;28;01mreturn\u001b[39;00m \u001b[43m_dense_difference\u001b[49m\u001b[43m(\u001b[49m\u001b[43mfun_wrapped\u001b[49m\u001b[43m,\u001b[49m\u001b[43m \u001b[49m\u001b[43mx0\u001b[49m\u001b[43m,\u001b[49m\u001b[43m \u001b[49m\u001b[43mf0\u001b[49m\u001b[43m,\u001b[49m\u001b[43m \u001b[49m\u001b[43mh\u001b[49m\u001b[43m,\u001b[49m\n\u001b[1;32m    520\u001b[0m \u001b[43m                             \u001b[49m\u001b[43muse_one_sided\u001b[49m\u001b[43m,\u001b[49m\u001b[43m \u001b[49m\u001b[43mmethod\u001b[49m\u001b[43m)\u001b[49m\n\u001b[1;32m    521\u001b[0m \u001b[38;5;28;01melse\u001b[39;00m:\n\u001b[1;32m    522\u001b[0m     \u001b[38;5;28;01mif\u001b[39;00m \u001b[38;5;129;01mnot\u001b[39;00m issparse(sparsity) \u001b[38;5;129;01mand\u001b[39;00m \u001b[38;5;28mlen\u001b[39m(sparsity) \u001b[38;5;241m==\u001b[39m \u001b[38;5;241m2\u001b[39m:\n",
      "File \u001b[0;32m~/.conda/envs/hfcs-fffit/lib/python3.11/site-packages/scipy/optimize/_numdiff.py:590\u001b[0m, in \u001b[0;36m_dense_difference\u001b[0;34m(fun, x0, f0, h, use_one_sided, method)\u001b[0m\n\u001b[1;32m    588\u001b[0m     x \u001b[38;5;241m=\u001b[39m x0 \u001b[38;5;241m+\u001b[39m h_vecs[i]\n\u001b[1;32m    589\u001b[0m     dx \u001b[38;5;241m=\u001b[39m x[i] \u001b[38;5;241m-\u001b[39m x0[i]  \u001b[38;5;66;03m# Recompute dx as exactly representable number.\u001b[39;00m\n\u001b[0;32m--> 590\u001b[0m     df \u001b[38;5;241m=\u001b[39m \u001b[43mfun\u001b[49m\u001b[43m(\u001b[49m\u001b[43mx\u001b[49m\u001b[43m)\u001b[49m \u001b[38;5;241m-\u001b[39m f0\n\u001b[1;32m    591\u001b[0m \u001b[38;5;28;01melif\u001b[39;00m method \u001b[38;5;241m==\u001b[39m \u001b[38;5;124m'\u001b[39m\u001b[38;5;124m3-point\u001b[39m\u001b[38;5;124m'\u001b[39m \u001b[38;5;129;01mand\u001b[39;00m use_one_sided[i]:\n\u001b[1;32m    592\u001b[0m     x1 \u001b[38;5;241m=\u001b[39m x0 \u001b[38;5;241m+\u001b[39m h_vecs[i]\n",
      "File \u001b[0;32m~/.conda/envs/hfcs-fffit/lib/python3.11/site-packages/scipy/optimize/_numdiff.py:470\u001b[0m, in \u001b[0;36mapprox_derivative.<locals>.fun_wrapped\u001b[0;34m(x)\u001b[0m\n\u001b[1;32m    467\u001b[0m \u001b[38;5;28;01mif\u001b[39;00m xp\u001b[38;5;241m.\u001b[39misdtype(x\u001b[38;5;241m.\u001b[39mdtype, \u001b[38;5;124m\"\u001b[39m\u001b[38;5;124mreal floating\u001b[39m\u001b[38;5;124m\"\u001b[39m):\n\u001b[1;32m    468\u001b[0m     x \u001b[38;5;241m=\u001b[39m xp\u001b[38;5;241m.\u001b[39mastype(x, x0\u001b[38;5;241m.\u001b[39mdtype)\n\u001b[0;32m--> 470\u001b[0m f \u001b[38;5;241m=\u001b[39m np\u001b[38;5;241m.\u001b[39matleast_1d(\u001b[43mfun\u001b[49m\u001b[43m(\u001b[49m\u001b[43mx\u001b[49m\u001b[43m,\u001b[49m\u001b[43m \u001b[49m\u001b[38;5;241;43m*\u001b[39;49m\u001b[43margs\u001b[49m\u001b[43m,\u001b[49m\u001b[43m \u001b[49m\u001b[38;5;241;43m*\u001b[39;49m\u001b[38;5;241;43m*\u001b[39;49m\u001b[43mkwargs\u001b[49m\u001b[43m)\u001b[49m)\n\u001b[1;32m    471\u001b[0m \u001b[38;5;28;01mif\u001b[39;00m f\u001b[38;5;241m.\u001b[39mndim \u001b[38;5;241m>\u001b[39m \u001b[38;5;241m1\u001b[39m:\n\u001b[1;32m    472\u001b[0m     \u001b[38;5;28;01mraise\u001b[39;00m \u001b[38;5;167;01mRuntimeError\u001b[39;00m(\u001b[38;5;124m\"\u001b[39m\u001b[38;5;124m`fun` return value has \u001b[39m\u001b[38;5;124m\"\u001b[39m\n\u001b[1;32m    473\u001b[0m                        \u001b[38;5;124m\"\u001b[39m\u001b[38;5;124mmore than 1 dimension.\u001b[39m\u001b[38;5;124m\"\u001b[39m)\n",
      "File \u001b[0;32m~/.conda/envs/hfcs-fffit/lib/python3.11/site-packages/scipy/optimize/_differentiable_functions.py:145\u001b[0m, in \u001b[0;36mScalarFunction.__init__.<locals>.fun_wrapped\u001b[0;34m(x)\u001b[0m\n\u001b[1;32m    141\u001b[0m \u001b[38;5;28mself\u001b[39m\u001b[38;5;241m.\u001b[39mnfev \u001b[38;5;241m+\u001b[39m\u001b[38;5;241m=\u001b[39m \u001b[38;5;241m1\u001b[39m\n\u001b[1;32m    142\u001b[0m \u001b[38;5;66;03m# Send a copy because the user may overwrite it.\u001b[39;00m\n\u001b[1;32m    143\u001b[0m \u001b[38;5;66;03m# Overwriting results in undefined behaviour because\u001b[39;00m\n\u001b[1;32m    144\u001b[0m \u001b[38;5;66;03m# fun(self.x) will change self.x, with the two no longer linked.\u001b[39;00m\n\u001b[0;32m--> 145\u001b[0m fx \u001b[38;5;241m=\u001b[39m \u001b[43mfun\u001b[49m\u001b[43m(\u001b[49m\u001b[43mnp\u001b[49m\u001b[38;5;241;43m.\u001b[39;49m\u001b[43mcopy\u001b[49m\u001b[43m(\u001b[49m\u001b[43mx\u001b[49m\u001b[43m)\u001b[49m\u001b[43m,\u001b[49m\u001b[43m \u001b[49m\u001b[38;5;241;43m*\u001b[39;49m\u001b[43margs\u001b[49m\u001b[43m)\u001b[49m\n\u001b[1;32m    146\u001b[0m \u001b[38;5;66;03m# Make sure the function returns a true scalar\u001b[39;00m\n\u001b[1;32m    147\u001b[0m \u001b[38;5;28;01mif\u001b[39;00m \u001b[38;5;129;01mnot\u001b[39;00m np\u001b[38;5;241m.\u001b[39misscalar(fx):\n",
      "File \u001b[0;32m/scratch365/mcarlozo/generalizedFF/utils/opt_atom_types.py:407\u001b[0m, in \u001b[0;36mOpt_ATs.__scipy_min_fxn\u001b[0;34m(self, theta_guess)\u001b[0m\n\u001b[1;32m    392\u001b[0m \u001b[38;5;250m\u001b[39m\u001b[38;5;124;03m\"\"\"\u001b[39;00m\n\u001b[1;32m    393\u001b[0m \u001b[38;5;124;03mThe scipy function for minimizing the data\u001b[39;00m\n\u001b[1;32m    394\u001b[0m \n\u001b[0;32m   (...)\u001b[0m\n\u001b[1;32m    404\u001b[0m \u001b[38;5;124;03mobj: float, the objective function from the formula defined in the paper\u001b[39;00m\n\u001b[1;32m    405\u001b[0m \u001b[38;5;124;03m\"\"\"\u001b[39;00m\n\u001b[1;32m    406\u001b[0m \u001b[38;5;28;01massert\u001b[39;00m \u001b[38;5;28misinstance\u001b[39m(theta_guess, np\u001b[38;5;241m.\u001b[39mndarray), \u001b[38;5;124m\"\u001b[39m\u001b[38;5;124mtheta_guess must be an np.ndarray\u001b[39m\u001b[38;5;124m\"\u001b[39m\n\u001b[0;32m--> 407\u001b[0m obj, sse_pieces, mean_wt_pieces \u001b[38;5;241m=\u001b[39m\u001b[38;5;28;43mself\u001b[39;49m\u001b[38;5;241;43m.\u001b[39;49m\u001b[43mcalc_obj\u001b[49m\u001b[43m(\u001b[49m\u001b[43mtheta_guess\u001b[49m\u001b[43m)\u001b[49m\n\u001b[1;32m    409\u001b[0m \u001b[38;5;66;03m#Scale theta_guess to preferred units\u001b[39;00m\n\u001b[1;32m    410\u001b[0m theta_guess_pref \u001b[38;5;241m=\u001b[39m \u001b[38;5;28mself\u001b[39m\u001b[38;5;241m.\u001b[39mvalues_real_to_pref(theta_guess)\n",
      "File \u001b[0;32m/scratch365/mcarlozo/generalizedFF/utils/opt_atom_types.py:352\u001b[0m, in \u001b[0;36mProblem_Setup.calc_obj\u001b[0;34m(self, theta_guess, w_calc)\u001b[0m\n\u001b[1;32m    344\u001b[0m \u001b[38;5;28;01mdef\u001b[39;00m \u001b[38;5;21mcalc_obj\u001b[39m(\u001b[38;5;28mself\u001b[39m, theta_guess, w_calc \u001b[38;5;241m=\u001b[39m \u001b[38;5;28;01mNone\u001b[39;00m):\n\u001b[1;32m    345\u001b[0m \u001b[38;5;250m    \u001b[39m\u001b[38;5;124;03m\"\"\"\u001b[39;00m\n\u001b[1;32m    346\u001b[0m \u001b[38;5;124;03m    Calculates the sse objective function\u001b[39;00m\n\u001b[1;32m    347\u001b[0m \n\u001b[0;32m   (...)\u001b[0m\n\u001b[1;32m    350\u001b[0m \u001b[38;5;124;03m    theta_guess: np.ndarray, the atom type scheme parameter set to start optimization at (sigma in A, epsilon in kJ/mol)\u001b[39;00m\n\u001b[1;32m    351\u001b[0m \u001b[38;5;124;03m    \"\"\"\u001b[39;00m\n\u001b[0;32m--> 352\u001b[0m     res, sse_pieces, sse_var_pieces, var_ratios, mean_wt_pieces \u001b[38;5;241m=\u001b[39m \u001b[38;5;28;43mself\u001b[39;49m\u001b[38;5;241;43m.\u001b[39;49m\u001b[43mcalc_wt_res\u001b[49m\u001b[43m(\u001b[49m\u001b[43mtheta_guess\u001b[49m\u001b[43m,\u001b[49m\u001b[43m \u001b[49m\u001b[43mw_calc\u001b[49m\u001b[43m)\u001b[49m\n\u001b[1;32m    353\u001b[0m     sse \u001b[38;5;241m=\u001b[39m \u001b[38;5;28mfloat\u001b[39m(\u001b[38;5;28msum\u001b[39m(sse_pieces\u001b[38;5;241m.\u001b[39mvalues()))\n\u001b[1;32m    354\u001b[0m     \u001b[38;5;28;01mif\u001b[39;00m \u001b[38;5;28mself\u001b[39m\u001b[38;5;241m.\u001b[39mobj_choice \u001b[38;5;241m==\u001b[39m \u001b[38;5;124m\"\u001b[39m\u001b[38;5;124mSSE\u001b[39m\u001b[38;5;124m\"\u001b[39m:\n",
      "File \u001b[0;32m/scratch365/mcarlozo/generalizedFF/utils/opt_atom_types.py:290\u001b[0m, in \u001b[0;36mProblem_Setup.calc_wt_res\u001b[0;34m(self, theta_guess, w_calc)\u001b[0m\n\u001b[1;32m    288\u001b[0m y_exp \u001b[38;5;241m=\u001b[39m np\u001b[38;5;241m.\u001b[39marray(\u001b[38;5;28mlist\u001b[39m(exp_data\u001b[38;5;241m.\u001b[39mvalues()))\n\u001b[1;32m    289\u001b[0m \u001b[38;5;66;03m# #Evaluate GP\u001b[39;00m\n\u001b[0;32m--> 290\u001b[0m gp_mean_scl, gp_covar_scl, gp_var_scl, gp_grad_mean \u001b[38;5;241m=\u001b[39m \u001b[38;5;28;43mself\u001b[39;49m\u001b[38;5;241;43m.\u001b[39;49m\u001b[43meval_gp_new_theta\u001b[49m\u001b[43m(\u001b[49m\u001b[43mgp_theta_guess\u001b[49m\u001b[43m,\u001b[49m\u001b[43m \u001b[49m\u001b[43mmolec_object\u001b[49m\u001b[43m,\u001b[49m\u001b[43m \u001b[49m\u001b[43mgp_model\u001b[49m\u001b[43m,\u001b[49m\u001b[43m \u001b[49m\u001b[43mx_exp\u001b[49m\u001b[43m)\u001b[49m\n\u001b[1;32m    291\u001b[0m \u001b[38;5;66;03m#Scale gp output to real value\u001b[39;00m\n\u001b[1;32m    292\u001b[0m gp_mean \u001b[38;5;241m=\u001b[39m values_scaled_to_real(gp_mean_scl, y_bounds)\n",
      "File \u001b[0;32m/scratch365/mcarlozo/generalizedFF/utils/opt_atom_types.py:241\u001b[0m, in \u001b[0;36mProblem_Setup.eval_gp_new_theta\u001b[0;34m(self, gp_theta_guess, molec_object, gp_object, Xexp)\u001b[0m\n\u001b[1;32m    238\u001b[0m     gp_covar \u001b[38;5;241m=\u001b[39m gp_covar\u001b[38;5;241m.\u001b[39mnumpy()\n\u001b[1;32m    239\u001b[0m \u001b[38;5;28;01melse\u001b[39;00m:\n\u001b[1;32m    240\u001b[0m     \u001b[38;5;66;03m#Get mean and std from gp\u001b[39;00m\n\u001b[0;32m--> 241\u001b[0m     gp_mean, gp_covar \u001b[38;5;241m=\u001b[39m \u001b[43mgp_object\u001b[49m\u001b[38;5;241;43m.\u001b[39;49m\u001b[43mpredict_f\u001b[49m\u001b[43m(\u001b[49m\u001b[43mgp_input\u001b[49m\u001b[43m,\u001b[49m\u001b[43m \u001b[49m\u001b[43mfull_cov\u001b[49m\u001b[38;5;241;43m=\u001b[39;49m\u001b[38;5;28;43;01mTrue\u001b[39;49;00m\u001b[43m)\u001b[49m\n\u001b[1;32m    242\u001b[0m     grad_mean \u001b[38;5;241m=\u001b[39m \u001b[38;5;28;01mNone\u001b[39;00m\n\u001b[1;32m    243\u001b[0m \u001b[38;5;66;03m#get variance from covar\u001b[39;00m\n",
      "File \u001b[0;32m~/.conda/envs/hfcs-fffit/lib/python3.11/site-packages/check_shapes/integration/tf.py:76\u001b[0m, in \u001b[0;36minstall_tf_integration.<locals>.TfWrapperPostProcessor.on_wrap.<locals>.wrapped_method\u001b[0;34m(self, *args, **kwargs)\u001b[0m\n\u001b[1;32m     75\u001b[0m \u001b[38;5;28;01mdef\u001b[39;00m \u001b[38;5;21mwrapped_method\u001b[39m(\u001b[38;5;28mself\u001b[39m: Any, \u001b[38;5;241m*\u001b[39margs: Any, \u001b[38;5;241m*\u001b[39m\u001b[38;5;241m*\u001b[39mkwargs: Any) \u001b[38;5;241m-\u001b[39m\u001b[38;5;241m>\u001b[39m Any:\n\u001b[0;32m---> 76\u001b[0m     \u001b[38;5;28;01mreturn\u001b[39;00m \u001b[43mwrapped_function\u001b[49m\u001b[43m(\u001b[49m\u001b[38;5;28;43mself\u001b[39;49m\u001b[43m,\u001b[49m\u001b[43m \u001b[49m\u001b[38;5;241;43m*\u001b[39;49m\u001b[43margs\u001b[49m\u001b[43m,\u001b[49m\u001b[43m \u001b[49m\u001b[38;5;241;43m*\u001b[39;49m\u001b[38;5;241;43m*\u001b[39;49m\u001b[43mkwargs\u001b[49m\u001b[43m)\u001b[49m\n",
      "File \u001b[0;32m~/.conda/envs/hfcs-fffit/lib/python3.11/site-packages/check_shapes/decorator.py:192\u001b[0m, in \u001b[0;36mcheck_shapes.<locals>._check_shapes.<locals>.wrapped_function\u001b[0;34m(*args, **kwargs)\u001b[0m\n\u001b[1;32m    190\u001b[0m \u001b[38;5;28;01mwith\u001b[39;00m set_shape_checker(checker):\n\u001b[1;32m    191\u001b[0m     \u001b[38;5;28;01mtry\u001b[39;00m:\n\u001b[0;32m--> 192\u001b[0m         result \u001b[38;5;241m=\u001b[39m \u001b[43mfunc\u001b[49m\u001b[43m(\u001b[49m\u001b[38;5;241;43m*\u001b[39;49m\u001b[43margs\u001b[49m\u001b[43m,\u001b[49m\u001b[43m \u001b[49m\u001b[38;5;241;43m*\u001b[39;49m\u001b[38;5;241;43m*\u001b[39;49m\u001b[43mkwargs\u001b[49m\u001b[43m)\u001b[49m\n\u001b[1;32m    193\u001b[0m     \u001b[38;5;28;01mexcept\u001b[39;00m \u001b[38;5;167;01mException\u001b[39;00m:\n\u001b[1;32m    194\u001b[0m         drop_stack_frame()\n",
      "File \u001b[0;32m~/.conda/envs/hfcs-fffit/lib/python3.11/site-packages/gpflow/models/gpr.py:188\u001b[0m, in \u001b[0;36mGPR_with_posterior.predict_f\u001b[0;34m(self, Xnew, full_cov, full_output_cov)\u001b[0m\n\u001b[1;32m    177\u001b[0m \u001b[38;5;129m@inherit_check_shapes\u001b[39m\n\u001b[1;32m    178\u001b[0m \u001b[38;5;28;01mdef\u001b[39;00m \u001b[38;5;21mpredict_f\u001b[39m(\n\u001b[1;32m    179\u001b[0m     \u001b[38;5;28mself\u001b[39m, Xnew: InputData, full_cov: \u001b[38;5;28mbool\u001b[39m \u001b[38;5;241m=\u001b[39m \u001b[38;5;28;01mFalse\u001b[39;00m, full_output_cov: \u001b[38;5;28mbool\u001b[39m \u001b[38;5;241m=\u001b[39m \u001b[38;5;28;01mFalse\u001b[39;00m\n\u001b[1;32m    180\u001b[0m ) \u001b[38;5;241m-\u001b[39m\u001b[38;5;241m>\u001b[39m MeanAndVariance:\n\u001b[1;32m    181\u001b[0m \u001b[38;5;250m    \u001b[39m\u001b[38;5;124;03m\"\"\"\u001b[39;00m\n\u001b[1;32m    182\u001b[0m \u001b[38;5;124;03m    For backwards compatibility, GPR's predict_f uses the fused (no-cache)\u001b[39;00m\n\u001b[1;32m    183\u001b[0m \u001b[38;5;124;03m    computation, which is more efficient during training.\u001b[39;00m\n\u001b[0;32m   (...)\u001b[0m\n\u001b[1;32m    186\u001b[0m \u001b[38;5;124;03m        model.posterior().predict_f(Xnew, ...)\u001b[39;00m\n\u001b[1;32m    187\u001b[0m \u001b[38;5;124;03m    \"\"\"\u001b[39;00m\n\u001b[0;32m--> 188\u001b[0m     \u001b[38;5;28;01mreturn\u001b[39;00m \u001b[38;5;28;43mself\u001b[39;49m\u001b[38;5;241;43m.\u001b[39;49m\u001b[43mposterior\u001b[49m\u001b[43m(\u001b[49m\u001b[43mposteriors\u001b[49m\u001b[38;5;241;43m.\u001b[39;49m\u001b[43mPrecomputeCacheType\u001b[49m\u001b[38;5;241;43m.\u001b[39;49m\u001b[43mNOCACHE\u001b[49m\u001b[43m)\u001b[49m\u001b[38;5;241;43m.\u001b[39;49m\u001b[43mfused_predict_f\u001b[49m\u001b[43m(\u001b[49m\n\u001b[1;32m    189\u001b[0m \u001b[43m        \u001b[49m\u001b[43mXnew\u001b[49m\u001b[43m,\u001b[49m\u001b[43m \u001b[49m\u001b[43mfull_cov\u001b[49m\u001b[38;5;241;43m=\u001b[39;49m\u001b[43mfull_cov\u001b[49m\u001b[43m,\u001b[49m\u001b[43m \u001b[49m\u001b[43mfull_output_cov\u001b[49m\u001b[38;5;241;43m=\u001b[39;49m\u001b[43mfull_output_cov\u001b[49m\n\u001b[1;32m    190\u001b[0m \u001b[43m    \u001b[49m\u001b[43m)\u001b[49m\n",
      "File \u001b[0;32m~/.conda/envs/hfcs-fffit/lib/python3.11/site-packages/check_shapes/integration/tf.py:76\u001b[0m, in \u001b[0;36minstall_tf_integration.<locals>.TfWrapperPostProcessor.on_wrap.<locals>.wrapped_method\u001b[0;34m(self, *args, **kwargs)\u001b[0m\n\u001b[1;32m     75\u001b[0m \u001b[38;5;28;01mdef\u001b[39;00m \u001b[38;5;21mwrapped_method\u001b[39m(\u001b[38;5;28mself\u001b[39m: Any, \u001b[38;5;241m*\u001b[39margs: Any, \u001b[38;5;241m*\u001b[39m\u001b[38;5;241m*\u001b[39mkwargs: Any) \u001b[38;5;241m-\u001b[39m\u001b[38;5;241m>\u001b[39m Any:\n\u001b[0;32m---> 76\u001b[0m     \u001b[38;5;28;01mreturn\u001b[39;00m \u001b[43mwrapped_function\u001b[49m\u001b[43m(\u001b[49m\u001b[38;5;28;43mself\u001b[39;49m\u001b[43m,\u001b[49m\u001b[43m \u001b[49m\u001b[38;5;241;43m*\u001b[39;49m\u001b[43margs\u001b[49m\u001b[43m,\u001b[49m\u001b[43m \u001b[49m\u001b[38;5;241;43m*\u001b[39;49m\u001b[38;5;241;43m*\u001b[39;49m\u001b[43mkwargs\u001b[49m\u001b[43m)\u001b[49m\n",
      "File \u001b[0;32m~/.conda/envs/hfcs-fffit/lib/python3.11/site-packages/check_shapes/decorator.py:192\u001b[0m, in \u001b[0;36mcheck_shapes.<locals>._check_shapes.<locals>.wrapped_function\u001b[0;34m(*args, **kwargs)\u001b[0m\n\u001b[1;32m    190\u001b[0m \u001b[38;5;28;01mwith\u001b[39;00m set_shape_checker(checker):\n\u001b[1;32m    191\u001b[0m     \u001b[38;5;28;01mtry\u001b[39;00m:\n\u001b[0;32m--> 192\u001b[0m         result \u001b[38;5;241m=\u001b[39m \u001b[43mfunc\u001b[49m\u001b[43m(\u001b[49m\u001b[38;5;241;43m*\u001b[39;49m\u001b[43margs\u001b[49m\u001b[43m,\u001b[49m\u001b[43m \u001b[49m\u001b[38;5;241;43m*\u001b[39;49m\u001b[38;5;241;43m*\u001b[39;49m\u001b[43mkwargs\u001b[49m\u001b[43m)\u001b[49m\n\u001b[1;32m    193\u001b[0m     \u001b[38;5;28;01mexcept\u001b[39;00m \u001b[38;5;167;01mException\u001b[39;00m:\n\u001b[1;32m    194\u001b[0m         drop_stack_frame()\n",
      "File \u001b[0;32m~/.conda/envs/hfcs-fffit/lib/python3.11/site-packages/gpflow/posteriors.py:255\u001b[0m, in \u001b[0;36mAbstractPosterior.fused_predict_f\u001b[0;34m(self, Xnew, full_cov, full_output_cov)\u001b[0m\n\u001b[1;32m    240\u001b[0m \u001b[38;5;129m@check_shapes\u001b[39m(\n\u001b[1;32m    241\u001b[0m     \u001b[38;5;124m\"\u001b[39m\u001b[38;5;124mXnew: [batch..., N, D]\u001b[39m\u001b[38;5;124m\"\u001b[39m,\n\u001b[1;32m    242\u001b[0m     \u001b[38;5;124m\"\u001b[39m\u001b[38;5;124mreturn[0]: [batch..., N, P]\u001b[39m\u001b[38;5;124m\"\u001b[39m,\n\u001b[0;32m   (...)\u001b[0m\n\u001b[1;32m    249\u001b[0m     \u001b[38;5;28mself\u001b[39m, Xnew: TensorType, full_cov: \u001b[38;5;28mbool\u001b[39m \u001b[38;5;241m=\u001b[39m \u001b[38;5;28;01mFalse\u001b[39;00m, full_output_cov: \u001b[38;5;28mbool\u001b[39m \u001b[38;5;241m=\u001b[39m \u001b[38;5;28;01mFalse\u001b[39;00m\n\u001b[1;32m    250\u001b[0m ) \u001b[38;5;241m-\u001b[39m\u001b[38;5;241m>\u001b[39m MeanAndVariance:\n\u001b[1;32m    251\u001b[0m \u001b[38;5;250m    \u001b[39m\u001b[38;5;124;03m\"\"\"\u001b[39;00m\n\u001b[1;32m    252\u001b[0m \u001b[38;5;124;03m    Computes predictive mean and (co)variance at Xnew, including mean_function\u001b[39;00m\n\u001b[1;32m    253\u001b[0m \u001b[38;5;124;03m    Does not make use of caching\u001b[39;00m\n\u001b[1;32m    254\u001b[0m \u001b[38;5;124;03m    \"\"\"\u001b[39;00m\n\u001b[0;32m--> 255\u001b[0m     mean, cov \u001b[38;5;241m=\u001b[39m \u001b[38;5;28;43mself\u001b[39;49m\u001b[38;5;241;43m.\u001b[39;49m\u001b[43m_conditional_fused\u001b[49m\u001b[43m(\u001b[49m\n\u001b[1;32m    256\u001b[0m \u001b[43m        \u001b[49m\u001b[43mXnew\u001b[49m\u001b[43m,\u001b[49m\u001b[43m \u001b[49m\u001b[43mfull_cov\u001b[49m\u001b[38;5;241;43m=\u001b[39;49m\u001b[43mfull_cov\u001b[49m\u001b[43m,\u001b[49m\u001b[43m \u001b[49m\u001b[43mfull_output_cov\u001b[49m\u001b[38;5;241;43m=\u001b[39;49m\u001b[43mfull_output_cov\u001b[49m\n\u001b[1;32m    257\u001b[0m \u001b[43m    \u001b[49m\u001b[43m)\u001b[49m\n\u001b[1;32m    258\u001b[0m     \u001b[38;5;28;01mreturn\u001b[39;00m \u001b[38;5;28mself\u001b[39m\u001b[38;5;241m.\u001b[39m_add_mean_function(Xnew, mean), cov\n",
      "File \u001b[0;32m~/.conda/envs/hfcs-fffit/lib/python3.11/site-packages/check_shapes/integration/tf.py:76\u001b[0m, in \u001b[0;36minstall_tf_integration.<locals>.TfWrapperPostProcessor.on_wrap.<locals>.wrapped_method\u001b[0;34m(self, *args, **kwargs)\u001b[0m\n\u001b[1;32m     75\u001b[0m \u001b[38;5;28;01mdef\u001b[39;00m \u001b[38;5;21mwrapped_method\u001b[39m(\u001b[38;5;28mself\u001b[39m: Any, \u001b[38;5;241m*\u001b[39margs: Any, \u001b[38;5;241m*\u001b[39m\u001b[38;5;241m*\u001b[39mkwargs: Any) \u001b[38;5;241m-\u001b[39m\u001b[38;5;241m>\u001b[39m Any:\n\u001b[0;32m---> 76\u001b[0m     \u001b[38;5;28;01mreturn\u001b[39;00m \u001b[43mwrapped_function\u001b[49m\u001b[43m(\u001b[49m\u001b[38;5;28;43mself\u001b[39;49m\u001b[43m,\u001b[49m\u001b[43m \u001b[49m\u001b[38;5;241;43m*\u001b[39;49m\u001b[43margs\u001b[49m\u001b[43m,\u001b[49m\u001b[43m \u001b[49m\u001b[38;5;241;43m*\u001b[39;49m\u001b[38;5;241;43m*\u001b[39;49m\u001b[43mkwargs\u001b[49m\u001b[43m)\u001b[49m\n",
      "File \u001b[0;32m~/.conda/envs/hfcs-fffit/lib/python3.11/site-packages/check_shapes/decorator.py:192\u001b[0m, in \u001b[0;36mcheck_shapes.<locals>._check_shapes.<locals>.wrapped_function\u001b[0;34m(*args, **kwargs)\u001b[0m\n\u001b[1;32m    190\u001b[0m \u001b[38;5;28;01mwith\u001b[39;00m set_shape_checker(checker):\n\u001b[1;32m    191\u001b[0m     \u001b[38;5;28;01mtry\u001b[39;00m:\n\u001b[0;32m--> 192\u001b[0m         result \u001b[38;5;241m=\u001b[39m \u001b[43mfunc\u001b[49m\u001b[43m(\u001b[49m\u001b[38;5;241;43m*\u001b[39;49m\u001b[43margs\u001b[49m\u001b[43m,\u001b[49m\u001b[43m \u001b[49m\u001b[38;5;241;43m*\u001b[39;49m\u001b[38;5;241;43m*\u001b[39;49m\u001b[43mkwargs\u001b[49m\u001b[43m)\u001b[49m\n\u001b[1;32m    193\u001b[0m     \u001b[38;5;28;01mexcept\u001b[39;00m \u001b[38;5;167;01mException\u001b[39;00m:\n\u001b[1;32m    194\u001b[0m         drop_stack_frame()\n",
      "File \u001b[0;32m~/.conda/envs/hfcs-fffit/lib/python3.11/site-packages/gpflow/posteriors.py:442\u001b[0m, in \u001b[0;36mGPRPosterior._conditional_fused\u001b[0;34m(self, Xnew, full_cov, full_output_cov)\u001b[0m\n\u001b[1;32m    434\u001b[0m \u001b[38;5;129m@inherit_check_shapes\u001b[39m\n\u001b[1;32m    435\u001b[0m \u001b[38;5;28;01mdef\u001b[39;00m \u001b[38;5;21m_conditional_fused\u001b[39m(\n\u001b[1;32m    436\u001b[0m     \u001b[38;5;28mself\u001b[39m, Xnew: TensorType, full_cov: \u001b[38;5;28mbool\u001b[39m \u001b[38;5;241m=\u001b[39m \u001b[38;5;28;01mFalse\u001b[39;00m, full_output_cov: \u001b[38;5;28mbool\u001b[39m \u001b[38;5;241m=\u001b[39m \u001b[38;5;28;01mFalse\u001b[39;00m\n\u001b[1;32m    437\u001b[0m ) \u001b[38;5;241m-\u001b[39m\u001b[38;5;241m>\u001b[39m MeanAndVariance:\n\u001b[1;32m    438\u001b[0m \u001b[38;5;250m    \u001b[39m\u001b[38;5;124;03m\"\"\"\u001b[39;00m\n\u001b[1;32m    439\u001b[0m \u001b[38;5;124;03m    Computes predictive mean and (co)variance at Xnew, *excluding* mean_function\u001b[39;00m\n\u001b[1;32m    440\u001b[0m \u001b[38;5;124;03m    Does not make use of caching\u001b[39;00m\n\u001b[1;32m    441\u001b[0m \u001b[38;5;124;03m    \"\"\"\u001b[39;00m\n\u001b[0;32m--> 442\u001b[0m     temp_cache \u001b[38;5;241m=\u001b[39m \u001b[38;5;28mtuple\u001b[39m(c\u001b[38;5;241m.\u001b[39mvalue \u001b[38;5;28;01mfor\u001b[39;00m c \u001b[38;5;129;01min\u001b[39;00m \u001b[38;5;28;43mself\u001b[39;49m\u001b[38;5;241;43m.\u001b[39;49m\u001b[43m_precompute\u001b[49m\u001b[43m(\u001b[49m\u001b[43m)\u001b[49m)\n\u001b[1;32m    443\u001b[0m     \u001b[38;5;28;01mreturn\u001b[39;00m \u001b[38;5;28mself\u001b[39m\u001b[38;5;241m.\u001b[39m_conditional_with_precompute(temp_cache, Xnew, full_cov, full_output_cov)\n",
      "File \u001b[0;32m~/.conda/envs/hfcs-fffit/lib/python3.11/site-packages/check_shapes/integration/tf.py:76\u001b[0m, in \u001b[0;36minstall_tf_integration.<locals>.TfWrapperPostProcessor.on_wrap.<locals>.wrapped_method\u001b[0;34m(self, *args, **kwargs)\u001b[0m\n\u001b[1;32m     75\u001b[0m \u001b[38;5;28;01mdef\u001b[39;00m \u001b[38;5;21mwrapped_method\u001b[39m(\u001b[38;5;28mself\u001b[39m: Any, \u001b[38;5;241m*\u001b[39margs: Any, \u001b[38;5;241m*\u001b[39m\u001b[38;5;241m*\u001b[39mkwargs: Any) \u001b[38;5;241m-\u001b[39m\u001b[38;5;241m>\u001b[39m Any:\n\u001b[0;32m---> 76\u001b[0m     \u001b[38;5;28;01mreturn\u001b[39;00m \u001b[43mwrapped_function\u001b[49m\u001b[43m(\u001b[49m\u001b[38;5;28;43mself\u001b[39;49m\u001b[43m,\u001b[49m\u001b[43m \u001b[49m\u001b[38;5;241;43m*\u001b[39;49m\u001b[43margs\u001b[49m\u001b[43m,\u001b[49m\u001b[43m \u001b[49m\u001b[38;5;241;43m*\u001b[39;49m\u001b[38;5;241;43m*\u001b[39;49m\u001b[43mkwargs\u001b[49m\u001b[43m)\u001b[49m\n",
      "File \u001b[0;32m~/.conda/envs/hfcs-fffit/lib/python3.11/site-packages/check_shapes/decorator.py:192\u001b[0m, in \u001b[0;36mcheck_shapes.<locals>._check_shapes.<locals>.wrapped_function\u001b[0;34m(*args, **kwargs)\u001b[0m\n\u001b[1;32m    190\u001b[0m \u001b[38;5;28;01mwith\u001b[39;00m set_shape_checker(checker):\n\u001b[1;32m    191\u001b[0m     \u001b[38;5;28;01mtry\u001b[39;00m:\n\u001b[0;32m--> 192\u001b[0m         result \u001b[38;5;241m=\u001b[39m \u001b[43mfunc\u001b[49m\u001b[43m(\u001b[49m\u001b[38;5;241;43m*\u001b[39;49m\u001b[43margs\u001b[49m\u001b[43m,\u001b[49m\u001b[43m \u001b[49m\u001b[38;5;241;43m*\u001b[39;49m\u001b[38;5;241;43m*\u001b[39;49m\u001b[43mkwargs\u001b[49m\u001b[43m)\u001b[49m\n\u001b[1;32m    193\u001b[0m     \u001b[38;5;28;01mexcept\u001b[39;00m \u001b[38;5;167;01mException\u001b[39;00m:\n\u001b[1;32m    194\u001b[0m         drop_stack_frame()\n",
      "File \u001b[0;32m~/.conda/envs/hfcs-fffit/lib/python3.11/site-packages/gpflow/posteriors.py:422\u001b[0m, in \u001b[0;36mGPRPosterior._precompute\u001b[0;34m(self)\u001b[0m\n\u001b[1;32m    420\u001b[0m Kmm \u001b[38;5;241m=\u001b[39m \u001b[38;5;28mself\u001b[39m\u001b[38;5;241m.\u001b[39mkernel(X_data)\n\u001b[1;32m    421\u001b[0m Kmm_plus_s \u001b[38;5;241m=\u001b[39m add_likelihood_noise_cov(Kmm, \u001b[38;5;28mself\u001b[39m\u001b[38;5;241m.\u001b[39mlikelihood, X_data)\n\u001b[0;32m--> 422\u001b[0m Lm \u001b[38;5;241m=\u001b[39m \u001b[43mtf\u001b[49m\u001b[38;5;241;43m.\u001b[39;49m\u001b[43mlinalg\u001b[49m\u001b[38;5;241;43m.\u001b[39;49m\u001b[43mcholesky\u001b[49m\u001b[43m(\u001b[49m\u001b[43mKmm_plus_s\u001b[49m\u001b[43m)\u001b[49m\n\u001b[1;32m    424\u001b[0m D \u001b[38;5;241m=\u001b[39m err\u001b[38;5;241m.\u001b[39mshape[\u001b[38;5;241m1\u001b[39m]\n\u001b[1;32m    425\u001b[0m M \u001b[38;5;241m=\u001b[39m X_data\u001b[38;5;241m.\u001b[39mshape[\u001b[38;5;241m0\u001b[39m]\n",
      "File \u001b[0;32m~/.conda/envs/hfcs-fffit/lib/python3.11/site-packages/tensorflow/python/ops/gen_linalg_ops.py:797\u001b[0m, in \u001b[0;36mcholesky\u001b[0;34m(input, name)\u001b[0m\n\u001b[1;32m    795\u001b[0m \u001b[38;5;28;01mif\u001b[39;00m tld\u001b[38;5;241m.\u001b[39mis_eager:\n\u001b[1;32m    796\u001b[0m   \u001b[38;5;28;01mtry\u001b[39;00m:\n\u001b[0;32m--> 797\u001b[0m     _result \u001b[38;5;241m=\u001b[39m \u001b[43mpywrap_tfe\u001b[49m\u001b[38;5;241;43m.\u001b[39;49m\u001b[43mTFE_Py_FastPathExecute\u001b[49m\u001b[43m(\u001b[49m\n\u001b[1;32m    798\u001b[0m \u001b[43m      \u001b[49m\u001b[43m_ctx\u001b[49m\u001b[43m,\u001b[49m\u001b[43m \u001b[49m\u001b[38;5;124;43m\"\u001b[39;49m\u001b[38;5;124;43mCholesky\u001b[39;49m\u001b[38;5;124;43m\"\u001b[39;49m\u001b[43m,\u001b[49m\u001b[43m \u001b[49m\u001b[43mname\u001b[49m\u001b[43m,\u001b[49m\u001b[43m \u001b[49m\u001b[38;5;28;43minput\u001b[39;49m\u001b[43m)\u001b[49m\n\u001b[1;32m    799\u001b[0m     \u001b[38;5;28;01mreturn\u001b[39;00m _result\n\u001b[1;32m    800\u001b[0m   \u001b[38;5;28;01mexcept\u001b[39;00m _core\u001b[38;5;241m.\u001b[39m_NotOkStatusException \u001b[38;5;28;01mas\u001b[39;00m e:\n",
      "\u001b[0;31mKeyboardInterrupt\u001b[0m: "
     ]
    }
   ],
   "source": [
    "molec = \"R32\"\n",
    "molec_data_dict = {molec:r32_class} #, \"R32\":r32_class, \"R50\":r50_class, \"R170\":r170_class, \"R125\":r125_class, \"R134a\":r134a_class, \"R143a\":r143a_class}\n",
    "all_gp_dict = opt_atom_types.get_gp_data_from_pkl(list(molec_data_dict.keys()))\n",
    "# all_gp_dict = {\"R14\" : {list(all_gp_dict[\"R14\"].keys())[0]: list(all_gp_dict[\"R14\"].values())[0]}}\n",
    "# all_gp_dict = {molec : all_gp_dict[molec]}\n",
    "at_optimizer =  opt_atom_types.Opt_ATs(molec_data_dict, all_gp_dict, at_class, repeats, seed, w_calc, obj_choice, save_data)\n",
    "ls_results = at_optimizer.optimize_ats()\n",
    "ls_results"
   ]
  },
  {
   "cell_type": "code",
   "execution_count": null,
   "metadata": {},
   "outputs": [],
   "source": [
    "# Determine the index of the row where column 'B' has the minimum value\n",
    "min_index = ls_results['Min Obj Cum.'].idxmin()\n",
    "\n",
    "# Retrieve the row corresponding to the minimum value in column 'B'\n",
    "min_row = ls_results.iloc[min_index]\n",
    "print(min_row)"
   ]
  },
  {
   "cell_type": "code",
   "execution_count": null,
   "metadata": {},
   "outputs": [],
   "source": [
    "first_param_name = at_optimizer.at_class.at_names[0] + \"_min\"\n",
    "last_param_name = at_optimizer.at_class.at_names[-1] + \"_min\"\n",
    "molec_best = ls_results.loc[21, first_param_name:last_param_name].values\n",
    "print(molec_best)"
   ]
  },
  {
   "cell_type": "code",
   "execution_count": null,
   "metadata": {},
   "outputs": [],
   "source": [
    "#Get best values from csvs\n",
    "def get_best_results(visual, molec_names):\n",
    "    best_vals = {}\n",
    "    #Get best_per_run.csv for all molecules\n",
    "    all_molec_dir = visual.make_results_dir(molec_names)\n",
    "    all_df = pd.read_csv(all_molec_dir+\"/best_per_run.csv\", header = 0)\n",
    "    # print(all_df)\n",
    "    first_param_name = visual.at_class.at_names[0] + \"_min\"\n",
    "    last_param_name = visual.at_class.at_names[-1] + \"_min\"\n",
    "    full_opt_best = all_df.loc[0, first_param_name:last_param_name].values\n",
    "    best_vals[\"All\"] = full_opt_best\n",
    "    for i in range(len(molec_names)):\n",
    "        molec_dir = visual.make_results_dir([molec_names[i]])\n",
    "        molec_df = pd.read_csv(molec_dir+\"/best_per_run.csv\", header = 0)\n",
    "        molec_best = molec_df.loc[0, first_param_name:last_param_name].values\n",
    "        best_vals[molec_names[i]] = molec_best\n",
    "    return best_vals"
   ]
  },
  {
   "cell_type": "code",
   "execution_count": null,
   "metadata": {},
   "outputs": [],
   "source": [
    "molec_data_dict = {\"R14\":r14_class, \"R32\":r32_class, \"R50\":r50_class, \"R170\":r170_class, \"R125\":r125_class, \"R134a\":r134a_class, \"R143a\":r143a_class}\n",
    "all_gp_dict = opt_atom_types.get_gp_data_from_pkl(list(molec_data_dict.keys()))\n",
    "at_optimizer =  opt_atom_types.Opt_ATs(molec_data_dict, all_gp_dict, at_class, repeats, seed, False, save_data)\n",
    "best_pref = np.array([3.002,\t4.000,\t1.500,\t3.231,\t3.394,\t2.927,\t38.333,\t75.000,\t10.000,\t50.000,\t50.000,\t36.598])\n",
    "# best_pref = ls_results.loc[121, \"sigma_C1_min\":\"epsilon_F_Hx_min\"].to_numpy()\n",
    "# best_real = at_optimizer.values_pref_to_real(best_pref)\n",
    "best_real= at_optimizer.values_pref_to_real(best_pref)\n",
    "obj = at_optimizer.calc_obj(best_real)\n",
    "print(obj[0])\n",
    "jac, hess = at_optimizer.approx_jac_hess(best_real)\n",
    "print(scipy.linalg.norm(jac, ord = np.inf))"
   ]
  },
  {
   "cell_type": "code",
   "execution_count": null,
   "metadata": {},
   "outputs": [],
   "source": [
    "molec_data_dict = {\"R32\":r32_class}#, \"R32\":r32_class, \"R50\":r50_class, \"R170\":r170_class, \"R125\":r125_class, \"R134a\":r134a_class, \"R143a\":r143a_class}\n",
    "all_gp_dict = opt_atom_types.get_gp_data_from_pkl(list(molec_data_dict.keys()))\n",
    "\n",
    "visual = opt_atom_types.Vis_Results(molec_data_dict, all_gp_dict, at_class, scl_w, save_data)\n",
    "best_set = best_pref\n",
    "visual.plot_obj_hms(best_set)"
   ]
  },
  {
   "cell_type": "raw",
   "metadata": {},
   "source": [
    "#Get best set from optimization\n",
    "best_set = np.array([2.89631543,\t4,\t1.5,\t3.1945792,\t2.23150945,\t3.07915865,\t75,\t75,\t9.9999988,\t29.9003147,\t50,\t50])\n",
    "midpoint = len(best_set) //2\n",
    "sigmas = [float((x * u.Angstrom).in_units(u.nm).value) for x in best_set[:midpoint]]\n",
    "epsilons = [float(x * (u.K * u.kb).in_units(\"kJ/mol\")) for x in best_set[midpoint:]]\n",
    "best_set = np.array(sigmas + epsilons)\n",
    "\n",
    "l2norm_min = np.inf\n",
    "#Get training data\n",
    "for key in list(molec_data_dict.keys()):\n",
    "    #Get param that is comparable with GP\n",
    "    param_matrix = at_class.get_transformation_matrix(key)\n",
    "    gp_theta = best_set.reshape(1,-1)@param_matrix\n",
    "    gp_theta_best = values_real_to_scaled(gp_theta, molec_data_dict[key].param_bounds)\n",
    "    train_data, test_data = opt_atom_types.get_train_test_data(key, list(all_gp_dict[key].keys()))\n",
    "    #Get the training set closest to the parameter set\n",
    "    #Calc L2 Norm\n",
    "    distances = np.linalg.norm(train_data['x'][:,:-1] - gp_theta_best, ord = 2, axis=1)\n",
    "    if np.min(distances) < l2norm_min:\n",
    "        l2norm_min = np.min(distances)\n",
    "        # Find the index of the row with the smallest distance\n",
    "        closest_index = np.argmin(distances)\n",
    "        # Get the row that is closest to best attay\n",
    "        closest_row_parms = train_data['x'][closest_index, :-1].reshape(-1,1)\n",
    "        closest_row = values_scaled_to_real(closest_row_parms.T, molec_data_dict[key].param_bounds)\n",
    "        key_best = key\n",
    "        gp_theta_match = gp_theta\n",
    "        gp_theta_org = gp_theta\n",
    "\n",
    "print(key_best)        \n",
    "print(\"closest training param set \\n\", closest_row)\n",
    "print(\"best param set \\n\",gp_theta_match)\n",
    "print(\"l2 norm \\n\", l2norm_min)"
   ]
  }
 ],
 "metadata": {
  "kernelspec": {
   "display_name": "Python 3 (ipykernel)",
   "language": "python",
   "name": "python3"
  },
  "language_info": {
   "codemirror_mode": {
    "name": "ipython",
    "version": 3
   },
   "file_extension": ".py",
   "mimetype": "text/x-python",
   "name": "python",
   "nbconvert_exporter": "python",
   "pygments_lexer": "ipython3",
   "version": "3.11.7"
  }
 },
 "nbformat": 4,
 "nbformat_minor": 4
}
