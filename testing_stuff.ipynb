{
 "cells": [
  {
   "cell_type": "code",
   "execution_count": 1,
   "metadata": {},
   "outputs": [
    {
     "name": "stderr",
     "output_type": "stream",
     "text": [
      "2024-06-24 14:02:21.716012: I external/local_tsl/tsl/cuda/cudart_stub.cc:31] Could not find cuda drivers on your machine, GPU will not be used.\n",
      "2024-06-24 14:02:22.775607: E external/local_xla/xla/stream_executor/cuda/cuda_dnn.cc:9261] Unable to register cuDNN factory: Attempting to register factory for plugin cuDNN when one has already been registered\n",
      "2024-06-24 14:02:22.775716: E external/local_xla/xla/stream_executor/cuda/cuda_fft.cc:607] Unable to register cuFFT factory: Attempting to register factory for plugin cuFFT when one has already been registered\n",
      "2024-06-24 14:02:22.920767: E external/local_xla/xla/stream_executor/cuda/cuda_blas.cc:1515] Unable to register cuBLAS factory: Attempting to register factory for plugin cuBLAS when one has already been registered\n",
      "2024-06-24 14:02:23.214510: I external/local_tsl/tsl/cuda/cudart_stub.cc:31] Could not find cuda drivers on your machine, GPU will not be used.\n",
      "2024-06-24 14:02:23.215579: I tensorflow/core/platform/cpu_feature_guard.cc:182] This TensorFlow binary is optimized to use available CPU instructions in performance-critical operations.\n",
      "To enable the following instructions: AVX2 FMA, in other operations, rebuild TensorFlow with the appropriate compiler flags.\n",
      "2024-06-24 14:02:35.488271: W tensorflow/compiler/tf2tensorrt/utils/py_utils.cc:38] TF-TRT Warning: Could not find TensorRT\n"
     ]
    }
   ],
   "source": [
    "from utils.molec_class_files import r14, r32, r50, r125, r134a, r143a, r170, r41, r23, r161, r152a, r152, r134, r143, r116\n",
    "from utils import atom_type, opt_atom_types\n",
    "import numpy as np\n",
    "import unyt as u\n",
    "import pandas as pd\n",
    "from fffit.fffit.utils import values_real_to_scaled, values_scaled_to_real, variances_scaled_to_real, generate_lhs\n",
    "from fffit.fffit.plot import plot_obj_contour\n",
    "import os\n",
    "\n",
    "#Load class properies for each molecule\n",
    "r14_class = r14.R14Constants()\n",
    "r32_class = r32.R32Constants()\n",
    "r50_class = r50.R50Constants()\n",
    "r125_class = r125.R125Constants()\n",
    "r134a_class = r134a.R134aConstants()\n",
    "r143a_class = r143a.R143aConstants()\n",
    "r170_class = r170.R170Constants()\n",
    "\n",
    "r41_class = r41.R41Constants()\n",
    "r23_class = r23.R23Constants()\n",
    "r161_class = r161.R161Constants()\n",
    "r152a_class = r152a.R152aConstants()\n",
    "r152_class = r152.R152Constants()\n",
    "r143_class = r143.R143Constants()\n",
    "r134_class = r134.R134Constants()\n",
    "r116_class = r116.R116Constants()"
   ]
  },
  {
   "cell_type": "code",
   "execution_count": 2,
   "metadata": {},
   "outputs": [],
   "source": [
    "#Get obj from a set of parameters\n",
    "import copy\n",
    "at_class = atom_type.AT_Scheme_11()\n",
    "save_data = True\n",
    "obj_choice = \"ExpVal\"\n",
    "molec_data_dict = {\"R14\":r14_class, \"R32\":r32_class, \"R50\":r50_class, \"R170\":r170_class, \"R125\":r125_class, \"R134a\":r134a_class, \"R143a\":r143a_class}\n",
    "all_gp_dict = opt_atom_types.get_gp_data_from_pkl(list(molec_data_dict.keys()))\n",
    "problem_setup = opt_atom_types.Problem_Setup(molec_data_dict, all_gp_dict, at_class, obj_choice)\n",
    "\n",
    "#Best set from Experiment\n",
    "#Set parameter set of interest (in this case get the best parameter set)\n",
    "all_molec_dir = problem_setup.make_results_dir(list(molec_data_dict.keys()))\n",
    "path_best_sets = os.path.join(all_molec_dir, \"best_per_run.csv\")\n",
    "assert os.path.exists(path_best_sets), \"best_per_run.csv not found in directory\"\n",
    "all_df = pd.read_csv(path_best_sets, header = 0)\n",
    "first_param_name = problem_setup.at_class.at_names[0] + \"_min\"\n",
    "last_param_name = problem_setup.at_class.at_names[-1] + \"_min\"\n",
    "best_set = all_df.loc[0, first_param_name:last_param_name].values\n",
    "best_real = problem_setup.values_pref_to_real(copy.copy(best_set))\n",
    " #Unscale data from 0 to 1 to get correct objective values\n",
    "at_bounds_pref = at_class.at_bounds_nm_kjmol\n",
    "theta_guess = values_real_to_scaled(best_real.reshape(1,-1), at_bounds_pref)"
   ]
  },
  {
   "cell_type": "code",
   "execution_count": 4,
   "metadata": {},
   "outputs": [],
   "source": [
    "repeats = 1\n",
    "seed =1\n",
    "setup = opt_atom_types.Opt_ATs(molec_data_dict, all_gp_dict, at_class, repeats, seed, obj_choice)\n",
    "rank_parameters, n_data = setup.rank_parameters(best_real)"
   ]
  },
  {
   "cell_type": "code",
   "execution_count": null,
   "metadata": {},
   "outputs": [],
   "source": [
    "opt_num_params, rcc, loss_k, loss_k_params = setup.estimate_opt(theta_guess, rank_parameters, n_data)\n",
    "print(\"Optimal number of parameters: \", opt_num_params)\n",
    "print(\"RCC: \", rcc)\n",
    "print(\"Best Param Set: \", loss_k_params[opt_num_params-1])"
   ]
  },
  {
   "cell_type": "code",
   "execution_count": null,
   "metadata": {},
   "outputs": [],
   "source": [
    "import numpy as np\n",
    "import numdifftools as nd\n",
    "fun = lambda x: problem_setup.calc_fxn(x)\n",
    "dfun = nd.Gradient(fun)\n",
    "gradient = dfun([theta_guess])"
   ]
  },
  {
   "cell_type": "code",
   "execution_count": null,
   "metadata": {},
   "outputs": [],
   "source": [
    "gradient_scl = gradient*theta_guess\n",
    "print(gradient_scl.shape)"
   ]
  },
  {
   "cell_type": "code",
   "execution_count": null,
   "metadata": {},
   "outputs": [],
   "source": [
    "import numpy as np\n",
    "from numpy.linalg import norm\n",
    "from scipy.linalg import lstsq\n",
    "\n",
    "def rank_parameters(Z):\n",
    "    # Step 1: Calculate the magnitude of each column in Z\n",
    "    column_magnitudes = norm(Z, axis=0)\n",
    "    \n",
    "    # Initialize variables\n",
    "    ranked_indices = []  # To keep track of ranked parameter indices\n",
    "    k = 1\n",
    "    n, m = Z.shape\n",
    "\n",
    "    while k <= m:\n",
    "        if k == 1:\n",
    "            # Step 2: Identify the most estimable parameter\n",
    "            max_index = np.argmax(column_magnitudes)\n",
    "            ranked_indices.append(max_index)\n",
    "        else:\n",
    "            # Step 3: Build X_k with the k most estimable columns\n",
    "            X_k = Z[:, ranked_indices]\n",
    "\n",
    "            # Predict Z using ordinary least-squares\n",
    "            Z_hat, _, _, _ = lstsq(X_k, Z)\n",
    "\n",
    "            # Calculate the residual matrix R_k\n",
    "            R_k = Z - X_k @ Z_hat\n",
    "\n",
    "            # Step 4: Calculate the magnitude of each column in R_k\n",
    "            residual_magnitudes = norm(R_k, axis=0)\n",
    "\n",
    "            # Step 5: Determine the next most estimable parameter\n",
    "            # Ensure we pick a column that hasn't been ranked yet\n",
    "            for idx in np.argsort(-residual_magnitudes):\n",
    "                if idx not in ranked_indices:\n",
    "                    ranked_indices.append(idx)\n",
    "                    break\n",
    "        \n",
    "        k += 1  # Step 6: Increase k and repeat\n",
    "\n",
    "    return ranked_indices\n",
    "\n",
    "# Example usage\n",
    "Z = gradient_scl\n",
    "ranked_params = rank_parameters(Z)\n",
    "print(\"Ranked parameters (indices):\", ranked_params)\n",
    "value = [at_class.at_names[param] for param in ranked_params]\n",
    "print(value)"
   ]
  },
  {
   "cell_type": "code",
   "execution_count": null,
   "metadata": {},
   "outputs": [],
   "source": []
  }
 ],
 "metadata": {
  "kernelspec": {
   "display_name": "hfcs-fffit",
   "language": "python",
   "name": "python3"
  },
  "language_info": {
   "codemirror_mode": {
    "name": "ipython",
    "version": 3
   },
   "file_extension": ".py",
   "mimetype": "text/x-python",
   "name": "python",
   "nbconvert_exporter": "python",
   "pygments_lexer": "ipython3",
   "version": "3.11.7"
  }
 },
 "nbformat": 4,
 "nbformat_minor": 2
}
