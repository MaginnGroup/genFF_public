{
 "cells": [
  {
   "cell_type": "code",
   "execution_count": null,
   "metadata": {},
   "outputs": [
    {
     "name": "stderr",
     "output_type": "stream",
     "text": [
      "/afs/crc.nd.edu/user/m/mcarlozo/.conda/envs/hfcs-fffit/lib/python3.11/site-packages/mdtraj/formats/__init__.py:6: DeprecationWarning: 'xdrlib' is deprecated and slated for removal in Python 3.13\n",
      "  from .xtc import XTCTrajectoryFile\n",
      "/afs/crc.nd.edu/user/m/mcarlozo/.conda/envs/hfcs-fffit/lib/python3.11/site-packages/mbuild/recipes/__init__.py:13: DeprecationWarning: SelectableGroups dict interface is deprecated. Use select.\n",
      "  entry_points = metadata.entry_points()[\"mbuild.plugins\"]\n"
     ]
    },
    {
     "name": "stdout",
     "output_type": "stream",
     "text": [
      "/scratch365/mcarlozo/generalizedFF/mc_bug_test\n"
     ]
    }
   ],
   "source": [
    "import mosdef_cassandra as mc\n",
    "import numpy as np\n",
    "import os\n",
    "from pathlib import Path\n",
    "# os.chdir(os.getcwd() + \"/mc_bug_test\")\n",
    "# print(os.getcwd())"
   ]
  },
  {
   "cell_type": "code",
   "execution_count": 3,
   "metadata": {},
   "outputs": [],
   "source": [
    "def has_checkpoint(run_name):\n",
    "    \"\"\"Check whether there is a checkpoint for run_name.\"\"\"\n",
    "    fname = run_name + \".out.chk\"\n",
    "    return os.path.exists(fname)\n",
    "\n",
    "def check_complete(run_name):\n",
    "    \"\"\"Check whether MoSDeF Cassandra simulation with run_name or its last restart has completed.\"\"\"\n",
    "    complete = False\n",
    "    fname = run_name + \".out.log\"\n",
    "    loglist = list_with_restarts(fname)\n",
    "    if not loglist:\n",
    "        return complete\n",
    "    with loglist[-1].open() as f:\n",
    "        for line in f:\n",
    "            if \"Cassandra simulation complete\" in line:\n",
    "                complete = True\n",
    "                break\n",
    "    return complete\n",
    "\n",
    "def list_with_restarts(fpath):\n",
    "    \"\"\"List fpath and its restart versions in order as pathlib Path objects.\"\"\"\n",
    "    fpath = Path(fpath)\n",
    "    if not fpath.exists():\n",
    "        return []\n",
    "    parent = fpath.parent\n",
    "    fname = fpath.name\n",
    "    fnamesplit = fname.split(\".out.\")\n",
    "    run_name = fnamesplit[0]\n",
    "    suffix = fnamesplit[1]\n",
    "    restarts = [\n",
    "        Path(parent, f)\n",
    "        for f in sorted(list(parent.glob(run_name + \".rst.*.out.\" + suffix)))\n",
    "    ]\n",
    "    restarts.insert(0, fpath)  # prepend fpath to list of restarts\n",
    "    return restarts\n",
    "\n",
    "def get_last_checkpoint(run_name):\n",
    "    \"\"\"Get name of last restart based on run_name.\"\"\"\n",
    "    fname = run_name + \".out.chk\"\n",
    "    return list_with_restarts(fname)[-1].name.split(\".out.\")[0]"
   ]
  },
  {
   "cell_type": "code",
   "execution_count": 7,
   "metadata": {},
   "outputs": [
    {
     "name": "stdout",
     "output_type": "stream",
     "text": [
      "gemc.eq.rst.001\n",
      "gemc.eq.rst.002\n",
      "No checkpoint found for gemc.eq.rst.002\n",
      "Using the following executables for Cassandra:\n",
      "Python: /afs/crc.nd.edu/user/m/mcarlozo/.conda/envs/hfcs-fffit/bin/python\n",
      "library_setup: /afs/crc.nd.edu/user/m/mcarlozo/.conda/envs/hfcs-fffit/bin/library_setup.py\n",
      "Cassandra: /afs/crc.nd.edu/user/m/mcarlozo/.conda/envs/hfcs-fffit/bin/cassandra.exe\n"
     ]
    },
    {
     "ename": "IndexError",
     "evalue": "string index out of range",
     "output_type": "error",
     "traceback": [
      "\u001b[0;31m---------------------------------------------------------------------------\u001b[0m",
      "\u001b[0;31mIndexError\u001b[0m                                Traceback (most recent call last)",
      "Cell \u001b[0;32mIn[7], line 9\u001b[0m\n\u001b[1;32m      7\u001b[0m \u001b[38;5;28;01mif\u001b[39;00m \u001b[38;5;129;01mnot\u001b[39;00m has_checkpoint(this_run):\n\u001b[1;32m      8\u001b[0m     \u001b[38;5;28mprint\u001b[39m(\u001b[38;5;124m\"\u001b[39m\u001b[38;5;124mNo checkpoint found for\u001b[39m\u001b[38;5;124m\"\u001b[39m, this_run)\n\u001b[0;32m----> 9\u001b[0m     \u001b[43mmc\u001b[49m\u001b[38;5;241;43m.\u001b[39;49m\u001b[43mrestart\u001b[49m\u001b[43m(\u001b[49m\n\u001b[1;32m     10\u001b[0m \u001b[43m        \u001b[49m\u001b[43mrestart_from\u001b[49m\u001b[38;5;241;43m=\u001b[39;49m\u001b[43mprior_run\u001b[49m\u001b[43m,\u001b[49m\n\u001b[1;32m     11\u001b[0m \u001b[43m        \u001b[49m\u001b[43mrun_name\u001b[49m\u001b[38;5;241;43m=\u001b[39;49m\u001b[43mthis_run\u001b[49m\u001b[43m,\u001b[49m\n\u001b[1;32m     12\u001b[0m \u001b[43m        \u001b[49m\u001b[43mrun_type\u001b[49m\u001b[38;5;241;43m=\u001b[39;49m\u001b[38;5;124;43m\"\u001b[39;49m\u001b[38;5;124;43mequilibration\u001b[39;49m\u001b[38;5;124;43m\"\u001b[39;49m\u001b[43m,\u001b[49m\n\u001b[1;32m     13\u001b[0m \u001b[43m        \u001b[49m\u001b[43mtotal_run_length\u001b[49m\u001b[38;5;241;43m=\u001b[39;49m\u001b[43mcycles_done\u001b[49m\u001b[43m \u001b[49m\u001b[38;5;241;43m+\u001b[39;49m\u001b[43m \u001b[49m\u001b[43mequil_length\u001b[49m\u001b[43m,\u001b[49m\n\u001b[1;32m     14\u001b[0m \u001b[43m    \u001b[49m\u001b[43m)\u001b[49m\n\u001b[1;32m     15\u001b[0m \u001b[38;5;28;01melif\u001b[39;00m \u001b[38;5;129;01mnot\u001b[39;00m check_complete(this_run):\n\u001b[1;32m     16\u001b[0m     \u001b[38;5;28mprint\u001b[39m(\u001b[38;5;124m\"\u001b[39m\u001b[38;5;124mRestarting from\u001b[39m\u001b[38;5;124m\"\u001b[39m, get_last_checkpoint(this_run))\n",
      "File \u001b[0;32m~/.conda/envs/hfcs-fffit/lib/python3.11/site-packages/mosdef_cassandra/runners/runners.py:168\u001b[0m, in \u001b[0;36mrestart\u001b[0;34m(total_run_length, restart_from, run_name, run_type)\u001b[0m\n\u001b[1;32m    163\u001b[0m \u001b[38;5;28;01mif\u001b[39;00m \u001b[38;5;129;01mnot\u001b[39;00m os\u001b[38;5;241m.\u001b[39mpath\u001b[38;5;241m.\u001b[39misfile(checkpoint_name):\n\u001b[1;32m    164\u001b[0m     \u001b[38;5;28;01mraise\u001b[39;00m \u001b[38;5;167;01mFileNotFoundError\u001b[39;00m(\n\u001b[1;32m    165\u001b[0m         \u001b[38;5;124mf\u001b[39m\u001b[38;5;124m\"\u001b[39m\u001b[38;5;124mCheckpoint file: \u001b[39m\u001b[38;5;132;01m{\u001b[39;00mcheckpoint_name\u001b[38;5;132;01m}\u001b[39;00m\u001b[38;5;124m does not exist.\u001b[39m\u001b[38;5;124m\"\u001b[39m\n\u001b[1;32m    166\u001b[0m     )\n\u001b[0;32m--> 168\u001b[0m \u001b[43mwrite_restart_input\u001b[49m\u001b[43m(\u001b[49m\u001b[43mrestart_from\u001b[49m\u001b[43m,\u001b[49m\u001b[43m \u001b[49m\u001b[43mrun_name\u001b[49m\u001b[43m,\u001b[49m\u001b[43m \u001b[49m\u001b[43mrun_type\u001b[49m\u001b[43m,\u001b[49m\u001b[43m \u001b[49m\u001b[43mtotal_run_length\u001b[49m\u001b[43m)\u001b[49m\n\u001b[1;32m    170\u001b[0m log_file \u001b[38;5;241m=\u001b[39m \u001b[38;5;124m\"\u001b[39m\u001b[38;5;124mmosdef_cassandra_\u001b[39m\u001b[38;5;132;01m{}\u001b[39;00m\u001b[38;5;124m.log\u001b[39m\u001b[38;5;124m\"\u001b[39m\u001b[38;5;241m.\u001b[39mformat(\n\u001b[1;32m    171\u001b[0m     datetime\u001b[38;5;241m.\u001b[39mdatetime\u001b[38;5;241m.\u001b[39mnow()\u001b[38;5;241m.\u001b[39mstrftime(\u001b[38;5;124m\"\u001b[39m\u001b[38;5;124m%\u001b[39m\u001b[38;5;124mY-\u001b[39m\u001b[38;5;124m%\u001b[39m\u001b[38;5;124mm-\u001b[39m\u001b[38;5;132;01m%d\u001b[39;00m\u001b[38;5;124m_\u001b[39m\u001b[38;5;124m%\u001b[39m\u001b[38;5;124mH:\u001b[39m\u001b[38;5;124m%\u001b[39m\u001b[38;5;124mM:\u001b[39m\u001b[38;5;124m%\u001b[39m\u001b[38;5;124mS.\u001b[39m\u001b[38;5;132;01m%f\u001b[39;00m\u001b[38;5;124m\"\u001b[39m)\n\u001b[1;32m    172\u001b[0m )\n\u001b[1;32m    174\u001b[0m \u001b[38;5;28mprint\u001b[39m(\u001b[38;5;124m\"\u001b[39m\u001b[38;5;124mRunning Cassandra...\u001b[39m\u001b[38;5;124m\"\u001b[39m)\n",
      "File \u001b[0;32m~/.conda/envs/hfcs-fffit/lib/python3.11/site-packages/mosdef_cassandra/writers/writers.py:114\u001b[0m, in \u001b[0;36mwrite_restart_input\u001b[0;34m(restart_from, run_name, run_type, run_length)\u001b[0m\n\u001b[1;32m    112\u001b[0m \u001b[38;5;28;01mdef\u001b[39;00m \u001b[38;5;21mwrite_restart_input\u001b[39m(restart_from, run_name, run_type, run_length):\n\u001b[1;32m    113\u001b[0m \u001b[38;5;250m    \u001b[39m\u001b[38;5;124;03m\"\"\"Write an input file for a restart run\"\"\"\u001b[39;00m\n\u001b[0;32m--> 114\u001b[0m     input_contents \u001b[38;5;241m=\u001b[39m \u001b[43m_generate_restart_inp\u001b[49m\u001b[43m(\u001b[49m\n\u001b[1;32m    115\u001b[0m \u001b[43m        \u001b[49m\u001b[43mrestart_from\u001b[49m\u001b[43m,\u001b[49m\u001b[43m \u001b[49m\u001b[43mrun_name\u001b[49m\u001b[43m,\u001b[49m\u001b[43m \u001b[49m\u001b[43mrun_type\u001b[49m\u001b[43m,\u001b[49m\u001b[43m \u001b[49m\u001b[43mrun_length\u001b[49m\n\u001b[1;32m    116\u001b[0m \u001b[43m    \u001b[49m\u001b[43m)\u001b[49m\n\u001b[1;32m    117\u001b[0m     \u001b[38;5;28;01mwith\u001b[39;00m \u001b[38;5;28mopen\u001b[39m(run_name \u001b[38;5;241m+\u001b[39m \u001b[38;5;124m\"\u001b[39m\u001b[38;5;124m.inp\u001b[39m\u001b[38;5;124m\"\u001b[39m, \u001b[38;5;124m\"\u001b[39m\u001b[38;5;124mw\u001b[39m\u001b[38;5;124m\"\u001b[39m) \u001b[38;5;28;01mas\u001b[39;00m f:\n\u001b[1;32m    118\u001b[0m         f\u001b[38;5;241m.\u001b[39mwrite(input_contents)\n",
      "File \u001b[0;32m~/.conda/envs/hfcs-fffit/lib/python3.11/site-packages/mosdef_cassandra/writers/writers.py:142\u001b[0m, in \u001b[0;36m_generate_restart_inp\u001b[0;34m(restart_from, run_name, run_type, run_length)\u001b[0m\n\u001b[1;32m    140\u001b[0m     inp_contents[idx \u001b[38;5;241m+\u001b[39m \u001b[38;5;241m1\u001b[39m] \u001b[38;5;241m=\u001b[39m \u001b[38;5;124m\"\u001b[39m\u001b[38;5;124mcheckpoint \u001b[39m\u001b[38;5;124m\"\u001b[39m \u001b[38;5;241m+\u001b[39m restart_from \u001b[38;5;241m+\u001b[39m \u001b[38;5;124m\"\u001b[39m\u001b[38;5;124m.out.chk\u001b[39m\u001b[38;5;124m\"\u001b[39m\n\u001b[1;32m    141\u001b[0m     \u001b[38;5;66;03m# In case this is a two-box system\u001b[39;00m\n\u001b[0;32m--> 142\u001b[0m     \u001b[38;5;28;01mif\u001b[39;00m \u001b[43minp_contents\u001b[49m\u001b[43m[\u001b[49m\u001b[43midx\u001b[49m\u001b[43m \u001b[49m\u001b[38;5;241;43m+\u001b[39;49m\u001b[43m \u001b[49m\u001b[38;5;241;43m2\u001b[39;49m\u001b[43m]\u001b[49m\u001b[43m[\u001b[49m\u001b[38;5;241;43m0\u001b[39;49m\u001b[43m]\u001b[49m \u001b[38;5;241m!=\u001b[39m \u001b[38;5;124m\"\u001b[39m\u001b[38;5;124m!\u001b[39m\u001b[38;5;124m\"\u001b[39m:\n\u001b[1;32m    143\u001b[0m         inp_contents[idx \u001b[38;5;241m+\u001b[39m \u001b[38;5;241m2\u001b[39m] \u001b[38;5;241m=\u001b[39m \u001b[38;5;124m\"\u001b[39m\u001b[38;5;124m\"\u001b[39m\n\u001b[1;32m    144\u001b[0m \u001b[38;5;28;01mif\u001b[39;00m run_type \u001b[38;5;129;01mis\u001b[39;00m \u001b[38;5;129;01mnot\u001b[39;00m \u001b[38;5;28;01mNone\u001b[39;00m:\n",
      "\u001b[0;31mIndexError\u001b[0m: string index out of range"
     ]
    }
   ],
   "source": [
    "prior_run = \"gemc.eq\"\n",
    "cycles_done = 10000\n",
    "equil_length = 500\n",
    "for i in range(2):\n",
    "    this_run = f\"gemc.eq.rst.{i+1:03d}\"\n",
    "    print(this_run)\n",
    "    if not has_checkpoint(this_run):\n",
    "        print(\"No checkpoint found for\", this_run)\n",
    "        mc.restart(\n",
    "            restart_from=prior_run,\n",
    "            run_name=this_run,\n",
    "            run_type=\"equilibration\",\n",
    "            total_run_length=cycles_done + equil_length,\n",
    "        )\n",
    "    elif not check_complete(this_run):\n",
    "        print(\"Restarting from\", get_last_checkpoint(this_run))\n",
    "        mc.restart(\n",
    "            restart_from=get_last_checkpoint(this_run),\n",
    "        )\n",
    "    cycles_done += equil_length\n",
    "    prior_run = this_run"
   ]
  },
  {
   "cell_type": "code",
   "execution_count": null,
   "metadata": {},
   "outputs": [],
   "source": []
  }
 ],
 "metadata": {
  "kernelspec": {
   "display_name": "hfcs-fffit",
   "language": "python",
   "name": "python3"
  },
  "language_info": {
   "codemirror_mode": {
    "name": "ipython",
    "version": 3
   },
   "file_extension": ".py",
   "mimetype": "text/x-python",
   "name": "python",
   "nbconvert_exporter": "python",
   "pygments_lexer": "ipython3",
   "version": "3.11.7"
  }
 },
 "nbformat": 4,
 "nbformat_minor": 2
}
